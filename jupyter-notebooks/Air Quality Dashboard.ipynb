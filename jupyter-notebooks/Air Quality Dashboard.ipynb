{
 "cells": [
  {
   "cell_type": "markdown",
   "metadata": {
    "extensions": {
     "jupyter_dashboards": {
      "version": 1,
      "views": {
       "grid_default": {
        "col": 0,
        "height": 4,
        "hidden": false,
        "row": 0,
        "width": 4
       },
       "report_default": {}
      }
     }
    }
   },
   "source": [
    "## Air Quality Dashboard\n",
    "This notebook shows how to use IPython Widgets to display the air quality using Grove Sensors."
   ]
  },
  {
   "cell_type": "code",
   "execution_count": 6,
   "metadata": {
    "extensions": {
     "jupyter_dashboards": {
      "version": 1,
      "views": {
       "grid_default": {
        "hidden": true
       },
       "report_default": {}
      }
     }
    }
   },
   "outputs": [
    {
     "name": "stdout",
     "output_type": "stream",
     "text": [
      "Requested overlay is already loaded.\n",
      "Overlay __del__ was activated.\n",
      "But since there are garbage collection ordering issues, this code is commented out.\n"
     ]
    }
   ],
   "source": [
    "from __future__ import print_function\n",
    "from ipywidgets import interact, interactive, fixed, interact_manual\n",
    "import ipywidgets as widgets\n",
    "from ipywidgets import Button, HBox, VBox\n",
    "import random\n",
    "import threading\n",
    "from IPython.display import display\n",
    "import time\n",
    "import math\n",
    "from redpitaya.overlay.mercury import mercury as FPGA\n",
    "\n",
    "%matplotlib notebook\n",
    "import matplotlib\n",
    "import numpy as np\n",
    "import matplotlib.pyplot as plt\n",
    "import matplotlib.dates as mdates\n",
    "from matplotlib.animation import FuncAnimation\n",
    "from IPython.display import display, clear_output\n",
    "from datetime import datetime, date\n",
    "import pandas as pd\n",
    "\n",
    "\n",
    "overlay = FPGA()\n",
    "ANALOG_TEMP = FPGA.analog_in(1) # define which pin will be used for temperature sensor"
   ]
  },
  {
   "cell_type": "code",
   "execution_count": 7,
   "metadata": {
    "collapsed": true
   },
   "outputs": [],
   "source": [
    "def res_to_temp(Rntc):\n",
    "    B = 4275; # B value of the thermistor\n",
    "    return (1.0/(math.log10(Rntc/100000.0)/B+1/298.15)-273.15) #convert to temperature via datasheet \n",
    "temp = [ res_to_temp(R) for R in range(10000,300000,100)]\n",
    "\n",
    "def temp():\n",
    "    Va0=ANALOG_TEMP.read() # read voltage of sensor\n",
    "    R0 = 100000;       # R0 = 100k\n",
    "    Rntc = 3.3/(Va0)-1.0 \n",
    "    Rntc = 100000.0*Rntc # thermistor resistance\n",
    "    return (res_to_temp(Rntc),Va0);\n",
    "latest_temp=temp()"
   ]
  },
  {
   "cell_type": "code",
   "execution_count": 8,
   "metadata": {},
   "outputs": [],
   "source": [
    "voc_air_pin = FPGA.analog_in(2) # define which pin will be used for VOC sensor\n",
    "voc_air = voc_air_pin.read()\n",
    "voc_air = 0.053 #Refrence value with no voc\n",
    "voc_volt = voc_air_pin.read()\n",
    "voc_gas = voc_volt/(5.0)\n",
    "voc_ratio = (voc_gas/voc_air)*3"
   ]
  },
  {
   "cell_type": "code",
   "execution_count": 9,
   "metadata": {
    "collapsed": true
   },
   "outputs": [],
   "source": [
    "ANALOG_Alcohol_pin = FPGA.analog_in(3) # define which pin will be used for alcohol sensor\n",
    "Alcohol_air = ANALOG_Alcohol_pin.read()\n",
    "Alcohol_volt = ANALOG_Alcohol_pin.read()\n",
    "Alcohol_gas = Alcohol_volt/(5.0-Alcohol_volt)\n",
    "#Scale the result to be between 2.0 and 30.0 to keep on a similar scale to temperature\n",
    "Alcohol_ratio = (1/(Alcohol_gas/1.85))*2"
   ]
  },
  {
   "cell_type": "code",
   "execution_count": 10,
   "metadata": {
    "scrolled": true
   },
   "outputs": [
    {
     "data": {
      "application/vnd.jupyter.widget-view+json": {
       "model_id": "2b4024709548425c866a7a83b93c1524",
       "version_major": 2,
       "version_minor": 0
      },
      "text/plain": [
       "VBox(children=(HBox(children=(FloatProgress(value=1.0, bar_style='info', description='VOC Air:', max=1.0, styl…"
      ]
     },
     "metadata": {},
     "output_type": "display_data"
    }
   ],
   "source": [
    "voc_bar = widgets.widgets.FloatProgress(\n",
    "    value=voc_ratio,\n",
    "    min=0,\n",
    "    max=1.0,\n",
    "    description='VOC Air:',\n",
    "    bar_style='info',\n",
    "    style={'bar_color': '#fcdb03'},\n",
    "    orientation='horizontal',\n",
    "    readout=True,\n",
    "    readout_format='.1f',\n",
    ")\n",
    "voc_label = widgets.FloatText(\n",
    "    value=voc_bar.value,\n",
    "#    description='Any:',\n",
    "    disabled=True\n",
    ")\n",
    "\n",
    "temp_bar = widgets.widgets.FloatProgress(\n",
    "    value=latest_temp[0],\n",
    "    min=0,\n",
    "    max=36.0,\n",
    "    description='Temperature:',\n",
    "    bar_style='info',\n",
    "    style={'bar_color': '#4ba329'},\n",
    "    orientation='horizontal'\n",
    ")\n",
    "\n",
    "temp_slider = widgets.FloatSlider(\n",
    "    value=latest_temp[0],\n",
    "    min=0,\n",
    "    max=36.0,\n",
    "    step=0.1,\n",
    "    description='Test:',\n",
    "    disabled=True,\n",
    "    continuous_update=False,\n",
    "    orientation='horizontal',\n",
    "    readout=True,\n",
    "    readout_format='.1f',\n",
    ")\n",
    "alcohol_bar = widgets.widgets.FloatProgress(\n",
    "    value=Alcohol_ratio,\n",
    "    min=0,\n",
    "    max=36.0,\n",
    "    description='Alcohol:',\n",
    "    bar_style='info',\n",
    "    style={'bar_color': '#69fffc'},\n",
    "    orientation='horizontal'\n",
    ")\n",
    "\n",
    "alcohol_label = widgets.FloatText(\n",
    "    value=Alcohol_ratio,\n",
    "#    description='Any:',\n",
    "    disabled=True\n",
    ")\n",
    "\n",
    "update_air_quality = True\n",
    "\n",
    "\n",
    "def work(voc_bar):\n",
    "    while update_air_quality == True:\n",
    "        time.sleep(0.2)\n",
    "        voc_volt = voc_air_pin.read()\n",
    "        voc_gas = voc_volt/(5.0)\n",
    "        #Scale the result to be between 2.0 and 30.0 to keep on a similar scale to temperature\n",
    "        voc_ratio = (voc_gas/voc_air)*3\n",
    "        voc_bar.value = voc_ratio\n",
    "        voc_label.value = voc_bar.value\n",
    "        latest_temp=temp()[0]\n",
    "        temp_bar.value = latest_temp\n",
    "        temp_slider.value = latest_temp\n",
    "        Alcohol_volt = ANALOG_Alcohol_pin.read()\n",
    "        Alcohol_gas = Alcohol_volt/(5.0-Alcohol_volt)\n",
    "        #Scale the result to be between 2.0 and 30.0 to keep on a similar scale to temperature\n",
    "        Alcohol_ratio = (1/(Alcohol_gas/1.85))*2\n",
    "        \n",
    "        alcohol_bar.value = Alcohol_ratio\n",
    "        alcohol_label.value = Alcohol_ratio\n",
    "\n",
    "thread = threading.Thread(target=work, args=(voc_bar,))\n",
    "#display(progress)\n",
    "#display(progress_label)\n",
    "#display(temp_bar)\n",
    "#display(temp_slider)\n",
    "thread.start()\n",
    "\n",
    "first_box = HBox([voc_bar, voc_label])\n",
    "second_box = HBox([temp_bar, temp_slider])\n",
    "third_box = HBox([alcohol_bar, alcohol_label])\n",
    "VBox([first_box, second_box, third_box])"
   ]
  },
  {
   "cell_type": "code",
   "execution_count": null,
   "metadata": {},
   "outputs": [],
   "source": [
    "threading.active_count()"
   ]
  },
  {
   "cell_type": "code",
   "execution_count": null,
   "metadata": {
    "collapsed": true
   },
   "outputs": [],
   "source": [
    "update_air_quality = False"
   ]
  },
  {
   "cell_type": "code",
   "execution_count": null,
   "metadata": {
    "scrolled": true
   },
   "outputs": [],
   "source": [
    "df = pd.DataFrame() #Create an empty data frame to append to later\n",
    "#timestamp = df.size\n",
    "def animate(i):\n",
    "    global df\n",
    "    clean_data_table = pd.DataFrame() #Create an empty data frame to append to later\n",
    "    latest_temp=temp()[0]\n",
    "    voc_volt = voc_air_pin.read()\n",
    "    voc_gas = voc_volt/(5.0)\n",
    "    #Scale the result to be between 2.0 and 30.0 to keep on a similar scale to temperature\n",
    "    voc_ratio = (voc_gas/voc_air)*3\n",
    "    Alcohol_volt = ANALOG_Alcohol_pin.read()\n",
    "    Alcohol_gas = Alcohol_volt/(5.0-Alcohol_volt)\n",
    "    #Scale the result to be between 2.0 and 30.0 to keep on a similar scale to temperature\n",
    "    Alcohol_ratio = (1/(Alcohol_gas/1.85))*2\n",
    "#    timestamp = df.size\n",
    "    clear_output(wait=True)\n",
    "    clean_data_table['Temperature (oC)'] = [latest_temp]\n",
    "    clean_data_table['VOC in Air'] = [voc_ratio]\n",
    "    clean_data_table['Alcohol in Air'] = [Alcohol_ratio]\n",
    "#    clean_data_table['Date'] = [datetime.now()]\n",
    "#    clean_data_table['timestamp'] = timestamp\n",
    "#    timestamp = df.size\n",
    "#    timestamp = 2\n",
    "    df = df.append(clean_data_table, ignore_index = True)\n",
    "    \n",
    "    x = df['Date']\n",
    "    y1 = df['Temperature (oC)']\n",
    "    y2 = df['VOC in Air']\n",
    "    y3 = df['Alcohol in Air']\n",
    "    \n",
    "    plt.cla()\n",
    "    plt.plot(x,y1,label='Temperature (oC)')\n",
    "    plt.plot(x,y2,label='VOC in Air')\n",
    "    plt.plot(x,y3,label='Alcohol in Air')\n",
    "    plt.xlabel('Time')\n",
    "    plt.ylabel('Temprature (C)')\n",
    "    plt.title(\"Office Temperature\")\n",
    "    plt.gcf().autofmt_xdate()\n",
    "    plt.ticklabel_format(useOffset=False,axis='y')\n",
    "#    plt.legend()\n",
    "    plt.show()\n",
    "    \n",
    "ani = FuncAnimation(plt.gcf(), animate,interval=2000)\n",
    "plt.show()"
   ]
  },
  {
   "cell_type": "code",
   "execution_count": null,
   "metadata": {},
   "outputs": [],
   "source": [
    "df.size"
   ]
  },
  {
   "cell_type": "code",
   "execution_count": null,
   "metadata": {
    "scrolled": true
   },
   "outputs": [],
   "source": [
    "df.index.name = 'timestamp'\n",
    "df"
   ]
  },
  {
   "cell_type": "code",
   "execution_count": null,
   "metadata": {
    "collapsed": true
   },
   "outputs": [],
   "source": [
    "df.index.name = 'timestamp'\n",
    "filename = \"Whiskey \" + str(datetime.now()) + \".csv\"\n",
    "df.to_csv(filename)"
   ]
  }
 ],
 "metadata": {
  "extensions": {
   "jupyter_dashboards": {
    "activeView": "grid_default",
    "version": 1,
    "views": {
     "grid_default": {
      "cellMargin": 10,
      "defaultCellHeight": 20,
      "maxColumns": 12,
      "name": "grid",
      "type": "grid"
     },
     "report_default": {
      "name": "report",
      "type": "report"
     }
    }
   }
  },
  "kernelspec": {
   "display_name": "Python 3",
   "language": "python",
   "name": "python3"
  },
  "language_info": {
   "codemirror_mode": {
    "name": "ipython",
    "version": 3
   },
   "file_extension": ".py",
   "mimetype": "text/x-python",
   "name": "python",
   "nbconvert_exporter": "python",
   "pygments_lexer": "ipython3",
   "version": "3.5.2"
  }
 },
 "nbformat": 4,
 "nbformat_minor": 2
}
