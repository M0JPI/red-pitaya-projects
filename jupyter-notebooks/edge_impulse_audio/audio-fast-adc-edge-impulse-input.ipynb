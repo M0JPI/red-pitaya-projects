{
 "cells": [
  {
   "cell_type": "markdown",
   "metadata": {},
   "source": [
    "# Audio Input on the fast ADC upload to Edge Impulse"
   ]
  },
  {
   "cell_type": "markdown",
   "metadata": {},
   "source": [
    "This example shows how an audio signal can be captured using the fast input IN2.\n",
    "\n",
    "Mercury is the Jupyter FPGA overlay for the Red Pitaya."
   ]
  },
  {
   "cell_type": "code",
   "execution_count": null,
   "metadata": {
    "scrolled": true
   },
   "outputs": [],
   "source": [
    "from redpitaya.overlay.mercury import mercury as overlay\n",
    "import IPython.display as ipd\n",
    "import matplotlib.pyplot as plt\n",
    "\n",
    "#Audio processing requirements\n",
    "import numpy as np\n",
    "from scipy.io.wavfile import write\n",
    "\n",
    "#Edge Impulse requirements\n",
    "import json\n",
    "import time, hmac, hashlib\n",
    "import requests\n",
    "import re, socket\n",
    "import math\n",
    "\n",
    "fpga = overlay()"
   ]
  },
  {
   "cell_type": "markdown",
   "metadata": {},
   "source": [
    "Make an instance of the oscilloscope object is used for the input. The first argument is the channel index in range [0,1]. The second argument is the voltage range in volts, should be either 1.0 (default if unspecified) or 20.0. This is set to channel 1 (IN2) and 1.0 Volts the Low setting on the jumper."
   ]
  },
  {
   "cell_type": "code",
   "execution_count": null,
   "metadata": {},
   "outputs": [],
   "source": [
    "in2 = fpga.osc(1, 1.0)"
   ]
  },
  {
   "cell_type": "markdown",
   "metadata": {},
   "source": [
    "User should specify:\n",
    "1. Sample rate decimation is an integer in range [1, 2\\*\\*17] = [1, 131072].\n",
    "2. Number of samples stored before and after trigger, for a forced trigger only post trigger samples are enough.\n",
    "3. Input level trigger source should (depending on the test purpose) be disabled (it is enabled by default)\n",
    "\n",
    "30,000 samples per second is the minimum sample rate IPython.display will support. The minimum was chosen for this example to maximise the recording time using the oscilloscope object buffer."
   ]
  },
  {
   "cell_type": "code",
   "execution_count": null,
   "metadata": {},
   "outputs": [],
   "source": [
    "# data rate decimation \n",
    "in2.decimation = 41667 #125 Msps / 41667 = 30 Ksps\n",
    "\n",
    "# trigger timing [sample periods]\n",
    "N = in2.buffer_size\n",
    "in2.trigger_pre  = 0\n",
    "in2.trigger_post = N\n",
    "\n",
    "# disable hardware trigger sources - the Jupyter notebook will trigger the start of audio recording\n",
    "in2.trig_src = 0"
   ]
  },
  {
   "cell_type": "markdown",
   "metadata": {},
   "source": [
    "The oscilloscope should be reset, started, and a software trigger should be issued.\n",
    "A loop is checking if the desired number of data samples was already stored in the buffer.\n",
    "\n",
    "The same number of samples as the sum of pre/post trigger delays should be read from the buffer.\n",
    "The data read is aligned to the last sample, which will be always present as the last sample in the returned array."
   ]
  },
  {
   "cell_type": "code",
   "execution_count": null,
   "metadata": {},
   "outputs": [],
   "source": [
    "def record_audio():\n",
    "    # synchronization and trigger sources are the default,\n",
    "    # which is the module itself\n",
    "    in2.reset()\n",
    "    in2.start()\n",
    "    in2.trigger()\n",
    "    print ('Recording started')\n",
    "    # wait for data\n",
    "    while (in2.status_run()): pass\n",
    "    print ('Recording complete')\n",
    "    data = in2.data(N)\n",
    "    return data\n",
    "\n",
    "audio_data_returned = record_audio()"
   ]
  },
  {
   "cell_type": "markdown",
   "metadata": {},
   "source": [
    "The audio data can then be displayed as an audio file that can be played or downloaded."
   ]
  },
  {
   "cell_type": "code",
   "execution_count": null,
   "metadata": {},
   "outputs": [],
   "source": [
    "def display_audio(audio_data,sr = 3000): #default sample rate 3 Ksps\n",
    "    return ipd.Audio(audio_data, rate=sr) # load a NumPy array\n",
    "\n",
    "python_display_audio = display_audio(audio_data_returned, sr = 3000)\n",
    "python_display_audio"
   ]
  },
  {
   "cell_type": "markdown",
   "metadata": {},
   "source": [
    "Once the recording has been captured it can be displayed as a waveform."
   ]
  },
  {
   "cell_type": "code",
   "execution_count": null,
   "metadata": {
    "scrolled": true
   },
   "outputs": [],
   "source": [
    "def plot_audio(audio_data):\n",
    "    # show the part of the buffer requested by pre/post trigger timing - in this example the whole buffer.\n",
    "    plt.plot(audio_data_returned)\n",
    "    plt.show()\n",
    "\n",
    "plot_audio(audio_data_returned)"
   ]
  },
  {
   "cell_type": "code",
   "execution_count": null,
   "metadata": {},
   "outputs": [],
   "source": [
    "def save_audio(audio_data, file, sr = 3000): #default sample rate 3 Ksps\n",
    "    write(\"float_wave_test_raw.wav\", sr, audio_data)\n",
    "\n",
    "# Add the files you want to upload to Edge Impulse\n",
    "files = ['float_wave_test_raw.wav']\n",
    "file = files[0] #save the first one\n",
    "save_audio(audio_data_returned, file, sr = 3000)"
   ]
  },
  {
   "cell_type": "code",
   "execution_count": null,
   "metadata": {},
   "outputs": [],
   "source": [
    "# Install requests via: `pip3 install requests`\n",
    "import requests\n",
    "import os\n",
    "from app_keys import * #Import personal keys for the Edge Impulse project\n",
    "\n",
    "def upload_audio2edge_impulse(files, label = 'red-pitaya'): # Replace the label with your own.\n",
    "    \n",
    "    # Upload the file to Edge Impulse using the API, and print the response.\n",
    "    res = requests.post(url='https://ingestion.edgeimpulse.com/api/training/files',\n",
    "                        headers={\n",
    "                            'x-label': label,\n",
    "                            'x-api-key': api_key,\n",
    "                        },\n",
    "                        # Creating the data payload for the request.\n",
    "                        files=(('data', (os.path.basename(i), open(\n",
    "                            i, 'rb'), 'audio/wav')) for i in files)\n",
    "                        )\n",
    "    \n",
    "    if (res.status_code == 200):\n",
    "        print('Uploaded file(s) to Edge Impulse\\n', res.status_code, res.content)\n",
    "    else:\n",
    "        print('Failed to upload file(s) to Edge Impulse\\n',\n",
    "              res.status_code, res.content)\n",
    "\n",
    "upload_audio2edge_impulse(files)"
   ]
  },
  {
   "cell_type": "markdown",
   "metadata": {},
   "source": [
    "## Put All The Functions Together\n",
    "Record and upload a sound as part of the training data as the sound \"Red Pitaya\" with the <code>red-pitaya</code> label in [Edge Impulse](https://edgeimpulse.com/)."
   ]
  },
  {
   "cell_type": "code",
   "execution_count": null,
   "metadata": {
    "scrolled": true
   },
   "outputs": [],
   "source": [
    "audio_data_returned = record_audio()\n",
    "\n",
    "python_display_audio = display_audio(audio_data_returned, sr = 3000)\n",
    "\n",
    "plot_audio(audio_data_returned)\n",
    "\n",
    "# Add the files you want to upload to Edge Impulse\n",
    "files = ['float_wave_test_raw.wav']\n",
    "file = files[0] #save the first one\n",
    "save_audio(audio_data_returned, file, sr = 3000)\n",
    "\n",
    "upload_audio2edge_impulse(files)\n",
    "python_display_audio"
   ]
  },
  {
   "cell_type": "markdown",
   "metadata": {},
   "source": [
    "## Minimal Version\n",
    "This version doesn't include the displays, and uses a previously defined file name."
   ]
  },
  {
   "cell_type": "code",
   "execution_count": 39,
   "metadata": {},
   "outputs": [
    {
     "name": "stdout",
     "output_type": "stream",
     "text": [
      "Recording started\n",
      "Recording complete\n",
      "Uploaded file(s) to Edge Impulse\n",
      " 200 b'{\"success\":true,\"files\":[{\"success\":true,\"projectId\":440448,\"sampleId\":1107089003,\"fileName\":\"float_wave_test_raw.wav.53ph4ne2.json\"}]}'\n"
     ]
    }
   ],
   "source": [
    "audio_data_returned = record_audio()\n",
    "save_audio(audio_data_returned, file, sr = 3000)\n",
    "upload_audio2edge_impulse(files)"
   ]
  }
 ],
 "metadata": {
  "kernelspec": {
   "display_name": "Python 3 (RP api)",
   "language": "python",
   "name": "python3"
  },
  "language_info": {
   "codemirror_mode": {
    "name": "ipython",
    "version": 3
   },
   "file_extension": ".py",
   "mimetype": "text/x-python",
   "name": "python",
   "nbconvert_exporter": "python",
   "pygments_lexer": "ipython3",
   "version": "3.10.12"
  }
 },
 "nbformat": 4,
 "nbformat_minor": 4
}
