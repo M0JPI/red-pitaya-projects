{
 "cells": [
  {
   "cell_type": "markdown",
   "id": "a95486b5-6fbb-464f-b9de-67fd276282b5",
   "metadata": {},
   "source": [
    "##### Audio Classification Using Edge Impulse\n",
    "This example uses audio input from the float_wave_test_raw.wav file and uses local Edge Impulse Classification to classigy 5 seconds of audio.\n",
    "\n",
    "This is based on the Edge Immpulse example:\n",
    "https://github.com/edgeimpulse/linux-sdk-python/blob/master/examples/custom/classify.py\n",
    "\n",
    "The following are required to use the edge_impulse_linux:  \n",
    "<code>\n",
    "apt update\n",
    "apt upgrade\n",
    "apt install libatlas-base-dev libportaudio2 libportaudiocpp0 portaudio19-dev python3-opencv\n",
    "pip3 install PyAudio\n",
    "pip3 install edge_impulse_linux</code>"
   ]
  },
  {
   "cell_type": "code",
   "execution_count": 1,
   "id": "250422a5-24b2-419b-8ae3-5c2e04171356",
   "metadata": {},
   "outputs": [],
   "source": [
    "import os\n",
    "import sys, getopt\n",
    "import signal\n",
    "import numpy as np\n",
    "from edge_impulse_linux.runner import ImpulseRunner\n",
    "from scipy.io import wavfile"
   ]
  },
  {
   "cell_type": "code",
   "execution_count": 2,
   "id": "65005057-2354-41f3-a2db-9f48ba1f8a5c",
   "metadata": {},
   "outputs": [],
   "source": [
    "runner = None\n",
    "model_file_name = 'modelfile.eim'\n",
    "audio_file_name = 'float_wave_test_raw.wav'\n",
    "\n",
    "dir_path = os.path.dirname(os.path.realpath(model_file_name))\n",
    "modelfile = os.path.join(dir_path, model_file_name)\n",
    "audio_file = os.path.join(dir_path, audio_file_name)"
   ]
  },
  {
   "cell_type": "code",
   "execution_count": 3,
   "id": "71697e36-b7c7-47f5-bf95-8cb8f002b126",
   "metadata": {},
   "outputs": [
    {
     "name": "stdout",
     "output_type": "stream",
     "text": [
      "Loaded runner for \"John Bracegirdle / Sound Test\"\n",
      "labels:  ['background-noise', 'edge-impulse', 'red-pitaya']\n",
      "window_size:  15000\n",
      "sampling_rate:  3000\n"
     ]
    }
   ],
   "source": [
    "samplerate, generator = wavfile.read(audio_file)\n",
    "\n",
    "features = np.array([], dtype=np.int16)\n",
    "runner = ImpulseRunner(modelfile)\n",
    "\n",
    "model_info = runner.init()\n",
    "labels = model_info['model_parameters']['labels']\n",
    "window_size = model_info['model_parameters']['input_features_count']\n",
    "sampling_rate = model_info['model_parameters']['frequency']\n",
    "print('Loaded runner for \"' + model_info['project']['owner'] + ' / ' + model_info['project']['name'] + '\"')\n",
    "print('labels: ', labels)\n",
    "print('window_size: ', window_size)\n",
    "print('sampling_rate: ', sampling_rate)"
   ]
  },
  {
   "cell_type": "code",
   "execution_count": 30,
   "id": "9f330635-a1a2-4d1c-9ef2-e0075fe92aa7",
   "metadata": {
    "scrolled": true
   },
   "outputs": [
    {
     "data": {
      "text/plain": [
       "{'result': {'classification': {'background-noise': 0.9999896287918091,\n",
       "   'edge-impulse': 6.324415153358132e-06,\n",
       "   'red-pitaya': 4.0374552554567344e-06}},\n",
       " 'timing': {'anomaly': 0,\n",
       "  'classification': 3,\n",
       "  'dsp': 24,\n",
       "  'json': 15,\n",
       "  'stdin': 103}}"
      ]
     },
     "execution_count": 30,
     "metadata": {},
     "output_type": "execute_result"
    }
   ],
   "source": [
    "samplerate, generator = wavfile.read(audio_file)\n",
    "features = np.concatenate((features, generator), axis=0)\n",
    "res = runner.classify(features[:window_size].tolist())\n",
    "res"
   ]
  },
  {
   "cell_type": "code",
   "execution_count": 34,
   "id": "12f5a1e4-5271-427f-a3e7-16e7160f0000",
   "metadata": {},
   "outputs": [
    {
     "name": "stdout",
     "output_type": "stream",
     "text": [
      "Result (27 ms.) background-noise: 1.00\t\n",
      "edge-impulse: 0.00\t\n",
      "red-pitaya: 0.00\t\n"
     ]
    }
   ],
   "source": [
    "print('Result (%d ms.) ' % (res['timing']['dsp'] + res['timing']['classification']), end='')\n",
    "for label in labels:\n",
    "    score = res['result']['classification'][label]\n",
    "    print('%s: %.2f\\t' % (label, score), end='')\n",
    "    print('', flush=True)"
   ]
  },
  {
   "cell_type": "code",
   "execution_count": 29,
   "id": "661d2eb5-301f-421e-8ed9-dc2295da4777",
   "metadata": {},
   "outputs": [
    {
     "name": "stdout",
     "output_type": "stream",
     "text": [
      "background-noise 100.00%\n"
     ]
    }
   ],
   "source": [
    "#Show the classification key that has the highest confidence index\n",
    "best_label = max(res['result']['classification'], key=lambda key: res['result']['classification'][key])\n",
    "confidence = res['result']['classification'][best_label]\n",
    "print(best_label,\"{:.2%}\".format(confidence))"
   ]
  }
 ],
 "metadata": {
  "kernelspec": {
   "display_name": "Python 3 (RP api)",
   "language": "python",
   "name": "python3"
  },
  "language_info": {
   "codemirror_mode": {
    "name": "ipython",
    "version": 3
   },
   "file_extension": ".py",
   "mimetype": "text/x-python",
   "name": "python",
   "nbconvert_exporter": "python",
   "pygments_lexer": "ipython3",
   "version": "3.10.12"
  }
 },
 "nbformat": 4,
 "nbformat_minor": 5
}
