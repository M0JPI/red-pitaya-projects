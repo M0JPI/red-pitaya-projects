{
 "cells": [
  {
   "cell_type": "markdown",
   "id": "a95486b5-6fbb-464f-b9de-67fd276282b5",
   "metadata": {},
   "source": [
    "##### Audio Classification Using Edge Impulse\n",
    "This example uses audio input from fast analog input IN2 and uses local Edge Impulse Classification to classigy 5 seconds of audio.\n",
    "\n",
    "This is based on the Edge Immpulse example:\n",
    "https://github.com/edgeimpulse/linux-sdk-python/blob/master/examples/audio/classify.py\n",
    "The following are required to use the edge_impulse_linux:  \n",
    "<code>\n",
    "apt install libatlas-base-dev libportaudio0 libportaudio2 libportaudiocpp0 portaudio19-dev python3-opencv\n",
    "pip3 install PyAudio\n",
    "pip3 install edge_impulse_linux</code>"
   ]
  },
  {
   "cell_type": "code",
   "execution_count": 1,
   "id": "250422a5-24b2-419b-8ae3-5c2e04171356",
   "metadata": {},
   "outputs": [
    {
     "data": {
      "text/plain": [
       "'/root/red-pitaya-projects/jupyter-notebooks/edge_impulse_audio/modelfile.eim'"
      ]
     },
     "execution_count": 1,
     "metadata": {},
     "output_type": "execute_result"
    }
   ],
   "source": [
    "import os\n",
    "import sys, getopt\n",
    "import signal\n",
    "import numpy as np\n",
    "from edge_impulse_linux.runner import ImpulseRunner\n",
    "\n",
    "model_file_name = 'modelfile.eim'\n",
    "runner = None\n",
    "dir_path = os.path.dirname(os.path.realpath(model_file_name))\n",
    "modelfile = os.path.join(dir_path, model_file_name)\n",
    "modelfile"
   ]
  },
  {
   "cell_type": "code",
   "execution_count": 2,
   "id": "5cdcce9b-9421-4515-a726-b087a13091e2",
   "metadata": {},
   "outputs": [
    {
     "data": {
      "text/plain": [
       "'float_wave_test_raw.wav'"
      ]
     },
     "execution_count": 2,
     "metadata": {},
     "output_type": "execute_result"
    }
   ],
   "source": [
    "# Add the files you want to upload to Edge Impulse\n",
    "files = ['float_wave_test_raw.wav']\n",
    "audio_file = files[0] #save the first one\n",
    "\n",
    "# Creating the data payload for the request.\n",
    "files=(('data', (os.path.basename(i), open(i, 'rb'), 'audio/wav')) for i in files)\n",
    "audio_file"
   ]
  },
  {
   "cell_type": "code",
   "execution_count": 3,
   "id": "65005057-2354-41f3-a2db-9f48ba1f8a5c",
   "metadata": {},
   "outputs": [
    {
     "data": {
      "text/plain": [
       "<generator object <genexpr> at 0xb549d060>"
      ]
     },
     "execution_count": 3,
     "metadata": {},
     "output_type": "execute_result"
    }
   ],
   "source": [
    "runner = None\n",
    "\n",
    "# Add the files you want to upload to Edge Impulse\n",
    "files = ['float_wave_test_raw.wav']\n",
    "audio_file = files[0] #save the first one\n",
    "\n",
    "# Creating the data payload for the request.\n",
    "files=(('data', (os.path.basename(i), open(i, 'rb'), 'audio/wav')) for i in files)\n",
    "audio_file\n",
    "\n",
    "model_file_name = 'modelfile.eim'\n",
    "\n",
    "dir_path = os.path.dirname(os.path.realpath(model_file_name))\n",
    "modelfile = os.path.join(dir_path, model_file_name)\n",
    "full_audio_file = os.path.join(dir_path, audio_file)\n",
    "\n",
    "full_audio_file\n",
    "files=(('data', (os.path.basename(i), open(i, 'rb'), 'audio/wav')) for i in files)\n",
    "files"
   ]
  },
  {
   "cell_type": "code",
   "execution_count": 4,
   "id": "71697e36-b7c7-47f5-bf95-8cb8f002b126",
   "metadata": {},
   "outputs": [
    {
     "name": "stdout",
     "output_type": "stream",
     "text": [
      "Loaded runner for \"John Bracegirdle / Sound Test\"\n",
      "['background-noise', 'edge-impulse', 'red-pitaya']\n",
      "15000\n",
      "3000\n"
     ]
    }
   ],
   "source": [
    "from scipy.io import wavfile\n",
    "samplerate, generator = wavfile.read(full_audio_file)\n",
    "\n",
    "features = np.array([], dtype=np.int16)\n",
    "runner = ImpulseRunner(modelfile)\n",
    "\n",
    "model_info = runner.init()\n",
    "labels = model_info['model_parameters']['labels']\n",
    "window_size = model_info['model_parameters']['input_features_count']\n",
    "sampling_rate = model_info['model_parameters']['frequency']\n",
    "print('Loaded runner for \"' + model_info['project']['owner'] + ' / ' + model_info['project']['name'] + '\"')\n",
    "print(labels)\n",
    "print(window_size)\n",
    "print(sampling_rate)"
   ]
  },
  {
   "cell_type": "code",
   "execution_count": 5,
   "id": "9f330635-a1a2-4d1c-9ef2-e0075fe92aa7",
   "metadata": {},
   "outputs": [
    {
     "data": {
      "text/plain": [
       "{'result': {'classification': {'background-noise': 0.9999896287918091,\n",
       "   'edge-impulse': 6.324415153358132e-06,\n",
       "   'red-pitaya': 4.0374552554567344e-06}},\n",
       " 'timing': {'anomaly': 0,\n",
       "  'classification': 4,\n",
       "  'dsp': 24,\n",
       "  'json': 16,\n",
       "  'stdin': 31}}"
      ]
     },
     "execution_count": 5,
     "metadata": {},
     "output_type": "execute_result"
    }
   ],
   "source": [
    "samplerate, generator = wavfile.read(full_audio_file)\n",
    "features = np.concatenate((features, generator), axis=0)\n",
    "res = runner.classify(features[:window_size].tolist())\n",
    "res"
   ]
  }
 ],
 "metadata": {
  "kernelspec": {
   "display_name": "Python 3 (RP api)",
   "language": "python",
   "name": "python3"
  },
  "language_info": {
   "codemirror_mode": {
    "name": "ipython",
    "version": 3
   },
   "file_extension": ".py",
   "mimetype": "text/x-python",
   "name": "python",
   "nbconvert_exporter": "python",
   "pygments_lexer": "ipython3",
   "version": "3.10.12"
  }
 },
 "nbformat": 4,
 "nbformat_minor": 5
}
