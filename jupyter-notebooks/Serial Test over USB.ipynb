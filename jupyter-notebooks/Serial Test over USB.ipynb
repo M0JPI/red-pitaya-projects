{
 "cells": [
  {
   "cell_type": "markdown",
   "metadata": {},
   "source": [
    "# Serial Test over USB\n",
    "Connecting to a USB serial port to get data from an Arduino. To install the software run:\n",
    "\n",
    "`apt-get install python-serial`"
   ]
  },
  {
   "cell_type": "code",
   "execution_count": 1,
   "metadata": {},
   "outputs": [
    {
     "name": "stdout",
     "output_type": "stream",
     "text": [
      "\u001b[0m\u001b[01;33m/dev/ttyACM4\u001b[0m\r\n"
     ]
    }
   ],
   "source": [
    "%ls /dev/ttyACM*"
   ]
  },
  {
   "cell_type": "markdown",
   "metadata": {},
   "source": [
    "## Setup the serial configuration\n",
    "Check that the serial device printed by the command above matches the `portPath` below:"
   ]
  },
  {
   "cell_type": "code",
   "execution_count": 46,
   "metadata": {},
   "outputs": [],
   "source": [
    "import serial\n",
    "import time\n",
    "import csv\n",
    "import re\n",
    "import matplotlib.pyplot as plt\n",
    "import matplotlib.dates as mdates\n",
    "import pandas as pd\n",
    "import numpy as np\n",
    "from datetime import datetime\n",
    " \n",
    "portPath = \"/dev/ttyACM4\"       # Must match value shown on Arduino IDE\n",
    "baud = 115200                   # Must match Arduino baud rate\n",
    "timeout = 5                     # Seconds\n",
    "filename = \"data.csv\"\n",
    "max_num_readings = 8\n",
    "num_signals = 1\n",
    " \n",
    " \n",
    " \n",
    "def create_serial_obj(portPath, baud_rate, tout):\n",
    "    \"\"\"\n",
    "    Given the port path, baud rate, and timeout value, creates and returns a pyserial object.\n",
    "    \"\"\"\n",
    "    return serial.Serial(portPath, baud_rate, timeout = tout)"
   ]
  },
  {
   "cell_type": "code",
   "execution_count": 3,
   "metadata": {
    "collapsed": true
   },
   "outputs": [],
   "source": [
    "def read_serial_data(serial):\n",
    "    \"\"\"\n",
    "    Given a pyserial object (serial). Outputs a list of lines read in from the serial port\n",
    "    \"\"\"\n",
    "    #serial.flushInput()\n",
    "    serial.reset_input_buffer()\n",
    "    \n",
    "    serial_data = []\n",
    "    readings_left = True\n",
    "    timeout_reached = False\n",
    "    \n",
    "    #Send data to start the transfer\n",
    "    serial.write(1)\n",
    "    #Wait for the data to be ready\n",
    "    time.sleep(2)\n",
    "    \n",
    "    while readings_left and not timeout_reached:\n",
    "        serial_line = serial.readline()\n",
    "        if serial_line == b'':\n",
    "            timeout_reached = True\n",
    "        else:\n",
    "            serial_data.append(serial_line)\n",
    "            if len(serial_data) == max_num_readings:\n",
    "                readings_left = False\n",
    "        \n",
    "    return serial_data"
   ]
  },
  {
   "cell_type": "code",
   "execution_count": 4,
   "metadata": {
    "scrolled": true
   },
   "outputs": [
    {
     "name": "stdout",
     "output_type": "stream",
     "text": [
      "Creating serial object...\n",
      "Reading serial data...\n"
     ]
    }
   ],
   "source": [
    "print (\"Creating serial object...\")\n",
    "serial_obj = create_serial_obj(portPath, baud, timeout)\n",
    " \n",
    "print (\"Reading serial data...\")\n",
    "serial_data = read_serial_data(serial_obj)\n",
    "#print serial_data.len()"
   ]
  },
  {
   "cell_type": "code",
   "execution_count": 39,
   "metadata": {
    "collapsed": true
   },
   "outputs": [],
   "source": [
    "def is_number(string):\n",
    "    \"\"\"\n",
    "    Given a string returns True if the string represents a number.\n",
    "    Returns False otherwise.\n",
    "    \"\"\"\n",
    "    try:\n",
    "        float(string)\n",
    "        return True\n",
    "    except ValueError:\n",
    "        return False\n",
    "        \n",
    "def clean_serial_data(data):\n",
    "    \"\"\"\n",
    "    Given a list of serial lines (data). Removes all characters.\n",
    "    Returns the cleaned list of lists of digits.\n",
    "    Given something like: ['0.5000,33\\r\\n', '1.0000,283\\r\\n']\n",
    "    Returns: [[0.5,33.0], [1.0,283.0]]\n",
    "    \"\"\"\n",
    "    clean_data = []\n",
    "    \n",
    "    for line in data:\n",
    "        line_data = float(line.strip())\n",
    "        #line_data = re.findall(\"\\d*\\.\\d*|\\d*\",line) # Find all digits\n",
    "        #line_data = [float(element) for element in line_data if is_number(element)] # Convert strings to float\n",
    "        if line_data >= 0.0:\n",
    "            clean_data.append(line_data)\n",
    "        \n",
    "        clean_data.append(datetime.now())\n",
    "    return clean_data"
   ]
  },
  {
   "cell_type": "code",
   "execution_count": 40,
   "metadata": {
    "scrolled": true
   },
   "outputs": [
    {
     "name": "stdout",
     "output_type": "stream",
     "text": [
      "Cleaning data...\n"
     ]
    },
    {
     "data": {
      "text/plain": [
       "[19.0, datetime.datetime(2020, 5, 29, 22, 32, 42, 889694)]"
      ]
     },
     "execution_count": 40,
     "metadata": {},
     "output_type": "execute_result"
    }
   ],
   "source": [
    "print(\"Cleaning data...\")\n",
    "clean_data =  clean_serial_data(serial_data)\n",
    "clean_data"
   ]
  },
  {
   "cell_type": "code",
   "execution_count": 55,
   "metadata": {},
   "outputs": [],
   "source": [
    "clean_data_table = [clean_data]"
   ]
  },
  {
   "cell_type": "code",
   "execution_count": 121,
   "metadata": {
    "scrolled": true
   },
   "outputs": [
    {
     "data": {
      "text/html": [
       "<div>\n",
       "<table border=\"1\" class=\"dataframe\">\n",
       "  <thead>\n",
       "    <tr style=\"text-align: right;\">\n",
       "      <th></th>\n",
       "      <th>Co2</th>\n",
       "      <th>Date &amp; Time</th>\n",
       "    </tr>\n",
       "  </thead>\n",
       "  <tbody>\n",
       "    <tr>\n",
       "      <th>0</th>\n",
       "      <td>19</td>\n",
       "      <td>2020-05-29 22:32:42.889694</td>\n",
       "    </tr>\n",
       "  </tbody>\n",
       "</table>\n",
       "</div>"
      ],
      "text/plain": [
       "   Co2                Date & Time\n",
       "0   19 2020-05-29 22:32:42.889694"
      ]
     },
     "execution_count": 121,
     "metadata": {},
     "output_type": "execute_result"
    }
   ],
   "source": [
    "pd_data_new_row = pd.DataFrame(clean_data_table,columns=[\"Co2\",\"Date & Time\"])\n",
    "pd_data_new_row"
   ]
  },
  {
   "cell_type": "code",
   "execution_count": 122,
   "metadata": {},
   "outputs": [],
   "source": [
    "headers = [\"Co2\",\"Date & Time\"]\n",
    "pd_data_new_row.to_csv(filename,names=headers)"
   ]
  },
  {
   "cell_type": "code",
   "execution_count": 123,
   "metadata": {},
   "outputs": [
    {
     "data": {
      "text/html": [
       "<div>\n",
       "<table border=\"1\" class=\"dataframe\">\n",
       "  <thead>\n",
       "    <tr style=\"text-align: right;\">\n",
       "      <th></th>\n",
       "      <th>Co2</th>\n",
       "      <th>Date &amp; Time</th>\n",
       "    </tr>\n",
       "  </thead>\n",
       "  <tbody>\n",
       "    <tr>\n",
       "      <th>0</th>\n",
       "      <td>19</td>\n",
       "      <td>2020-05-29 22:32:42.889694</td>\n",
       "    </tr>\n",
       "  </tbody>\n",
       "</table>\n",
       "</div>"
      ],
      "text/plain": [
       "   Co2                 Date & Time\n",
       "0   19  2020-05-29 22:32:42.889694"
      ]
     },
     "execution_count": 123,
     "metadata": {},
     "output_type": "execute_result"
    }
   ],
   "source": [
    "df = pd.read_csv(filename,names=headers,skiprows = 1)\n",
    "df"
   ]
  },
  {
   "cell_type": "code",
   "execution_count": 114,
   "metadata": {},
   "outputs": [],
   "source": [
    "dateparse = lambda x: pd.datetime.strptime(x, '%Y-%m-%d %H:%M:%S.%f')"
   ]
  },
  {
   "cell_type": "code",
   "execution_count": 115,
   "metadata": {},
   "outputs": [
    {
     "data": {
      "text/plain": [
       "'2020-05-29 22:32:42.889694'"
      ]
     },
     "execution_count": 115,
     "metadata": {},
     "output_type": "execute_result"
    }
   ],
   "source": [
    "df.get_value(0, 'Date & Time')"
   ]
  },
  {
   "cell_type": "code",
   "execution_count": 116,
   "metadata": {},
   "outputs": [
    {
     "data": {
      "text/plain": [
       "datetime.datetime(2020, 5, 29, 22, 32, 42, 889694)"
      ]
     },
     "execution_count": 116,
     "metadata": {},
     "output_type": "execute_result"
    }
   ],
   "source": [
    "dateparse(df.get_value(0, 'Date & Time'))"
   ]
  },
  {
   "cell_type": "code",
   "execution_count": 127,
   "metadata": {},
   "outputs": [
    {
     "data": {
      "text/html": [
       "<div>\n",
       "<table border=\"1\" class=\"dataframe\">\n",
       "  <thead>\n",
       "    <tr style=\"text-align: right;\">\n",
       "      <th></th>\n",
       "      <th>Co2</th>\n",
       "      <th>Date &amp; Time</th>\n",
       "    </tr>\n",
       "  </thead>\n",
       "  <tbody>\n",
       "    <tr>\n",
       "      <th>0</th>\n",
       "      <td>19</td>\n",
       "      <td>2020-05-29 22:32:42.889694</td>\n",
       "    </tr>\n",
       "  </tbody>\n",
       "</table>\n",
       "</div>"
      ],
      "text/plain": [
       "   Co2                Date & Time\n",
       "0   19 2020-05-29 22:32:42.889694"
      ]
     },
     "execution_count": 127,
     "metadata": {},
     "output_type": "execute_result"
    }
   ],
   "source": [
    "df = pd.read_csv(filename, parse_dates=['Date & Time'], date_parser=dateparse,index_col=0)\n",
    "df"
   ]
  },
  {
   "cell_type": "code",
   "execution_count": 128,
   "metadata": {},
   "outputs": [
    {
     "data": {
      "text/plain": [
       "pandas.tslib.Timestamp"
      ]
     },
     "execution_count": 128,
     "metadata": {},
     "output_type": "execute_result"
    }
   ],
   "source": [
    "type(df.get_value(0, 'Co2'))\n",
    "df.get_value(0, 'Co2')\n",
    "type(df.get_value(0, 'Date & Time'))"
   ]
  },
  {
   "cell_type": "code",
   "execution_count": 129,
   "metadata": {},
   "outputs": [
    {
     "data": {
      "image/png": "[encoded data removed]",
      "text/plain": [
       "<matplotlib.figure.Figure at 0xadad9090>"
      ]
     },
     "metadata": {},
     "output_type": "display_data"
    }
   ],
   "source": [
    "x = df['Date & Time']\n",
    "y = df['Co2']\n",
    "\n",
    "# plot\n",
    "plt.plot(x,y)\n",
    "# beautify the x-labels\n",
    "plt.gcf().autofmt_xdate()\n",
    "\n",
    "plt.show()"
   ]
  }
 ],
 "metadata": {
  "kernelspec": {
   "display_name": "Python 3",
   "language": "python",
   "name": "python3"
  },
  "language_info": {
   "codemirror_mode": {
    "name": "ipython",
    "version": 3
   },
   "file_extension": ".py",
   "mimetype": "text/x-python",
   "name": "python",
   "nbconvert_exporter": "python",
   "pygments_lexer": "ipython3",
   "version": "3.5.2"
  }
 },
 "nbformat": 4,
 "nbformat_minor": 2
}
