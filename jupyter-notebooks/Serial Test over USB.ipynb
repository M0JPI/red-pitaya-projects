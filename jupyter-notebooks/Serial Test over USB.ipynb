{
 "cells": [
  {
   "cell_type": "markdown",
   "metadata": {},
   "source": [
    "# Serial Test over USB\n",
    "Connecting to a USB serial port to get data from an Arduino. To install the software run:\n",
    "\n",
    "`apt-get install python-serial`"
   ]
  },
  {
   "cell_type": "code",
   "execution_count": 1,
   "metadata": {},
   "outputs": [
    {
     "name": "stdout",
     "output_type": "stream",
     "text": [
      "\u001b[0m\u001b[01;33m/dev/ttyACM0\u001b[0m\r\n"
     ]
    }
   ],
   "source": [
    "%ls /dev/ttyACM*"
   ]
  },
  {
   "cell_type": "markdown",
   "metadata": {},
   "source": [
    "## Setup the serial configuration\n",
    "Check that the serial device printed by the command above matches the `portPath` below:"
   ]
  },
  {
   "cell_type": "code",
   "execution_count": 2,
   "metadata": {
    "collapsed": true
   },
   "outputs": [],
   "source": [
    "import serial\n",
    "import time\n",
    "import csv\n",
    "import re\n",
    "import matplotlib.pyplot as plt\n",
    "import matplotlib.dates as mdates\n",
    "import pandas as pd\n",
    "import numpy as np\n",
    "from datetime import datetime, date\n",
    "from IPython.display import clear_output\n",
    "import ipywidgets as widgets\n",
    "import concurrent.futures\n",
    "import threading\n",
    " \n",
    "portPath = \"/dev/ttyACM0\"       # Must match value shown on Arduino IDE\n",
    "baud = 115200                   # Must match Arduino baud rate\n",
    "timeout = 5                     # Seconds\n",
    "filename = str(date.today()) + \" data.csv\"\n",
    "max_num_readings = 8\n",
    "num_signals = 1\n",
    " \n",
    " \n",
    " \n",
    "def create_serial_obj(portPath, baud_rate, tout):\n",
    "    \"\"\"\n",
    "    Given the port path, baud rate, and timeout value, creates and returns a pyserial object.\n",
    "    \"\"\"\n",
    "    return serial.Serial(portPath, baud_rate, timeout = tout)"
   ]
  },
  {
   "cell_type": "code",
   "execution_count": 3,
   "metadata": {
    "collapsed": true
   },
   "outputs": [],
   "source": [
    "def read_serial_data(serial):\n",
    "    \"\"\"\n",
    "    Given a pyserial object (serial). Outputs a list of lines read in from the serial port\n",
    "    \"\"\"\n",
    "    #serial.flushInput()\n",
    "    serial.reset_input_buffer()\n",
    "    \n",
    "    serial_data = []\n",
    "    readings_left = True\n",
    "    timeout_reached = False\n",
    "    \n",
    "    #Send data to start the transfer\n",
    "    serial.write(1)\n",
    "    #Wait for the data to be ready\n",
    "    time.sleep(2)\n",
    "    \n",
    "    while readings_left and not timeout_reached:\n",
    "        serial_line = serial.readline()\n",
    "        if serial_line == b'':\n",
    "            timeout_reached = True\n",
    "        else:\n",
    "            serial_data.append(serial_line)\n",
    "            if len(serial_data) == max_num_readings:\n",
    "                readings_left = False\n",
    "        \n",
    "    return serial_data"
   ]
  },
  {
   "cell_type": "code",
   "execution_count": 5,
   "metadata": {
    "collapsed": true
   },
   "outputs": [],
   "source": [
    "headers = [\"PM 0.3\",\"PM 0.5\",\"PM 1.0\",\"PM 2.5\",\"PM 5.0\",\"PM 10.0\",\"Temp\",\"Pressure\",\"Humidity\",\"CO2\",\n",
    "           \"BME680 VOC\",\"QM9 VOC\",\"MiCS5524 VOC\",\"CCS811 VOC\",\"Date\"]\n",
    "try:\n",
    "    df = pd.read_csv(filename,names=headers,skiprows = 1)\n",
    "    df\n",
    "except:\n",
    "    df = pd.DataFrame() #Create an empty data frame to append to later"
   ]
  },
  {
   "cell_type": "code",
   "execution_count": 6,
   "metadata": {},
   "outputs": [
    {
     "data": {
      "text/html": [
       "<div>\n",
       "<table border=\"1\" class=\"dataframe\">\n",
       "  <thead>\n",
       "    <tr style=\"text-align: right;\">\n",
       "      <th></th>\n",
       "    </tr>\n",
       "  </thead>\n",
       "  <tbody>\n",
       "  </tbody>\n",
       "</table>\n",
       "</div>"
      ],
      "text/plain": [
       "Empty DataFrame\n",
       "Columns: []\n",
       "Index: []"
      ]
     },
     "execution_count": 6,
     "metadata": {},
     "output_type": "execute_result"
    }
   ],
   "source": [
    "df"
   ]
  },
  {
   "cell_type": "code",
   "execution_count": 7,
   "metadata": {
    "scrolled": true
   },
   "outputs": [
    {
     "name": "stdout",
     "output_type": "stream",
     "text": [
      "Creating serial object...\n",
      "Reading serial data...\n"
     ]
    }
   ],
   "source": [
    "print (\"Creating serial object...\")\n",
    "serial_obj = create_serial_obj(portPath, baud, timeout)\n",
    " \n",
    "print (\"Reading serial data...\")\n",
    "serial_data = read_serial_data(serial_obj)\n",
    "#print serial_data.len()"
   ]
  },
  {
   "cell_type": "code",
   "execution_count": 8,
   "metadata": {
    "collapsed": true
   },
   "outputs": [],
   "source": [
    "def is_number(string):\n",
    "    \"\"\"\n",
    "    Given a string returns True if the string represents a number.\n",
    "    Returns False otherwise.\n",
    "    \"\"\"\n",
    "    try:\n",
    "        float(string)\n",
    "        return True\n",
    "    except ValueError:\n",
    "        return False\n",
    "        \n",
    "def clean_serial_data(data):\n",
    "    \"\"\"\n",
    "    Given a list of serial lines (data). Removes all characters.\n",
    "    Returns the cleaned list of lists of digits.\n",
    "    Given something like: ['0.5000,33\\r\\n', '1.0000,283\\r\\n']\n",
    "    Returns: [[0.5,33.0], [1.0,283.0]]\n",
    "    \"\"\"\n",
    "    clean_data = []\n",
    "    \n",
    "    for line in data:\n",
    "        line_data = line.decode(\"utf-8\", \"ignore\").strip()\n",
    "        #line_data = re.findall(\"\\d*\\.\\d*|\\d*\",line) # Find all digits\n",
    "        #line_data = [float(element) for element in line_data if is_number(element)] # Convert strings to float\n",
    "        #line_data = line_data datetime.now()\n",
    "    clean_data.append(line_data)\n",
    "        \n",
    "    return clean_data"
   ]
  },
  {
   "cell_type": "code",
   "execution_count": 9,
   "metadata": {
    "scrolled": false
   },
   "outputs": [
    {
     "name": "stdout",
     "output_type": "stream",
     "text": [
      "Cleaning data...\n"
     ]
    },
    {
     "data": {
      "text/plain": [
       "[['750,202,12,0,0,0,32.69,1021.29,25.37,400,0.00,266,40,0']]"
      ]
     },
     "execution_count": 9,
     "metadata": {},
     "output_type": "execute_result"
    }
   ],
   "source": [
    "print(\"Cleaning data...\")\n",
    "clean_data =  clean_serial_data(serial_data)\n",
    "clean_data_table = [clean_data]\n",
    "clean_data_table"
   ]
  },
  {
   "cell_type": "code",
   "execution_count": 10,
   "metadata": {
    "scrolled": true
   },
   "outputs": [
    {
     "data": {
      "text/html": [
       "<div>\n",
       "<table border=\"1\" class=\"dataframe\">\n",
       "  <thead>\n",
       "    <tr style=\"text-align: right;\">\n",
       "      <th></th>\n",
       "      <th>PM 0.3</th>\n",
       "      <th>PM 0.5</th>\n",
       "      <th>PM 1.0</th>\n",
       "      <th>PM 2.5</th>\n",
       "      <th>PM 5.0</th>\n",
       "      <th>PM 10.0</th>\n",
       "      <th>Temp</th>\n",
       "      <th>Pressure</th>\n",
       "      <th>Humidity</th>\n",
       "      <th>CO2</th>\n",
       "      <th>BME680 VOC</th>\n",
       "      <th>QM9 VOC</th>\n",
       "      <th>MiCS5524 VOC</th>\n",
       "      <th>CCS811 VOC</th>\n",
       "      <th>Date</th>\n",
       "    </tr>\n",
       "  </thead>\n",
       "  <tbody>\n",
       "    <tr>\n",
       "      <th>0</th>\n",
       "      <td>750</td>\n",
       "      <td>202</td>\n",
       "      <td>12</td>\n",
       "      <td>0</td>\n",
       "      <td>0</td>\n",
       "      <td>0</td>\n",
       "      <td>32.69</td>\n",
       "      <td>1021.29</td>\n",
       "      <td>25.37</td>\n",
       "      <td>400</td>\n",
       "      <td>0.00</td>\n",
       "      <td>266</td>\n",
       "      <td>40</td>\n",
       "      <td>0</td>\n",
       "      <td>2020-05-31 16:20:38.947717</td>\n",
       "    </tr>\n",
       "  </tbody>\n",
       "</table>\n",
       "</div>"
      ],
      "text/plain": [
       "  PM 0.3 PM 0.5 PM 1.0 PM 2.5 PM 5.0 PM 10.0   Temp Pressure Humidity  CO2  \\\n",
       "0    750    202     12      0      0       0  32.69  1021.29    25.37  400   \n",
       "\n",
       "  BME680 VOC QM9 VOC MiCS5524 VOC CCS811 VOC                       Date  \n",
       "0       0.00     266           40          0 2020-05-31 16:20:38.947717  "
      ]
     },
     "execution_count": 10,
     "metadata": {},
     "output_type": "execute_result"
    }
   ],
   "source": [
    "clean_data_table = pd.DataFrame([sub.split(\",\") for sub in clean_data])\n",
    "clean_data_table['Date'] = [datetime.now()]\n",
    "clean_data_table.columns = headers\n",
    "clean_data_table"
   ]
  },
  {
   "cell_type": "code",
   "execution_count": 11,
   "metadata": {},
   "outputs": [
    {
     "data": {
      "text/html": [
       "<div>\n",
       "<table border=\"1\" class=\"dataframe\">\n",
       "  <thead>\n",
       "    <tr style=\"text-align: right;\">\n",
       "      <th></th>\n",
       "      <th>PM 0.3</th>\n",
       "      <th>PM 0.5</th>\n",
       "      <th>PM 1.0</th>\n",
       "      <th>PM 2.5</th>\n",
       "      <th>PM 5.0</th>\n",
       "      <th>PM 10.0</th>\n",
       "      <th>Temp</th>\n",
       "      <th>Pressure</th>\n",
       "      <th>Humidity</th>\n",
       "      <th>CO2</th>\n",
       "      <th>BME680 VOC</th>\n",
       "      <th>QM9 VOC</th>\n",
       "      <th>MiCS5524 VOC</th>\n",
       "      <th>CCS811 VOC</th>\n",
       "      <th>Date</th>\n",
       "    </tr>\n",
       "  </thead>\n",
       "  <tbody>\n",
       "    <tr>\n",
       "      <th>0</th>\n",
       "      <td>750</td>\n",
       "      <td>202</td>\n",
       "      <td>12</td>\n",
       "      <td>0</td>\n",
       "      <td>0</td>\n",
       "      <td>0</td>\n",
       "      <td>32.69</td>\n",
       "      <td>1021.29</td>\n",
       "      <td>25.37</td>\n",
       "      <td>400</td>\n",
       "      <td>0.00</td>\n",
       "      <td>266</td>\n",
       "      <td>40</td>\n",
       "      <td>0</td>\n",
       "      <td>2020-05-31 16:20:38.947717</td>\n",
       "    </tr>\n",
       "  </tbody>\n",
       "</table>\n",
       "</div>"
      ],
      "text/plain": [
       "  PM 0.3 PM 0.5 PM 1.0 PM 2.5 PM 5.0 PM 10.0   Temp Pressure Humidity  CO2  \\\n",
       "0    750    202     12      0      0       0  32.69  1021.29    25.37  400   \n",
       "\n",
       "  BME680 VOC QM9 VOC MiCS5524 VOC CCS811 VOC                       Date  \n",
       "0       0.00     266           40          0 2020-05-31 16:20:38.947717  "
      ]
     },
     "execution_count": 11,
     "metadata": {},
     "output_type": "execute_result"
    }
   ],
   "source": [
    "df = df.append(clean_data_table)\n",
    "df"
   ]
  },
  {
   "cell_type": "code",
   "execution_count": 12,
   "metadata": {
    "collapsed": true
   },
   "outputs": [],
   "source": [
    "df.to_csv(filename,names=headers)"
   ]
  },
  {
   "cell_type": "code",
   "execution_count": 13,
   "metadata": {},
   "outputs": [
    {
     "data": {
      "text/html": [
       "<div>\n",
       "<table border=\"1\" class=\"dataframe\">\n",
       "  <thead>\n",
       "    <tr style=\"text-align: right;\">\n",
       "      <th></th>\n",
       "      <th>PM 0.3</th>\n",
       "      <th>PM 0.5</th>\n",
       "      <th>PM 1.0</th>\n",
       "      <th>PM 2.5</th>\n",
       "      <th>PM 5.0</th>\n",
       "      <th>PM 10.0</th>\n",
       "      <th>Temp</th>\n",
       "      <th>Pressure</th>\n",
       "      <th>Humidity</th>\n",
       "      <th>CO2</th>\n",
       "      <th>BME680 VOC</th>\n",
       "      <th>QM9 VOC</th>\n",
       "      <th>MiCS5524 VOC</th>\n",
       "      <th>CCS811 VOC</th>\n",
       "      <th>Date</th>\n",
       "    </tr>\n",
       "  </thead>\n",
       "  <tbody>\n",
       "    <tr>\n",
       "      <th>0</th>\n",
       "      <td>750</td>\n",
       "      <td>202</td>\n",
       "      <td>12</td>\n",
       "      <td>0</td>\n",
       "      <td>0</td>\n",
       "      <td>0</td>\n",
       "      <td>32.69</td>\n",
       "      <td>1021.29</td>\n",
       "      <td>25.37</td>\n",
       "      <td>400</td>\n",
       "      <td>0</td>\n",
       "      <td>266</td>\n",
       "      <td>40</td>\n",
       "      <td>0</td>\n",
       "      <td>2020-05-31 16:20:38.947717</td>\n",
       "    </tr>\n",
       "  </tbody>\n",
       "</table>\n",
       "</div>"
      ],
      "text/plain": [
       "   PM 0.3  PM 0.5  PM 1.0  PM 2.5  PM 5.0  PM 10.0   Temp  Pressure  Humidity  \\\n",
       "0     750     202      12       0       0        0  32.69   1021.29     25.37   \n",
       "\n",
       "   CO2  BME680 VOC  QM9 VOC  MiCS5524 VOC  CCS811 VOC  \\\n",
       "0  400           0      266            40           0   \n",
       "\n",
       "                         Date  \n",
       "0  2020-05-31 16:20:38.947717  "
      ]
     },
     "execution_count": 13,
     "metadata": {},
     "output_type": "execute_result"
    }
   ],
   "source": [
    "df = pd.read_csv(filename,names=headers,skiprows = 1)\n",
    "df"
   ]
  },
  {
   "cell_type": "code",
   "execution_count": 14,
   "metadata": {},
   "outputs": [
    {
     "data": {
      "text/html": [
       "<div>\n",
       "<table border=\"1\" class=\"dataframe\">\n",
       "  <thead>\n",
       "    <tr style=\"text-align: right;\">\n",
       "      <th></th>\n",
       "      <th>PM 0.3</th>\n",
       "      <th>PM 0.5</th>\n",
       "      <th>PM 1.0</th>\n",
       "      <th>PM 2.5</th>\n",
       "      <th>PM 5.0</th>\n",
       "      <th>PM 10.0</th>\n",
       "      <th>Temp</th>\n",
       "      <th>Pressure</th>\n",
       "      <th>Humidity</th>\n",
       "      <th>CO2</th>\n",
       "      <th>BME680 VOC</th>\n",
       "      <th>QM9 VOC</th>\n",
       "      <th>MiCS5524 VOC</th>\n",
       "      <th>CCS811 VOC</th>\n",
       "      <th>Date</th>\n",
       "    </tr>\n",
       "  </thead>\n",
       "  <tbody>\n",
       "    <tr>\n",
       "      <th>0</th>\n",
       "      <td>750</td>\n",
       "      <td>202</td>\n",
       "      <td>12</td>\n",
       "      <td>0</td>\n",
       "      <td>0</td>\n",
       "      <td>0</td>\n",
       "      <td>32.69</td>\n",
       "      <td>1021.29</td>\n",
       "      <td>25.37</td>\n",
       "      <td>400</td>\n",
       "      <td>0</td>\n",
       "      <td>266</td>\n",
       "      <td>40</td>\n",
       "      <td>0</td>\n",
       "      <td>2020-05-31 16:20:38.947717</td>\n",
       "    </tr>\n",
       "  </tbody>\n",
       "</table>\n",
       "</div>"
      ],
      "text/plain": [
       "   PM 0.3  PM 0.5  PM 1.0  PM 2.5  PM 5.0  PM 10.0   Temp  Pressure  Humidity  \\\n",
       "0     750     202      12       0       0        0  32.69   1021.29     25.37   \n",
       "\n",
       "   CO2  BME680 VOC  QM9 VOC  MiCS5524 VOC  CCS811 VOC  \\\n",
       "0  400           0      266            40           0   \n",
       "\n",
       "                        Date  \n",
       "0 2020-05-31 16:20:38.947717  "
      ]
     },
     "execution_count": 14,
     "metadata": {},
     "output_type": "execute_result"
    }
   ],
   "source": [
    "dateparse = lambda x: pd.datetime.strptime(x, '%Y-%m-%d %H:%M:%S.%f')\n",
    "df = pd.read_csv(filename, parse_dates=['Date'], date_parser=dateparse,index_col=0)\n",
    "df"
   ]
  },
  {
   "cell_type": "code",
   "execution_count": 38,
   "metadata": {},
   "outputs": [
    {
     "data": {
      "image/png": "[encoded data removed]",
      "text/plain": [
       "<matplotlib.figure.Figure at 0xaca669d0>"
      ]
     },
     "metadata": {},
     "output_type": "display_data"
    }
   ],
   "source": [
    "x = df['Date']\n",
    "y1 = df['PM 0.3']\n",
    "y2 = df['PM 0.5']\n",
    "y3 = df['PM 1.0']\n",
    "y4 = df['PM 2.5']\n",
    "y5 = df['PM 5.0']\n",
    "y6 = df['PM 10.0']\n",
    "\n",
    "# plot\n",
    "plt.cla()\n",
    "plt.plot(x,y1, label='PM 0.3')\n",
    "plt.plot(x,y2, label='PM 0.5')\n",
    "plt.plot(x,y3, label='PM 1.0')\n",
    "plt.plot(x,y4, label='PM 2.5')\n",
    "plt.plot(x,y5, label='PM 5.0')\n",
    "plt.plot(x,y6, label='PM 10.0')\n",
    "\n",
    "plt.legend()\n",
    "# beautify the x-labels\n",
    "plt.gcf().autofmt_xdate()\n",
    "plt.show()\n",
    "#plt.ioff()"
   ]
  },
  {
   "cell_type": "code",
   "execution_count": 20,
   "metadata": {
    "collapsed": true
   },
   "outputs": [],
   "source": [
    "keep_running = True\n",
    "\n",
    "def collect_data():\n",
    "    while keep_running == True:\n",
    "        global df\n",
    "        serial_data = read_serial_data(serial_obj)\n",
    "        print(\"Reading Data\")\n",
    "        clean_data =  clean_serial_data(serial_data)\n",
    "        clean_data_table = pd.DataFrame([sub.split(\",\") for sub in clean_data],\n",
    "                                        columns=[\"PM 0.3\",\"PM 0.5\",\"PM 1.0\",\"PM 2.5\",\"PM 5.0\",\"PM 10.0\",\n",
    "                                                 \"Temp\",\"Pressure\",\"Humidity\",\"BME680 VOC\",\"QM9 VOC\",\n",
    "                                                 \"MiCS5524 VOC\",\"CO2\",\"CCS811 VOC\"])\n",
    "        clean_data_table['Date'] = [datetime.now()]\n",
    "        df = df.append(clean_data_table)\n",
    "        time.sleep(1)"
   ]
  },
  {
   "cell_type": "code",
   "execution_count": 21,
   "metadata": {},
   "outputs": [
    {
     "data": {
      "text/plain": [
       "<Thread(Thread-5, initial)>"
      ]
     },
     "execution_count": 21,
     "metadata": {},
     "output_type": "execute_result"
    }
   ],
   "source": [
    "t1"
   ]
  },
  {
   "cell_type": "code",
   "execution_count": 31,
   "metadata": {},
   "outputs": [
    {
     "name": "stdout",
     "output_type": "stream",
     "text": [
      "Reading Data\n",
      "Reading Data\n",
      "Reading Data\n",
      "Reading Data\n",
      "Reading Data\n",
      "Reading Data\n",
      "Reading Data\n",
      "Reading Data\n",
      "Reading Data\n"
     ]
    }
   ],
   "source": [
    "t1=threading.Thread(target=collect_data)\n",
    "t1.start()"
   ]
  },
  {
   "cell_type": "code",
   "execution_count": 32,
   "metadata": {
    "collapsed": true
   },
   "outputs": [],
   "source": [
    "keep_running = False"
   ]
  },
  {
   "cell_type": "code",
   "execution_count": 35,
   "metadata": {},
   "outputs": [
    {
     "data": {
      "text/plain": [
       "<Thread(Thread-6, stopped -1398533008)>"
      ]
     },
     "execution_count": 35,
     "metadata": {},
     "output_type": "execute_result"
    }
   ],
   "source": [
    "t1"
   ]
  },
  {
   "cell_type": "code",
   "execution_count": 37,
   "metadata": {},
   "outputs": [
    {
     "data": {
      "text/html": [
       "<div>\n",
       "<table border=\"1\" class=\"dataframe\">\n",
       "  <thead>\n",
       "    <tr style=\"text-align: right;\">\n",
       "      <th></th>\n",
       "      <th>PM 0.3</th>\n",
       "      <th>PM 0.5</th>\n",
       "      <th>PM 1.0</th>\n",
       "      <th>PM 2.5</th>\n",
       "      <th>PM 5.0</th>\n",
       "      <th>PM 10.0</th>\n",
       "      <th>Temp</th>\n",
       "      <th>Pressure</th>\n",
       "      <th>Humidity</th>\n",
       "      <th>CO2</th>\n",
       "      <th>BME680 VOC</th>\n",
       "      <th>QM9 VOC</th>\n",
       "      <th>MiCS5524 VOC</th>\n",
       "      <th>CCS811 VOC</th>\n",
       "      <th>Date</th>\n",
       "    </tr>\n",
       "  </thead>\n",
       "  <tbody>\n",
       "    <tr>\n",
       "      <th>0</th>\n",
       "      <td>750</td>\n",
       "      <td>202</td>\n",
       "      <td>12</td>\n",
       "      <td>0</td>\n",
       "      <td>0</td>\n",
       "      <td>0</td>\n",
       "      <td>32.69</td>\n",
       "      <td>1021.29</td>\n",
       "      <td>25.37</td>\n",
       "      <td>400</td>\n",
       "      <td>0</td>\n",
       "      <td>266</td>\n",
       "      <td>40</td>\n",
       "      <td>0</td>\n",
       "      <td>2020-05-31 16:20:38.947717</td>\n",
       "    </tr>\n",
       "    <tr>\n",
       "      <th>0</th>\n",
       "      <td>684</td>\n",
       "      <td>179</td>\n",
       "      <td>22</td>\n",
       "      <td>4</td>\n",
       "      <td>2</td>\n",
       "      <td>0</td>\n",
       "      <td>32.70</td>\n",
       "      <td>1021.31</td>\n",
       "      <td>25.45</td>\n",
       "      <td>38</td>\n",
       "      <td>450</td>\n",
       "      <td>4.76</td>\n",
       "      <td>265</td>\n",
       "      <td>7</td>\n",
       "      <td>2020-05-31 16:25:26.236951</td>\n",
       "    </tr>\n",
       "    <tr>\n",
       "      <th>0</th>\n",
       "      <td>723</td>\n",
       "      <td>189</td>\n",
       "      <td>23</td>\n",
       "      <td>2</td>\n",
       "      <td>0</td>\n",
       "      <td>0</td>\n",
       "      <td>32.71</td>\n",
       "      <td>1021.27</td>\n",
       "      <td>25.37</td>\n",
       "      <td>37</td>\n",
       "      <td>450</td>\n",
       "      <td>6.67</td>\n",
       "      <td>265</td>\n",
       "      <td>7</td>\n",
       "      <td>2020-05-31 16:25:34.336478</td>\n",
       "    </tr>\n",
       "    <tr>\n",
       "      <th>0</th>\n",
       "      <td>723</td>\n",
       "      <td>189</td>\n",
       "      <td>23</td>\n",
       "      <td>2</td>\n",
       "      <td>0</td>\n",
       "      <td>0</td>\n",
       "      <td>32.72</td>\n",
       "      <td>1021.29</td>\n",
       "      <td>25.34</td>\n",
       "      <td>38</td>\n",
       "      <td>455</td>\n",
       "      <td>8.96</td>\n",
       "      <td>266</td>\n",
       "      <td>8</td>\n",
       "      <td>2020-05-31 16:25:42.406175</td>\n",
       "    </tr>\n",
       "    <tr>\n",
       "      <th>0</th>\n",
       "      <td>705</td>\n",
       "      <td>183</td>\n",
       "      <td>26</td>\n",
       "      <td>0</td>\n",
       "      <td>0</td>\n",
       "      <td>0</td>\n",
       "      <td>32.72</td>\n",
       "      <td>1021.27</td>\n",
       "      <td>25.29</td>\n",
       "      <td>36</td>\n",
       "      <td>450</td>\n",
       "      <td>11.06</td>\n",
       "      <td>264</td>\n",
       "      <td>7</td>\n",
       "      <td>2020-05-31 16:25:50.474686</td>\n",
       "    </tr>\n",
       "    <tr>\n",
       "      <th>0</th>\n",
       "      <td>639</td>\n",
       "      <td>157</td>\n",
       "      <td>17</td>\n",
       "      <td>0</td>\n",
       "      <td>0</td>\n",
       "      <td>0</td>\n",
       "      <td>32.71</td>\n",
       "      <td>1021.23</td>\n",
       "      <td>25.00</td>\n",
       "      <td>42</td>\n",
       "      <td>426</td>\n",
       "      <td>6.66</td>\n",
       "      <td>261</td>\n",
       "      <td>3</td>\n",
       "      <td>2020-05-31 16:38:55.897145</td>\n",
       "    </tr>\n",
       "    <tr>\n",
       "      <th>0</th>\n",
       "      <td>744</td>\n",
       "      <td>184</td>\n",
       "      <td>31</td>\n",
       "      <td>2</td>\n",
       "      <td>0</td>\n",
       "      <td>0</td>\n",
       "      <td>32.70</td>\n",
       "      <td>1021.21</td>\n",
       "      <td>24.94</td>\n",
       "      <td>40</td>\n",
       "      <td>428</td>\n",
       "      <td>8.94</td>\n",
       "      <td>261</td>\n",
       "      <td>4</td>\n",
       "      <td>2020-05-31 16:39:03.964829</td>\n",
       "    </tr>\n",
       "    <tr>\n",
       "      <th>0</th>\n",
       "      <td>684</td>\n",
       "      <td>170</td>\n",
       "      <td>33</td>\n",
       "      <td>2</td>\n",
       "      <td>0</td>\n",
       "      <td>0</td>\n",
       "      <td>32.70</td>\n",
       "      <td>1021.19</td>\n",
       "      <td>24.88</td>\n",
       "      <td>43</td>\n",
       "      <td>428</td>\n",
       "      <td>11.51</td>\n",
       "      <td>262</td>\n",
       "      <td>4</td>\n",
       "      <td>2020-05-31 16:39:12.034387</td>\n",
       "    </tr>\n",
       "    <tr>\n",
       "      <th>0</th>\n",
       "      <td>690</td>\n",
       "      <td>172</td>\n",
       "      <td>21</td>\n",
       "      <td>2</td>\n",
       "      <td>0</td>\n",
       "      <td>0</td>\n",
       "      <td>32.70</td>\n",
       "      <td>1021.17</td>\n",
       "      <td>24.86</td>\n",
       "      <td>37</td>\n",
       "      <td>428</td>\n",
       "      <td>13.96</td>\n",
       "      <td>261</td>\n",
       "      <td>4</td>\n",
       "      <td>2020-05-31 16:39:20.103229</td>\n",
       "    </tr>\n",
       "    <tr>\n",
       "      <th>0</th>\n",
       "      <td>609</td>\n",
       "      <td>155</td>\n",
       "      <td>12</td>\n",
       "      <td>2</td>\n",
       "      <td>0</td>\n",
       "      <td>0</td>\n",
       "      <td>32.70</td>\n",
       "      <td>1021.17</td>\n",
       "      <td>24.87</td>\n",
       "      <td>36</td>\n",
       "      <td>435</td>\n",
       "      <td>16.34</td>\n",
       "      <td>260</td>\n",
       "      <td>5</td>\n",
       "      <td>2020-05-31 16:39:28.173980</td>\n",
       "    </tr>\n",
       "    <tr>\n",
       "      <th>0</th>\n",
       "      <td>681</td>\n",
       "      <td>186</td>\n",
       "      <td>16</td>\n",
       "      <td>0</td>\n",
       "      <td>0</td>\n",
       "      <td>0</td>\n",
       "      <td>32.70</td>\n",
       "      <td>1021.15</td>\n",
       "      <td>24.86</td>\n",
       "      <td>38</td>\n",
       "      <td>426</td>\n",
       "      <td>18.63</td>\n",
       "      <td>262</td>\n",
       "      <td>3</td>\n",
       "      <td>2020-05-31 16:39:36.244433</td>\n",
       "    </tr>\n",
       "    <tr>\n",
       "      <th>0</th>\n",
       "      <td>681</td>\n",
       "      <td>186</td>\n",
       "      <td>16</td>\n",
       "      <td>0</td>\n",
       "      <td>0</td>\n",
       "      <td>0</td>\n",
       "      <td>32.70</td>\n",
       "      <td>1021.15</td>\n",
       "      <td>24.82</td>\n",
       "      <td>37</td>\n",
       "      <td>426</td>\n",
       "      <td>20.72</td>\n",
       "      <td>261</td>\n",
       "      <td>3</td>\n",
       "      <td>2020-05-31 16:39:44.316320</td>\n",
       "    </tr>\n",
       "    <tr>\n",
       "      <th>0</th>\n",
       "      <td>645</td>\n",
       "      <td>180</td>\n",
       "      <td>14</td>\n",
       "      <td>2</td>\n",
       "      <td>0</td>\n",
       "      <td>0</td>\n",
       "      <td>32.70</td>\n",
       "      <td>1021.15</td>\n",
       "      <td>24.82</td>\n",
       "      <td>38</td>\n",
       "      <td>428</td>\n",
       "      <td>22.60</td>\n",
       "      <td>261</td>\n",
       "      <td>4</td>\n",
       "      <td>2020-05-31 16:39:52.385268</td>\n",
       "    </tr>\n",
       "    <tr>\n",
       "      <th>0</th>\n",
       "      <td>645</td>\n",
       "      <td>180</td>\n",
       "      <td>14</td>\n",
       "      <td>2</td>\n",
       "      <td>0</td>\n",
       "      <td>0</td>\n",
       "      <td>32.71</td>\n",
       "      <td>1021.13</td>\n",
       "      <td>24.79</td>\n",
       "      <td>37</td>\n",
       "      <td>428</td>\n",
       "      <td>24.92</td>\n",
       "      <td>261</td>\n",
       "      <td>4</td>\n",
       "      <td>2020-05-31 16:40:00.454191</td>\n",
       "    </tr>\n",
       "    <tr>\n",
       "      <th>0</th>\n",
       "      <td>573</td>\n",
       "      <td>158</td>\n",
       "      <td>21</td>\n",
       "      <td>2</td>\n",
       "      <td>0</td>\n",
       "      <td>0</td>\n",
       "      <td>32.71</td>\n",
       "      <td>1021.13</td>\n",
       "      <td>24.79</td>\n",
       "      <td>37</td>\n",
       "      <td>426</td>\n",
       "      <td>26.83</td>\n",
       "      <td>261</td>\n",
       "      <td>3</td>\n",
       "      <td>2020-05-31 16:40:08.533353</td>\n",
       "    </tr>\n",
       "  </tbody>\n",
       "</table>\n",
       "</div>"
      ],
      "text/plain": [
       "  PM 0.3 PM 0.5 PM 1.0 PM 2.5 PM 5.0 PM 10.0   Temp Pressure Humidity  CO2  \\\n",
       "0    750    202     12      0      0       0  32.69  1021.29    25.37  400   \n",
       "0    684    179     22      4      2       0  32.70  1021.31    25.45   38   \n",
       "0    723    189     23      2      0       0  32.71  1021.27    25.37   37   \n",
       "0    723    189     23      2      0       0  32.72  1021.29    25.34   38   \n",
       "0    705    183     26      0      0       0  32.72  1021.27    25.29   36   \n",
       "0    639    157     17      0      0       0  32.71  1021.23    25.00   42   \n",
       "0    744    184     31      2      0       0  32.70  1021.21    24.94   40   \n",
       "0    684    170     33      2      0       0  32.70  1021.19    24.88   43   \n",
       "0    690    172     21      2      0       0  32.70  1021.17    24.86   37   \n",
       "0    609    155     12      2      0       0  32.70  1021.17    24.87   36   \n",
       "0    681    186     16      0      0       0  32.70  1021.15    24.86   38   \n",
       "0    681    186     16      0      0       0  32.70  1021.15    24.82   37   \n",
       "0    645    180     14      2      0       0  32.70  1021.15    24.82   38   \n",
       "0    645    180     14      2      0       0  32.71  1021.13    24.79   37   \n",
       "0    573    158     21      2      0       0  32.71  1021.13    24.79   37   \n",
       "\n",
       "  BME680 VOC QM9 VOC MiCS5524 VOC CCS811 VOC                       Date  \n",
       "0          0     266           40          0 2020-05-31 16:20:38.947717  \n",
       "0        450    4.76          265          7 2020-05-31 16:25:26.236951  \n",
       "0        450    6.67          265          7 2020-05-31 16:25:34.336478  \n",
       "0        455    8.96          266          8 2020-05-31 16:25:42.406175  \n",
       "0        450   11.06          264          7 2020-05-31 16:25:50.474686  \n",
       "0        426    6.66          261          3 2020-05-31 16:38:55.897145  \n",
       "0        428    8.94          261          4 2020-05-31 16:39:03.964829  \n",
       "0        428   11.51          262          4 2020-05-31 16:39:12.034387  \n",
       "0        428   13.96          261          4 2020-05-31 16:39:20.103229  \n",
       "0        435   16.34          260          5 2020-05-31 16:39:28.173980  \n",
       "0        426   18.63          262          3 2020-05-31 16:39:36.244433  \n",
       "0        426   20.72          261          3 2020-05-31 16:39:44.316320  \n",
       "0        428   22.60          261          4 2020-05-31 16:39:52.385268  \n",
       "0        428   24.92          261          4 2020-05-31 16:40:00.454191  \n",
       "0        426   26.83          261          3 2020-05-31 16:40:08.533353  "
      ]
     },
     "execution_count": 37,
     "metadata": {},
     "output_type": "execute_result"
    }
   ],
   "source": [
    "df[headers]"
   ]
  },
  {
   "cell_type": "code",
   "execution_count": null,
   "metadata": {
    "collapsed": true
   },
   "outputs": [],
   "source": [
    "df[headers] #Make sure the DataFrame is in the correct order\n",
    "df.to_csv(filename,names=headers)\n",
    "df"
   ]
  }
 ],
 "metadata": {
  "kernelspec": {
   "display_name": "Python 3",
   "language": "python",
   "name": "python3"
  },
  "language_info": {
   "codemirror_mode": {
    "name": "ipython",
    "version": 3
   },
   "file_extension": ".py",
   "mimetype": "text/x-python",
   "name": "python",
   "nbconvert_exporter": "python",
   "pygments_lexer": "ipython3",
   "version": "3.5.2"
  }
 },
 "nbformat": 4,
 "nbformat_minor": 2
}
