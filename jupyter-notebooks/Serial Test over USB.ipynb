{
 "cells": [
  {
   "cell_type": "markdown",
   "metadata": {},
   "source": [
    "# Serial Test over USB\n",
    "Connecting to a USB serial port to get data from an Arduino. To install the software run:\n",
    "\n",
    "`apt-get install python-serial`"
   ]
  },
  {
   "cell_type": "code",
   "execution_count": 1,
   "metadata": {},
   "outputs": [
    {
     "name": "stdout",
     "output_type": "stream",
     "text": [
      "\u001b[0m\u001b[01;33m/dev/ttyACM4\u001b[0m\r\n"
     ]
    }
   ],
   "source": [
    "%ls /dev/ttyACM*"
   ]
  },
  {
   "cell_type": "markdown",
   "metadata": {},
   "source": [
    "## Setup the serial configuration\n",
    "Check that the serial device printed by the command above matches the `portPath` below:"
   ]
  },
  {
   "cell_type": "code",
   "execution_count": 2,
   "metadata": {
    "collapsed": true
   },
   "outputs": [],
   "source": [
    "import serial\n",
    "import time\n",
    "import csv\n",
    "import re\n",
    "import matplotlib.pyplot as plt\n",
    "import pandas as pd\n",
    " \n",
    "portPath = \"/dev/ttyACM4\"       # Must match value shown on Arduino IDE\n",
    "baud = 115200                   # Must match Arduino baud rate\n",
    "timeout = 5                     # Seconds\n",
    "filename = \"data.csv\"\n",
    "max_num_readings = 8\n",
    "num_signals = 1\n",
    " \n",
    " \n",
    " \n",
    "def create_serial_obj(portPath, baud_rate, tout):\n",
    "    \"\"\"\n",
    "    Given the port path, baud rate, and timeout value, creates and returns a pyserial object.\n",
    "    \"\"\"\n",
    "    return serial.Serial(portPath, baud_rate, timeout = tout)"
   ]
  },
  {
   "cell_type": "code",
   "execution_count": 27,
   "metadata": {
    "collapsed": true
   },
   "outputs": [],
   "source": [
    "def read_serial_data(serial):\n",
    "    \"\"\"\n",
    "    Given a pyserial object (serial). Outputs a list of lines read in from the serial port\n",
    "    \"\"\"\n",
    "    #serial.flushInput()\n",
    "    serial.reset_input_buffer()\n",
    "    \n",
    "    serial_data = []\n",
    "    readings_left = True\n",
    "    timeout_reached = False\n",
    "    \n",
    "    #Send data to start the transfer\n",
    "    serial.write(1)\n",
    "    #Wait for the data to be ready\n",
    "    time.sleep(2)\n",
    "    \n",
    "    while readings_left and not timeout_reached:\n",
    "        serial_line = serial.readline()\n",
    "        if serial_line == b'':\n",
    "            timeout_reached = True\n",
    "        else:\n",
    "            serial_data.append(serial_line)\n",
    "            if len(serial_data) == max_num_readings:\n",
    "                readings_left = False\n",
    "        \n",
    "    return serial_data"
   ]
  },
  {
   "cell_type": "code",
   "execution_count": 9,
   "metadata": {
    "scrolled": true
   },
   "outputs": [
    {
     "name": "stdout",
     "output_type": "stream",
     "text": [
      "Creating serial object...\n",
      "Reading serial data...\n",
      "[]\n",
      "[b'2\\r\\n']\n"
     ]
    }
   ],
   "source": [
    "print (\"Creating serial object...\")\n",
    "serial_obj = create_serial_obj(portPath, baud, timeout)\n",
    " \n",
    "print (\"Reading serial data...\")\n",
    "serial_data = read_serial_data(serial_obj)\n",
    "#print serial_data.len()"
   ]
  },
  {
   "cell_type": "code",
   "execution_count": 19,
   "metadata": {
    "collapsed": true
   },
   "outputs": [],
   "source": [
    "def is_number(string):\n",
    "    \"\"\"\n",
    "    Given a string returns True if the string represents a number.\n",
    "    Returns False otherwise.\n",
    "    \"\"\"\n",
    "    try:\n",
    "        float(string)\n",
    "        return True\n",
    "    except ValueError:\n",
    "        return False\n",
    "        \n",
    "def clean_serial_data(data):\n",
    "    \"\"\"\n",
    "    Given a list of serial lines (data). Removes all characters.\n",
    "    Returns the cleaned list of lists of digits.\n",
    "    Given something like: ['0.5000,33\\r\\n', '1.0000,283\\r\\n']\n",
    "    Returns: [[0.5,33.0], [1.0,283.0]]\n",
    "    \"\"\"\n",
    "    clean_data = []\n",
    "    \n",
    "    for line in data:\n",
    "        line_data = float(line.strip())\n",
    "        #line_data = re.findall(\"\\d*\\.\\d*|\\d*\",line) # Find all digits\n",
    "        #line_data = [float(element) for element in line_data if is_number(element)] # Convert strings to float\n",
    "        if line_data >= 0.0:\n",
    "            clean_data.append(line_data)\n",
    " \n",
    "    return clean_data"
   ]
  },
  {
   "cell_type": "code",
   "execution_count": 11,
   "metadata": {},
   "outputs": [
    {
     "data": {
      "text/plain": [
       "[b'2\\r\\n']"
      ]
     },
     "execution_count": 11,
     "metadata": {},
     "output_type": "execute_result"
    }
   ],
   "source": [
    "serial_data"
   ]
  },
  {
   "cell_type": "code",
   "execution_count": 16,
   "metadata": {},
   "outputs": [
    {
     "data": {
      "text/plain": [
       "2.0"
      ]
     },
     "execution_count": 16,
     "metadata": {},
     "output_type": "execute_result"
    }
   ],
   "source": [
    "line = serial_data[0]\n",
    "line = float(line.strip())\n",
    "line"
   ]
  },
  {
   "cell_type": "code",
   "execution_count": 20,
   "metadata": {
    "scrolled": true
   },
   "outputs": [
    {
     "data": {
      "text/plain": [
       "[2.0]"
      ]
     },
     "execution_count": 20,
     "metadata": {},
     "output_type": "execute_result"
    }
   ],
   "source": [
    "clean_serial_data(serial_data)"
   ]
  },
  {
   "cell_type": "code",
   "execution_count": 22,
   "metadata": {
    "collapsed": true
   },
   "outputs": [],
   "source": [
    "def save_to_csv(data, filename):\n",
    "    \"\"\"\n",
    "    Saves a list of lists (data) to filename\n",
    "    \"\"\"\n",
    "    with open(filename, 'wb') as csvfile:\n",
    "        csvwrite = csv.writer(csvfile)\n",
    "        csvwrite.writerows(data)\n",
    "\n",
    "def gen_col_list(num_signals):\n",
    "    \"\"\"\n",
    "    Given the number of signals returns\n",
    "    a list of columns for the data.\n",
    "    E.g. 3 signals returns the list: ['Time','Signal1','Signal2','Signal3']\n",
    "    \"\"\"\n",
    "    col_list = ['Time']\n",
    "    for i in range(1,num_signals+1):\n",
    "        col = 'Signal'+str(i)\n",
    "        col_list.append(col)\n",
    "        \n",
    "    return col_list\n",
    "    \n",
    "def map_value(x, in_min, in_max, out_min, out_max):\n",
    "    return (((x - in_min) * (out_max - out_min))/(in_max - in_min)) + out_min"
   ]
  },
  {
   "cell_type": "code",
   "execution_count": 23,
   "metadata": {
    "collapsed": true
   },
   "outputs": [],
   "source": [
    "def simple_plot(csv_file, columns, headers):\n",
    "    plt.clf()\n",
    "    plt.close()\n",
    "    plt.plotfile(csv_file, columns, names=headers, newfig=True)\n",
    "    plt.show()\n",
    "\n",
    "def plot_csv(csv_file, cols):\n",
    "    # Create Pandas DataFrame from csv data\n",
    "    data_frame = pd.read_csv(csv_file)\n",
    "    # Set the names of the columns\n",
    "    data_frame.columns = cols\n",
    "    # Set the first column (Time) as the index \n",
    "    data_frame = data_frame.set_index(cols[0])\n",
    "    # Map the voltage values from 0-1023 to 0-5\n",
    "    data_frame = data_frame.apply(lambda x: map_value(x,0.,1023,0,5))\n",
    "    # Bring back the Time column\n",
    "    data_frame = data_frame.reset_index()\n",
    "    plt.clf()\n",
    "    plt.close()\n",
    "    # Plot the data\n",
    "    data_frame.plot(x=cols[0],y=cols[1:])\n",
    "    plt.show()"
   ]
  },
  {
   "cell_type": "code",
   "execution_count": 26,
   "metadata": {},
   "outputs": [
    {
     "name": "stdout",
     "output_type": "stream",
     "text": [
      "Creating serial object...\n",
      "Reading serial data...\n",
      "[]\n",
      "[b'2\\r\\n']\n",
      "1\n",
      "Cleaning data...\n",
      "Saving to csv...\n"
     ]
    },
    {
     "ename": "Error",
     "evalue": "iterable expected, not float",
     "output_type": "error",
     "traceback": [
      "\u001b[0;31m---------------------------------------------------------------------------\u001b[0m",
      "\u001b[0;31mError\u001b[0m                                     Traceback (most recent call last)",
      "\u001b[0;32m<ipython-input-26-0e533b084757>\u001b[0m in \u001b[0;36m<module>\u001b[0;34m()\u001b[0m\n\u001b[1;32m     10\u001b[0m \u001b[0;34m\u001b[0m\u001b[0m\n\u001b[1;32m     11\u001b[0m \u001b[0mprint\u001b[0m\u001b[0;34m(\u001b[0m\u001b[0;34m\"Saving to csv...\"\u001b[0m\u001b[0;34m)\u001b[0m\u001b[0;34m\u001b[0m\u001b[0m\n\u001b[0;32m---> 12\u001b[0;31m \u001b[0msave_to_csv\u001b[0m\u001b[0;34m(\u001b[0m\u001b[0mclean_data\u001b[0m\u001b[0;34m,\u001b[0m \u001b[0mfilename\u001b[0m\u001b[0;34m)\u001b[0m\u001b[0;34m\u001b[0m\u001b[0m\n\u001b[0m\u001b[1;32m     13\u001b[0m \u001b[0;34m\u001b[0m\u001b[0m\n\u001b[1;32m     14\u001b[0m \u001b[0mprint\u001b[0m\u001b[0;34m(\u001b[0m\u001b[0;34m\"Plotting data...\"\u001b[0m\u001b[0;34m)\u001b[0m\u001b[0;34m\u001b[0m\u001b[0m\n",
      "\u001b[0;32m<ipython-input-22-bb974771bcc6>\u001b[0m in \u001b[0;36msave_to_csv\u001b[0;34m(data, filename)\u001b[0m\n\u001b[1;32m      5\u001b[0m     \u001b[0;32mwith\u001b[0m \u001b[0mopen\u001b[0m\u001b[0;34m(\u001b[0m\u001b[0mfilename\u001b[0m\u001b[0;34m,\u001b[0m \u001b[0;34m'wb'\u001b[0m\u001b[0;34m)\u001b[0m \u001b[0;32mas\u001b[0m \u001b[0mcsvfile\u001b[0m\u001b[0;34m:\u001b[0m\u001b[0;34m\u001b[0m\u001b[0m\n\u001b[1;32m      6\u001b[0m         \u001b[0mcsvwrite\u001b[0m \u001b[0;34m=\u001b[0m \u001b[0mcsv\u001b[0m\u001b[0;34m.\u001b[0m\u001b[0mwriter\u001b[0m\u001b[0;34m(\u001b[0m\u001b[0mcsvfile\u001b[0m\u001b[0;34m)\u001b[0m\u001b[0;34m\u001b[0m\u001b[0m\n\u001b[0;32m----> 7\u001b[0;31m         \u001b[0mcsvwrite\u001b[0m\u001b[0;34m.\u001b[0m\u001b[0mwriterows\u001b[0m\u001b[0;34m(\u001b[0m\u001b[0mdata\u001b[0m\u001b[0;34m)\u001b[0m\u001b[0;34m\u001b[0m\u001b[0m\n\u001b[0m\u001b[1;32m      8\u001b[0m \u001b[0;34m\u001b[0m\u001b[0m\n\u001b[1;32m      9\u001b[0m \u001b[0;32mdef\u001b[0m \u001b[0mgen_col_list\u001b[0m\u001b[0;34m(\u001b[0m\u001b[0mnum_signals\u001b[0m\u001b[0;34m)\u001b[0m\u001b[0;34m:\u001b[0m\u001b[0;34m\u001b[0m\u001b[0m\n",
      "\u001b[0;31mError\u001b[0m: iterable expected, not float"
     ]
    }
   ],
   "source": [
    "print(\"Creating serial object...\")\n",
    "serial_obj = create_serial_obj(portPath, baud, timeout)\n",
    " \n",
    "print (\"Reading serial data...\")\n",
    "serial_data = read_serial_data(serial_obj)\n",
    "print(len(serial_data))\n",
    " \n",
    "print(\"Cleaning data...\")\n",
    "clean_data =  clean_serial_data(serial_data)\n",
    " \n",
    "print(\"Saving to csv...\")\n",
    "save_to_csv(clean_data, filename)\n",
    " \n",
    "print(\"Plotting data...\")\n",
    "#simple_plot(filename, (0,1,2), ['time (s)', 'voltage1', 'voltage2'])\n",
    "#simple_plot(filename, (0,1), ['time (s)', 'voltage1'])\n",
    "plot_csv(filename, gen_col_list(num_signals))"
   ]
  },
  {
   "cell_type": "code",
   "execution_count": null,
   "metadata": {
    "collapsed": true
   },
   "outputs": [],
   "source": []
  }
 ],
 "metadata": {
  "kernelspec": {
   "display_name": "Python 3",
   "language": "python",
   "name": "python3"
  },
  "language_info": {
   "codemirror_mode": {
    "name": "ipython",
    "version": 3
   },
   "file_extension": ".py",
   "mimetype": "text/x-python",
   "name": "python",
   "nbconvert_exporter": "python",
   "pygments_lexer": "ipython3",
   "version": "3.5.2"
  }
 },
 "nbformat": 4,
 "nbformat_minor": 2
}
