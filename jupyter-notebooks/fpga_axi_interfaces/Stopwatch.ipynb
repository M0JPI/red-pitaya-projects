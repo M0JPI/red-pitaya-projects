{
 "cells": [
  {
   "cell_type": "markdown",
   "metadata": {},
   "source": [
    "# Python Example for FPGA Lesson 4\n",
    "This notebook shows how to interface the AXI memory mapped FPGA lesson 4 bitstream using Python.\n",
    "\n",
    "https://redpitaya-knowledge-base.readthedocs.io/en/latest/learn_fpga/4_lessons/StopWatch.html  \n",
    "http://antonpotocnik.com/?p=489265\n",
    "\n",
    "### Load the Stopwatch bitstream\n",
    "The two cells below load the bitstream for the stopwatch example and demonstrate it.\n",
    "\n",
    "The memory map will close as part of garbage collection"
   ]
  },
  {
   "cell_type": "code",
   "execution_count": 1,
   "metadata": {},
   "outputs": [
    {
     "data": {
      "text/plain": [
       "0"
      ]
     },
     "execution_count": 1,
     "metadata": {},
     "output_type": "execute_result"
    }
   ],
   "source": [
    "import os\n",
    "os.system('cat /root/stopwatch.bit > /dev/xdevcfg')"
   ]
  },
  {
   "cell_type": "code",
   "execution_count": 2,
   "metadata": {
    "collapsed": true
   },
   "outputs": [],
   "source": [
    "import mmap\n",
    "import os\n",
    "import time\n",
    "import numpy as np\n",
    "\n",
    "axi_gpio_regset = np.dtype([\n",
    "    ('gpio1_data'   , 'uint32'),\n",
    "    ('gpio1_control', 'uint32'),\n",
    "    ('gpio2_data'   , 'uint32'),\n",
    "    ('gpio2_control', 'uint32')\n",
    "])\n",
    "\n",
    "memory_file_handle = os.open('/dev/mem', os.O_RDWR)\n",
    "axi_mmap = mmap.mmap(fileno=memory_file_handle, length=mmap.PAGESIZE, offset=0x40000000)\n",
    "axi_numpy_array = np.recarray(1, axi_gpio_regset, buf=axi_mmap)\n",
    "axi_array_contents = axi_numpy_array[0]\n",
    "\n",
    "freq = 124998750 #FPGA Clock Frequency Hz"
   ]
  },
  {
   "cell_type": "code",
   "execution_count": 9,
   "metadata": {},
   "outputs": [
    {
     "name": "stdout",
     "output_type": "stream",
     "text": [
      "Clock count:  4278907400  calculated time:  1711.56296  Seconds\n"
     ]
    }
   ],
   "source": [
    "axi_array_contents.gpio1_data = 0x02 #clear timer\n",
    "axi_array_contents.gpio1_data = 0x01 #start timer\n",
    "time.sleep(34.2) # Count to the maximim LED (8 MSB value)\n",
    "axi_array_contents.gpio1_data = 0x00 #stop timer\n",
    "print(\"Clock count: \", axi_array_contents.gpio2_data, \" calculated time: \", axi_array_contents.gpio2_data/freq, \" Seconds\")"
   ]
  },
  {
   "cell_type": "code",
   "execution_count": 4,
   "metadata": {
    "scrolled": true
   },
   "outputs": [
    {
     "data": {
      "text/plain": [
       "0"
      ]
     },
     "execution_count": 4,
     "metadata": {},
     "output_type": "execute_result"
    }
   ],
   "source": [
    "os.system('cat /root/stopwatch.bit > /dev/xdevcfg')"
   ]
  },
  {
   "cell_type": "markdown",
   "metadata": {},
   "source": [
    "### Change Clock Speed\n",
    "The following terminal commands can be used to change the PL fabric clock speed. The script needs root access.\n",
    "The clock frequancy can be set from 100000 to 2500000000. Above 300000 gave me better timing results. 124998750 is the default.\n",
    "\n",
    "`devcfg=/sys/devices/soc0/amba/f8007000.devcfg`  \n",
    "`test -d $devcfg/fclk/fclk0 || echo fclk0 > $devcfg/fclk_export`  \n",
    "`echo 0 > $devcfg/fclk/fclk0/enable`  \n",
    "`echo 2500000000 > $devcfg/fclk/fclk0/set_rate`  \n",
    "`echo 1 > $devcfg/fclk/fclk0/enable`"
   ]
  },
  {
   "cell_type": "code",
   "execution_count": 5,
   "metadata": {
    "scrolled": true
   },
   "outputs": [
    {
     "name": "stdout",
     "output_type": "stream",
     "text": [
      "Clock count:  375496591  calculated time:  150.1986364  Seconds\n"
     ]
    }
   ],
   "source": [
    "freq = 2500000 #FPGA Clock Frequency Hz\n",
    "\n",
    "axi_array_contents.gpio1_data = 0x02 #clear timer\n",
    "axi_array_contents.gpio1_data = 0x01 #start timer\n",
    "time.sleep(3) # Count to the maximim LED (8 MSB value)\n",
    "axi_array_contents.gpio1_data = 0x00 #stop timer\n",
    "print(\"Clock count: \", axi_array_contents.gpio2_data, \" calculated time: \", axi_array_contents.gpio2_data/freq, \" Seconds\")"
   ]
  },
  {
   "cell_type": "markdown",
   "metadata": {},
   "source": [
    "### Test the original Shared Memory Functions\n",
    "The cell below loads the default fpga bitstream and should flash the LEDs 10 times, and display the contents of the shared memory.  \n",
    "For more details about the Red Pitaya Memory Map see: https://redpitaya.readthedocs.io/en/latest/developerGuide/software/build/fpga/regset_common.html"
   ]
  },
  {
   "cell_type": "code",
   "execution_count": 6,
   "metadata": {
    "collapsed": true
   },
   "outputs": [],
   "source": [
    "housekeeping_regset = np.dtype([\n",
    "    ('id'          , 'uint32'),\n",
    "    ('dna_lo'      , 'uint32'),\n",
    "    ('dna_hi'      , 'uint32'),\n",
    "    ('digital_loop', 'uint32'),\n",
    "    ('ex_cd_p'     , 'uint32'),\n",
    "    ('ex_cd_n'     , 'uint32'),\n",
    "    ('ex_co_p'     , 'uint32'),\n",
    "    ('ex_co_n'     , 'uint32'),\n",
    "    ('ex_ci_p'     , 'uint32'),\n",
    "    ('ex_ci_n'     , 'uint32'),\n",
    "    ('reserved_2'  , 'uint32'),\n",
    "    ('reserved_3'  , 'uint32'),\n",
    "    ('led_control' , 'uint32')\n",
    "])"
   ]
  },
  {
   "cell_type": "code",
   "execution_count": 7,
   "metadata": {
    "scrolled": true
   },
   "outputs": [
    {
     "data": {
      "text/plain": [
       "(1, 1928398932, 2377098, 0, 0, 0, 0, 0, 254, 255, 0, 0, 0)"
      ]
     },
     "execution_count": 7,
     "metadata": {},
     "output_type": "execute_result"
    }
   ],
   "source": [
    "#Test original\n",
    "os.system('cat /opt/redpitaya/fpga/fpga_0.94.bit > /dev/xdevcfg')\n",
    "\n",
    "fd = os.open('/dev/mem', os.O_RDWR)\n",
    "m = mmap.mmap(fileno=fd, length=mmap.PAGESIZE, offset=0x40000000)\n",
    "hk_array = np.recarray(1, housekeeping_regset, buf=m)\n",
    "housekeeping_control = hk_array[0]\n",
    "\n",
    "for i in range(10):\n",
    "    housekeeping_control.led_control = 0xff\n",
    "    time.sleep(0.2)\n",
    "    housekeeping_control.led_control = 0x00\n",
    "    time.sleep(0.2)\n",
    "housekeeping_control"
   ]
  }
 ],
 "metadata": {
  "kernelspec": {
   "display_name": "Python 3",
   "language": "python",
   "name": "python3"
  },
  "language_info": {
   "codemirror_mode": {
    "name": "ipython",
    "version": 3
   },
   "file_extension": ".py",
   "mimetype": "text/x-python",
   "name": "python",
   "nbconvert_exporter": "python",
   "pygments_lexer": "ipython3",
   "version": "3.5.2"
  }
 },
 "nbformat": 4,
 "nbformat_minor": 2
}
