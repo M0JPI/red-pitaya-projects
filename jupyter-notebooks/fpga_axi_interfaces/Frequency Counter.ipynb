{
 "cells": [
  {
   "cell_type": "markdown",
   "metadata": {},
   "source": [
    "# Frequency Counter\n",
    "The input probes **must** be set to **10x attenuation** and the input IN1 jumber to **HV**.  \n",
    "The threashold is set inside the bitstream in the frequancy_counter_v1_0 block.\n",
    "\n",
    "http://antonpotocnik.com/?p=519284\n",
    "\n",
    "https://redpitaya-knowledge-base.readthedocs.io/en/latest/learn_fpga/4_lessons/FreqCounter.html"
   ]
  },
  {
   "cell_type": "code",
   "execution_count": 6,
   "metadata": {
    "collapsed": true
   },
   "outputs": [],
   "source": [
    "import mmap\n",
    "import os\n",
    "import time\n",
    "import numpy as np\n",
    "\n",
    "os.system('cat /root/freq_counter.bit > /dev/xdevcfg')\n",
    "\n",
    "axi_gpio_regset = np.dtype([\n",
    "    ('gpio1_data'   , 'uint32'),\n",
    "    ('gpio1_control', 'uint32'),\n",
    "    ('gpio2_data'   , 'uint32'),\n",
    "    ('gpio2_control', 'uint32')\n",
    "])\n",
    "\n",
    "memory_file_handle = os.open('/dev/mem', os.O_RDWR)\n",
    "axi_mmap = mmap.mmap(fileno=memory_file_handle, length=mmap.PAGESIZE, offset=0x42000000)\n",
    "axi_numpy_array = np.recarray(1, axi_gpio_regset, buf=axi_mmap)\n",
    "axi_array_contents = axi_numpy_array[0]\n",
    "\n",
    "freq = 125000000  #FPGA Clock Frequency Hz"
   ]
  },
  {
   "cell_type": "code",
   "execution_count": 2,
   "metadata": {},
   "outputs": [
    {
     "name": "stdout",
     "output_type": "stream",
     "text": [
      "Counts:  81920138  cycles:  65536  frequency:  99999.8315433 Hz\n",
      "\n"
     ]
    }
   ],
   "source": [
    "log2_Ncycles = 16\n",
    "freq_in = 100000\n",
    "phase_inc = 2.147482*freq_in\n",
    "Ncycles = 1<<log2_Ncycles\n",
    "\n",
    "axi_array_contents.gpio2_data = (0x1f & log2_Ncycles) + (int(phase_inc) << 5)\n",
    "time.sleep(5) #Allow the counter to stabilise\n",
    "\n",
    "count = axi_array_contents.gpio1_data\n",
    "print(\"Counts: \", count, \" cycles: \",Ncycles, \" frequency: \",freq/(count/Ncycles),\"Hz\\n\")"
   ]
  },
  {
   "cell_type": "code",
   "execution_count": 7,
   "metadata": {},
   "outputs": [
    {
     "data": {
      "text/plain": [
       "(8191, 4294967295, 127, 4294967295)"
      ]
     },
     "execution_count": 7,
     "metadata": {},
     "output_type": "execute_result"
    }
   ],
   "source": [
    "#Access the second AXI GPIO Interface\n",
    "axi_mmap1 = mmap.mmap(fileno=memory_file_handle, length=mmap.PAGESIZE, offset=0x41200000)\n",
    "axi_numpy_array1 = np.recarray(1, axi_gpio_regset, buf=axi_mmap1)\n",
    "axi_array_contents1 = axi_numpy_array1[0]\n",
    "axi_array_contents1"
   ]
  }
 ],
 "metadata": {
  "kernelspec": {
   "display_name": "Python 3",
   "language": "python",
   "name": "python3"
  },
  "language_info": {
   "codemirror_mode": {
    "name": "ipython",
    "version": 3
   },
   "file_extension": ".py",
   "mimetype": "text/x-python",
   "name": "python",
   "nbconvert_exporter": "python",
   "pygments_lexer": "ipython3",
   "version": "3.5.2"
  }
 },
 "nbformat": 4,
 "nbformat_minor": 2
}
