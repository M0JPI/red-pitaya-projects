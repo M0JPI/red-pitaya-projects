{
 "cells": [
  {
   "cell_type": "markdown",
   "metadata": {},
   "source": [
    "# Concurrent Programming Test\n",
    "In this example I test out threads"
   ]
  },
  {
   "cell_type": "code",
   "execution_count": 1,
   "metadata": {},
   "outputs": [],
   "source": [
    "import concurrent.futures\n",
    "import time\n",
    "import threading\n",
    "\n",
    "my_data = 0\n",
    "keep_going = True\n",
    "\n",
    "def do_something(seconds):\n",
    "    global my_data\n",
    "    print('Sleeping {} second(s)...'.format(seconds))\n",
    "    time.sleep(seconds)\n",
    "    print(\"my_data: \" + str(my_data))\n",
    "    my_data = my_data + 1\n",
    "    while keep_going:\n",
    "        print(\"Still going\")\n",
    "    return 'Done Sleeping...{}'.format(seconds)"
   ]
  },
  {
   "cell_type": "code",
   "execution_count": 2,
   "metadata": {},
   "outputs": [
    {
     "name": "stdout",
     "output_type": "stream",
     "text": [
      "Sleeping 1.5 second(s)...Sleeping 1.5 second(s)...\n",
      "\n",
      "my_data: 0\n",
      "Finished in 0.01 second(s)\n"
     ]
    }
   ],
   "source": [
    "start = time.perf_counter()\n",
    "\n",
    "#with concurrent.futures.ThreadPoolExecutor() as executor:\n",
    "#    secs = [5, 4, 3, 2, 1]\n",
    "#    results = executor.map(do_something, secs)\n",
    "\n",
    "#    for result in results:\n",
    "#         print(result)\n",
    "\n",
    "# threads = []\n",
    "\n",
    "# for _ in range(10):\n",
    "#     t = threading.Thread(target=do_something, args=[1.5])\n",
    "#     t.start()\n",
    "#     threads.append(t)\n",
    "\n",
    "# for thread in threads:\n",
    "#     thread.join()\n",
    "\n",
    "t1=threading.Thread(target=do_something, args=[1.5])\n",
    "t2=threading.Thread(target=do_something, args=[1.5])\n",
    "\n",
    "t1.start()\n",
    "t2.start()\n",
    "\n",
    "finish = time.perf_counter()\n",
    "time_taken = round(finish-start, 2)\n",
    "\n",
    "print(\"my_data: \" + str(my_data))\n",
    "print(\"Finished in {} second(s)\".format(time_taken))"
   ]
  },
  {
   "cell_type": "code",
   "execution_count": 3,
   "metadata": {},
   "outputs": [
    {
     "data": {
      "text/plain": [
       "True"
      ]
     },
     "execution_count": 3,
     "metadata": {},
     "output_type": "execute_result"
    }
   ],
   "source": [
    "keep_going"
   ]
  },
  {
   "cell_type": "code",
   "execution_count": 4,
   "metadata": {
    "scrolled": true
   },
   "outputs": [
    {
     "data": {
      "text/plain": [
       "<Thread(Thread-4, started -1321470864)>"
      ]
     },
     "execution_count": 4,
     "metadata": {},
     "output_type": "execute_result"
    }
   ],
   "source": [
    "t1"
   ]
  },
  {
   "cell_type": "code",
   "execution_count": 5,
   "metadata": {
    "scrolled": true
   },
   "outputs": [
    {
     "data": {
      "text/plain": [
       "<Thread(Thread-4, started -1321470864)>"
      ]
     },
     "execution_count": 5,
     "metadata": {},
     "output_type": "execute_result"
    },
    {
     "name": "stdout",
     "output_type": "stream",
     "text": [
      "my_data: 0\n",
      "my_data: 1\n"
     ]
    }
   ],
   "source": [
    "keep_going = False\n",
    "time.sleep(0.1)\n",
    "t1"
   ]
  },
  {
   "cell_type": "code",
   "execution_count": 6,
   "metadata": {},
   "outputs": [
    {
     "data": {
      "text/plain": [
       "2"
      ]
     },
     "execution_count": 6,
     "metadata": {},
     "output_type": "execute_result"
    }
   ],
   "source": [
    "my_data"
   ]
  },
  {
   "cell_type": "code",
   "execution_count": 7,
   "metadata": {},
   "outputs": [
    {
     "data": {
      "text/plain": [
       "<Thread(Thread-4, stopped -1321470864)>"
      ]
     },
     "execution_count": 7,
     "metadata": {},
     "output_type": "execute_result"
    }
   ],
   "source": [
    "t1"
   ]
  },
  {
   "cell_type": "code",
   "execution_count": 8,
   "metadata": {},
   "outputs": [
    {
     "data": {
      "text/plain": [
       "<Thread(Thread-5, stopped -1329859472)>"
      ]
     },
     "execution_count": 8,
     "metadata": {},
     "output_type": "execute_result"
    }
   ],
   "source": [
    "t2"
   ]
  }
 ],
 "metadata": {
  "kernelspec": {
   "display_name": "Python 3",
   "language": "python",
   "name": "python3"
  },
  "language_info": {
   "codemirror_mode": {
    "name": "ipython",
    "version": 3
   },
   "file_extension": ".py",
   "mimetype": "text/x-python",
   "name": "python",
   "nbconvert_exporter": "python",
   "pygments_lexer": "ipython3",
   "version": "3.5.2"
  }
 },
 "nbformat": 4,
 "nbformat_minor": 2
}
