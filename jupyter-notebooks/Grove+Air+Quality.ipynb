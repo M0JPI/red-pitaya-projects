{
 "cells": [
  {
   "cell_type": "markdown",
   "metadata": {},
   "source": [
    "## Setup\n",
    "- Red Pitaya STEMlab board + sensor shield\n",
    "- Grove temperature sensor\n",
    "- Grove Air Quality Sensor\n",
    "- Grove Alcohol Sensor v1.2\n",
    "- Grove Barometer Sensor (BMP180)"
   ]
  },
  {
   "cell_type": "markdown",
   "metadata": {},
   "source": [
    "## Temperature Sensor\n",
    "The Grove - Temperature Sensor uses a Thermistor to detect the ambient temperature. The resistance of a thermistor will increase when the ambient temperature decreases. It's this characteristic that we use to calculate the ambient temperature. The detectable range of this sensor is -40 - 125ºC, and the accuracy is ±1.5ºC\n",
    "Datasheet: [NCP18WF104F03RC](http://wiki.seeed.cc/Grove-Temperature_Sensor_V1.2/) \n",
    "![temp_sensor](../examples/img/temp_sensor.jpg)\n",
    "![temp_sensor_sch](../examples/img/temp_sensor_sch.png)"
   ]
  },
  {
   "cell_type": "code",
   "execution_count": 1,
   "metadata": {},
   "outputs": [
    {
     "name": "stdout",
     "output_type": "stream",
     "text": [
      "Requested overlay is already loaded.\n"
     ]
    }
   ],
   "source": [
    "from redpitaya.overlay.mercury import mercury as FPGA\n",
    "overlay = FPGA()\n",
    "ANALOG_TEMP = FPGA.analog_in(0) # define which pin will be used for temperature sensor"
   ]
  },
  {
   "cell_type": "code",
   "execution_count": 2,
   "metadata": {},
   "outputs": [
    {
     "data": {
      "image/png": "[encoded data removed]",
      "text/plain": [
       "<matplotlib.figure.Figure at 0xadb3d9b0>"
      ]
     },
     "metadata": {},
     "output_type": "display_data"
    }
   ],
   "source": [
    "# Temperature vs. NTC resistance \n",
    "import math\n",
    "import matplotlib.pyplot as plt\n",
    "import time\n",
    "from redpitaya.overlay.mercury import mercury as FPGA\n",
    "\n",
    "def res_to_temp(Rntc):\n",
    "    B = 4275; # B value of the thermistor\n",
    "    return (1.0/(math.log10(Rntc/100000.0)/B+1/298.15)-273.15) #convert to temperature via datasheet \n",
    "temp = [ res_to_temp(R) for R in range(10000,300000,100)]\n",
    "plt.plot(range(10000,300000,100), temp)\n",
    "plt.xlabel('Rntc[ohm]')\n",
    "plt.ylabel('Temperature[*C]')\n",
    "plt.show()"
   ]
  },
  {
   "cell_type": "markdown",
   "metadata": {},
   "source": [
    "## Reading temperature sensor\n",
    "\n",
    "To read the temperature we need to read the voltage value and convert it to temperature."
   ]
  },
  {
   "cell_type": "code",
   "execution_count": 3,
   "metadata": {
    "scrolled": false
   },
   "outputs": [
    {
     "name": "stdout",
     "output_type": "stream",
     "text": [
      "voltage=1.43V temp 22.57℃\n"
     ]
    }
   ],
   "source": [
    "def temp():\n",
    "    Va0=ANALOG_TEMP.read() # read voltage of sensor\n",
    "    R0 = 100000;       # R0 = 100k\n",
    "    Rntc = 3.3/(Va0)-1.0 \n",
    "    Rntc = 100000.0*Rntc # thermistor resistance\n",
    "    return (res_to_temp(Rntc),Va0);\n",
    "r=temp()\n",
    "\n",
    "print(\"voltage={:.2f}V temp {:.2f}℃\".format(r[1],r[0]) )"
   ]
  },
  {
   "cell_type": "code",
   "execution_count": 4,
   "metadata": {},
   "outputs": [
    {
     "data": {
      "text/plain": [
       "(22.572163422149686, 1.4277412246367738)"
      ]
     },
     "execution_count": 4,
     "metadata": {},
     "output_type": "execute_result"
    }
   ],
   "source": [
    "r"
   ]
  },
  {
   "cell_type": "markdown",
   "metadata": {},
   "source": [
    "## Alcohol Sensor\n",
    "The [Grove - Alcohol Sensor](https://wiki.seeedstudio.com/Grove-Alcohol_Sensor/) is a complete alcohol sensor module. It is built with MQ303A semiconductor alcohol sensor. It has good sensitivity and fast response to alcohol. It is suitable for making Breathalyzer. This Grove implements all the necessary circuitry for MQ303A like power conditioning and heater power supply. This sensor outputs a voltage inversely proportional to the alcohol concentration in air.\n",
    "Datasheet: [MQ303A](https://files.seeedstudio.com/wiki/Grove-Alcohol_Sensor/res/MQ303A.pdf/) "
   ]
  },
  {
   "cell_type": "code",
   "execution_count": 5,
   "metadata": {},
   "outputs": [
    {
     "name": "stdout",
     "output_type": "stream",
     "text": [
      "sensor_volt =0.02V RS_air = 0.00\n"
     ]
    }
   ],
   "source": [
    "ANALOG_Alcohol = FPGA.analog_in(2) # define which pin will be used for alcohol sensor\n",
    "\n",
    "sensorValue = 0\n",
    " \n",
    "#Get a average data by testing 100 times\n",
    "i = 1\n",
    "while i <= 100:\n",
    "    sensorValue = sensorValue + ANALOG_Alcohol.read()\n",
    "    i += 1\n",
    "sensorValue = sensorValue/100.0;\n",
    "\n",
    "sensor_volt = sensorValue/1024*5.0;\n",
    "RS_air = sensor_volt/(5.0-sensor_volt); #Get the value of RS via in a clear air - omit *R16\n",
    "\n",
    "print(\"sensor_volt ={:.2f}V RS_air = {:.2f}\".format(sensor_volt,RS_air) )"
   ]
  },
  {
   "cell_type": "code",
   "execution_count": 6,
   "metadata": {},
   "outputs": [
    {
     "data": {
      "text/plain": [
       "3.2218333150676357"
      ]
     },
     "execution_count": 6,
     "metadata": {},
     "output_type": "execute_result"
    }
   ],
   "source": [
    "ANALOG_Alcohol = FPGA.analog_in(3)\n",
    "ANALOG_Alcohol.read()"
   ]
  }
 ],
 "metadata": {
  "kernelspec": {
   "display_name": "Python 3",
   "language": "python",
   "name": "python3"
  },
  "language_info": {
   "codemirror_mode": {
    "name": "ipython",
    "version": 3
   },
   "file_extension": ".py",
   "mimetype": "text/x-python",
   "name": "python",
   "nbconvert_exporter": "python",
   "pygments_lexer": "ipython3",
   "version": "3.5.2"
  }
 },
 "nbformat": 4,
 "nbformat_minor": 2
}
