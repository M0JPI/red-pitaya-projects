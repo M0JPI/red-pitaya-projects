{
 "cells": [
  {
   "cell_type": "markdown",
   "metadata": {},
   "source": [
    "# Audio Input on the fast ADC"
   ]
  },
  {
   "cell_type": "markdown",
   "metadata": {},
   "source": [
    "This example shows how a audio signal can be captured using the fast input IN2.\n",
    "\n",
    "Mercury is the Jupyter FPGA overlay for the Red Pitaya."
   ]
  },
  {
   "cell_type": "code",
   "execution_count": null,
   "metadata": {
    "scrolled": true
   },
   "outputs": [],
   "source": [
    "from redpitaya.overlay.mercury import mercury as overlay\n",
    "fpga = overlay()"
   ]
  },
  {
   "cell_type": "markdown",
   "metadata": {},
   "source": [
    "Make an instance of the oscilloscope object is used for the input. The first argument is the channel index in range [0,1]. The second argument is the voltage range in volts, should be either 1.0 (default if unspecified) or 20.0. This is set to channel 1 (IN2) and 1.0 Volts the Low setting on the jumper."
   ]
  },
  {
   "cell_type": "code",
   "execution_count": null,
   "metadata": {
    "collapsed": true
   },
   "outputs": [],
   "source": [
    "in2 = fpga.osc(1, 1.0)"
   ]
  },
  {
   "cell_type": "markdown",
   "metadata": {},
   "source": [
    "User should specify:\n",
    "1. Sample rate decimation is an integer in range [1, 2\\*\\*17] = [1, 131072].\n",
    "2. Number of samples stored before and after trigger, for a forced trigger only post trigger samples are enough.\n",
    "3. Input level trigger source should (depending on the test purpose) be disabled (it is enabled by default)\n",
    "\n",
    "30,000 samples per second is the minimum sample rate IPython.display will support. The minimum was chosen for this example to maximise the recording time using the oscilloscope object buffer."
   ]
  },
  {
   "cell_type": "code",
   "execution_count": null,
   "metadata": {
    "collapsed": true
   },
   "outputs": [],
   "source": [
    "# data rate decimation \n",
    "in2.decimation = 41667 #125 Msps / 41667 = 30 Ksps\n",
    "\n",
    "# trigger timing [sample periods]\n",
    "N = in2.buffer_size\n",
    "in2.trigger_pre  = 0\n",
    "in2.trigger_post = N\n",
    "\n",
    "# disable hardware trigger sources - the Jupyter notebook will trigger the start of audio recording\n",
    "in2.trig_src = 0"
   ]
  },
  {
   "cell_type": "markdown",
   "metadata": {},
   "source": [
    "The oscilloscope should be reset, started, and a software trigger should be issued.\n",
    "A loop is checking if the desired number of data samples was already stored in the buffer.\n",
    "\n",
    "The same number of samples as the sum of pre/post trigger delays should be read from the buffer.\n",
    "The data read is aligned to the last sample, which will be always present as the last sample in the returned array."
   ]
  },
  {
   "cell_type": "code",
   "execution_count": null,
   "metadata": {},
   "outputs": [],
   "source": [
    "# synchronization and trigger sources are the default,\n",
    "# which is the module itself\n",
    "in2.reset()\n",
    "in2.start()\n",
    "in2.trigger()\n",
    "# wait for data\n",
    "while (in2.status_run()): pass\n",
    "print ('Recording complete')\n",
    "data = in2.data(N)"
   ]
  },
  {
   "cell_type": "markdown",
   "metadata": {},
   "source": [
    "The audio data can then be displayed as an audio file that can be played or downloaded."
   ]
  },
  {
   "cell_type": "code",
   "execution_count": null,
   "metadata": {},
   "outputs": [],
   "source": [
    "import IPython.display as ipd\n",
    "sr = 3000 # sample rate 30 Ksps\n",
    "ipd.Audio(data, rate=sr) # load a NumPy array"
   ]
  },
  {
   "cell_type": "markdown",
   "metadata": {},
   "source": [
    "Once the recording has been captured it can be displayed as a waveform."
   ]
  },
  {
   "cell_type": "code",
   "execution_count": null,
   "metadata": {
    "scrolled": true
   },
   "outputs": [],
   "source": [
    "import matplotlib.pyplot as plt\n",
    "\n",
    "# show the part of the buffer requested by pre/post trigger timing - in this example the whole buffer.\n",
    "\n",
    "plt.plot(data)\n",
    "plt.show()"
   ]
  },
  {
   "cell_type": "markdown",
   "metadata": {},
   "source": [
    "Audio recorded by the stream server application can be displayed directly in Jupyter using IPython.display.\n",
    "As the audio file is a WAV file it containts a sampling frequancy."
   ]
  },
  {
   "cell_type": "code",
   "execution_count": null,
   "metadata": {},
   "outputs": [],
   "source": [
    "sr2 = 40 # sample rate 48 Ksps\n",
    "ipd.Audio('/tmp/stream_files/data_file_2020-05-23_13-23-32.wav', rate=sr2) # load a NumPy array"
   ]
  },
  {
   "cell_type": "markdown",
   "metadata": {},
   "source": [
    "If the sampling frequancy stored in the WAV file is incorrect it can be changes by reading the audio into `numpy` using `pydub`.\n",
    "\n",
    "If you install `pydub` and `ffmpeg` using the commands `pip install pydub` then `apt-get install ffmpeg` from the console you can use those libraries in Jupyter to work with audio files.\n",
    "\n",
    "First we will create a function to read in an audio segment."
   ]
  },
  {
   "cell_type": "code",
   "execution_count": null,
   "metadata": {},
   "outputs": [],
   "source": [
    "import pydub \n",
    "import numpy as np\n",
    "\n",
    "def read(file):\n",
    "    \"\"\"MP3 to numpy array\"\"\"\n",
    "    a = pydub.AudioSegment.from_wav(file)\n",
    "    y = np.array(a.get_array_of_samples())\n",
    "    if a.channels == 2:\n",
    "        y = y.reshape((-1, 2))\n",
    "    return np.float32(y) / 2**15"
   ]
  },
  {
   "cell_type": "markdown",
   "metadata": {},
   "source": [
    "Then we will use the new function to read in a file created by the stream server application."
   ]
  },
  {
   "cell_type": "code",
   "execution_count": null,
   "metadata": {},
   "outputs": [],
   "source": [
    "np_sound = read('/tmp/stream_files/data_file_2020-05-23_13-23-32.wav')"
   ]
  },
  {
   "cell_type": "markdown",
   "metadata": {},
   "source": [
    "Finally the streamed file can be displayed using `IPython.display`."
   ]
  },
  {
   "cell_type": "code",
   "execution_count": null,
   "metadata": {},
   "outputs": [],
   "source": [
    "ipd.Audio(np_sound, rate=48000)"
   ]
  }
 ],
 "metadata": {
  "kernelspec": {
   "display_name": "Python 3",
   "language": "python",
   "name": "python3"
  },
  "language_info": {
   "codemirror_mode": {
    "name": "ipython",
    "version": 3
   },
   "file_extension": ".py",
   "mimetype": "text/x-python",
   "name": "python",
   "nbconvert_exporter": "python",
   "pygments_lexer": "ipython3",
   "version": "3.5.2"
  }
 },
 "nbformat": 4,
 "nbformat_minor": 2
}
