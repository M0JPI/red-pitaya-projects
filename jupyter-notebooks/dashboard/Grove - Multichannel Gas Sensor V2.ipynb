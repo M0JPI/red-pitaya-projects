{
 "cells": [
  {
   "cell_type": "markdown",
   "metadata": {},
   "source": [
    "# Multichannel Gas Sensor V2\n",
    "This code is based on https://wiki.seeedstudio.com/Grove-Multichannel-Gas-Sensor-V2/\n",
    "\n",
    "Grove - Multichannel Gas Sensor V2 has 4 measuring units, each of them is sensitive to various kinds of gases, which means you are able to get four sets of data at the same time. And different sorts of gases can also be judged by these four sets of data. The gas sensor used in this module is based on MEMS technology and has the advantage of being in a small size with considerable measurement stability and is more suitable for qualitative than quantitative measurement.\n",
    "### This code is a work in progress\n"
   ]
  },
  {
   "cell_type": "code",
   "execution_count": 31,
   "metadata": {
    "collapsed": true
   },
   "outputs": [],
   "source": [
    "from smbus2 import SMBus, i2c_msg\n",
    "i2cbus = SMBus(0)\n",
    "i2c_addr = 0x08\n",
    "_i2c = i2cbus\n",
    "\n",
    "WARMING_UP = 0xFE\n",
    "WARMING_DOWN = 0xFF\n",
    "GMXXX_CMD_REG = 0x00\n",
    "CHANGE_I2C_ADDR = 0x55\n",
    "\n",
    "GM_102B = 0x01\n",
    "GM_302B = 0x03\n",
    "GM_502B = 0x05\n",
    "GM_702B = 0x07"
   ]
  },
  {
   "cell_type": "code",
   "execution_count": null,
   "metadata": {},
   "outputs": [],
   "source": [
    "import gas_gmxxxb\n",
    "test_device = gas_gmxxxb.GAS_GMXXX()"
   ]
  },
  {
   "cell_type": "code",
   "execution_count": 35,
   "metadata": {},
   "outputs": [
    {
     "name": "stdout",
     "output_type": "stream",
     "text": [
      "GM_102B  466\n",
      "GM_302B  365\n",
      "GM_502B  296\n",
      "GM_702B  275\n"
     ]
    }
   ],
   "source": [
    "msg = i2c_msg.write(i2c_addr, [WARMING_UP])\n",
    "i2cbus.i2c_rdwr(msg)\n",
    "print(\"GM_102B \", int.from_bytes(_i2c.read_i2c_block_data(i2c_addr, GM_102B,2), byteorder='little'))\n",
    "print(\"GM_302B \", int.from_bytes(_i2c.read_i2c_block_data(i2c_addr, GM_302B,2), byteorder='little'))\n",
    "print(\"GM_502B \", int.from_bytes(_i2c.read_i2c_block_data(i2c_addr, GM_502B,2), byteorder='little'))\n",
    "print(\"GM_702B \", int.from_bytes(_i2c.read_i2c_block_data(i2c_addr, GM_702B,2), byteorder='little'))"
   ]
  },
  {
   "cell_type": "code",
   "execution_count": 34,
   "metadata": {},
   "outputs": [],
   "source": [
    "_i2c.write_byte_data(i2c_addr, CHANGE_I2C_ADDR, 0x08)"
   ]
  }
 ],
 "metadata": {
  "kernelspec": {
   "display_name": "Python 3",
   "language": "python",
   "name": "python3"
  },
  "language_info": {
   "codemirror_mode": {
    "name": "ipython",
    "version": 3
   },
   "file_extension": ".py",
   "mimetype": "text/x-python",
   "name": "python",
   "nbconvert_exporter": "python",
   "pygments_lexer": "ipython3",
   "version": "3.5.2"
  }
 },
 "nbformat": 4,
 "nbformat_minor": 2
}
