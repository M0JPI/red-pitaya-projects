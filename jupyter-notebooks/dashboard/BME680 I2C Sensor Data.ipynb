{
 "cells": [
  {
   "cell_type": "markdown",
   "metadata": {},
   "source": [
    "# BME680 Temperature, Pressure, Humidity & Gas Sensor\n",
    "This code is based on https://github.com/pimoroni/bme680-python\n"
   ]
  },
  {
   "cell_type": "code",
   "execution_count": 1,
   "metadata": {},
   "outputs": [],
   "source": [
    "import bme680\n",
    "import constants\n",
    "import time\n",
    "import threading"
   ]
  },
  {
   "cell_type": "code",
   "execution_count": 2,
   "metadata": {
    "collapsed": true
   },
   "outputs": [],
   "source": [
    "from smbus import SMBus\n",
    "i2cbus = SMBus(0)"
   ]
  },
  {
   "cell_type": "code",
   "execution_count": 30,
   "metadata": {
    "scrolled": true
   },
   "outputs": [
    {
     "name": "stdout",
     "output_type": "stream",
     "text": [
      "Display initial temperature, pressure, humidity, and gas.\n",
      "gas_index: 0\n",
      "gas_resistance: 9230769.762871865\n",
      "heat_stable: False\n",
      "humidity: 48.233\n",
      "meas_index: 0\n",
      "pressure: 1028.92\n",
      "status: 32\n",
      "temperature: 21.72\n"
     ]
    }
   ],
   "source": [
    "print(\"Display initial temperature, pressure, humidity, and gas.\")\n",
    "\n",
    "try:\n",
    "    sensor = bme680.BME680(bme680.I2C_ADDR_PRIMARY,i2cbus)\n",
    "except (RuntimeError, IOError):\n",
    "    sensor = bme680.BME680(bme680.I2C_ADDR_SECONDARY,i2cbus)\n",
    "\n",
    "# These calibration data can safely be commented\n",
    "# out, if desired.\n",
    "\n",
    "#print('Calibration data:')\n",
    "#for name in dir(sensor.calibration_data):\n",
    "#\n",
    "#    if not name.startswith('_'):\n",
    "#        value = getattr(sensor.calibration_data, name)\n",
    "#\n",
    "#        if isinstance(value, int):\n",
    "#            print('{}: {}'.format(name, value))\n",
    "\n",
    "# These oversampling settings can be tweaked to\n",
    "# change the balance between accuracy and noise in\n",
    "# the data.\n",
    "\n",
    "sensor.set_humidity_oversample(bme680.OS_2X)\n",
    "sensor.set_pressure_oversample(bme680.OS_4X)\n",
    "sensor.set_temperature_oversample(bme680.OS_8X)\n",
    "sensor.set_filter(bme680.FILTER_SIZE_3)\n",
    "sensor.set_gas_status(bme680.ENABLE_GAS_MEAS)\n",
    "\n",
    "#Print each initial reading\n",
    "for name in dir(sensor.data):\n",
    "    value = getattr(sensor.data, name)\n",
    "\n",
    "    if not name.startswith('_'):\n",
    "        print('{}: {}'.format(name, value))\n",
    "\n",
    "# Up to 10 heater profiles can be configured, each\n",
    "# with their own temperature and duration.\n",
    "# sensor.set_gas_heater_profile(200, 150, nb_profile=1)\n",
    "# sensor.select_gas_heater_profile(1)\n",
    "sensor.set_gas_heater_temperature(320)\n",
    "sensor.set_gas_heater_duration(150)\n",
    "sensor.select_gas_heater_profile(0)"
   ]
  },
  {
   "cell_type": "code",
   "execution_count": 31,
   "metadata": {
    "collapsed": true
   },
   "outputs": [],
   "source": [
    "#Define a worker thread to poll the sensor\n",
    "continue_worker_thread = True\n",
    "def work():\n",
    "    while continue_worker_thread == True:\n",
    "        if sensor.get_sensor_data():\n",
    "            output = '{0:.2f} C,{1:.2f} hPa,{2:.2f} %RH'.format(\n",
    "                sensor.data.temperature,\n",
    "                sensor.data.pressure,\n",
    "                sensor.data.humidity)\n",
    "\n",
    "            if sensor.data.heat_stable:\n",
    "                print('{0},{1} Ohms'.format(\n",
    "                    output,\n",
    "                    sensor.data.gas_resistance))\n",
    "\n",
    "            else:\n",
    "                print(output)\n",
    "\n",
    "        time.sleep(1)"
   ]
  },
  {
   "cell_type": "code",
   "execution_count": 32,
   "metadata": {},
   "outputs": [
    {
     "name": "stdout",
     "output_type": "stream",
     "text": [
      "21.72 C,1028.93 hPa,48.22 %RH\n",
      "21.75 C,1028.93 hPa,48.20 %RH,12123.344766153705 Ohms\n",
      "21.82 C,1028.94 hPa,48.10 %RH,16835.096996726825 Ohms\n"
     ]
    }
   ],
   "source": [
    "#Start polling for values\n",
    "thread = threading.Thread(target=work)\n",
    "thread.start()"
   ]
  },
  {
   "cell_type": "code",
   "execution_count": 33,
   "metadata": {},
   "outputs": [],
   "source": [
    "#Stop the worker thread\n",
    "continue_worker_thread = False"
   ]
  },
  {
   "cell_type": "code",
   "execution_count": null,
   "metadata": {},
   "outputs": [],
   "source": [
    "from smbus import SMBus\n",
    "i2cbus = SMBus(0)\n",
    "print(\"\"\"Estimate indoor air quality.\n",
    "Runs the sensor for a burn-in period, then uses a\n",
    "combination of relative humidity and gas resistance\n",
    "to estimate indoor air quality as a percentage.\n",
    "Press Ctrl+C to exit!\n",
    "\"\"\")\n",
    "\n",
    "try:\n",
    "    sensor = BME680(I2C_ADDR_PRIMARY,i2cbus)\n",
    "except (RuntimeError, IOError):\n",
    "    sensor = BME680(I2C_ADDR_SECONDARY,i2cbus)\n",
    "\n",
    "# These oversampling settings can be tweaked to\n",
    "# change the balance between accuracy and noise in\n",
    "# the data.\n",
    "\n",
    "sensor.set_humidity_oversample(OS_2X)\n",
    "sensor.set_pressure_oversample(OS_4X)\n",
    "sensor.set_temperature_oversample(OS_8X)\n",
    "sensor.set_filter(FILTER_SIZE_3)\n",
    "sensor.set_gas_status(ENABLE_GAS_MEAS)\n",
    "\n",
    "sensor.set_gas_heater_temperature(320)\n",
    "sensor.set_gas_heater_duration(150)\n",
    "sensor.select_gas_heater_profile(0)\n",
    "\n",
    "# start_time and curr_time ensure that the\n",
    "# burn_in_time (in seconds) is kept track of.\n",
    "\n",
    "start_time = time.time()\n",
    "curr_time = time.time()\n",
    "burn_in_time = 300\n",
    "\n",
    "burn_in_data = []\n",
    "\n",
    "try:\n",
    "    # Collect gas resistance burn-in values, then use the average\n",
    "    # of the last 50 values to set the upper limit for calculating\n",
    "    # gas_baseline.\n",
    "    print('Collecting gas resistance burn-in data for 5 mins\\n')\n",
    "    while curr_time - start_time < burn_in_time:\n",
    "        curr_time = time.time()\n",
    "        if sensor.get_sensor_data() and sensor.data.heat_stable:\n",
    "            gas = sensor.data.gas_resistance\n",
    "            burn_in_data.append(gas)\n",
    "            print('Gas: {0} Ohms'.format(gas))\n",
    "            time.sleep(1)\n",
    "\n",
    "    gas_baseline = sum(burn_in_data[-50:]) / 50.0\n",
    "\n",
    "    # Set the humidity baseline to 40%, an optimal indoor humidity.\n",
    "    hum_baseline = 40.0\n",
    "\n",
    "    # This sets the balance between humidity and gas reading in the\n",
    "    # calculation of air_quality_score (25:75, humidity:gas)\n",
    "    hum_weighting = 0.25\n",
    "\n",
    "    print('Gas baseline: {0} Ohms, humidity baseline: {1:.2f} %RH\\n'.format(\n",
    "        gas_baseline,\n",
    "        hum_baseline))\n",
    "\n",
    "    while True:\n",
    "        if sensor.get_sensor_data() and sensor.data.heat_stable:\n",
    "            gas = sensor.data.gas_resistance\n",
    "            gas_offset = gas_baseline - gas\n",
    "\n",
    "            hum = sensor.data.humidity\n",
    "            hum_offset = hum - hum_baseline\n",
    "\n",
    "            # Calculate hum_score as the distance from the hum_baseline.\n",
    "            if hum_offset > 0:\n",
    "                hum_score = (100 - hum_baseline - hum_offset)\n",
    "                hum_score /= (100 - hum_baseline)\n",
    "                hum_score *= (hum_weighting * 100)\n",
    "\n",
    "            else:\n",
    "                hum_score = (hum_baseline + hum_offset)\n",
    "                hum_score /= hum_baseline\n",
    "                hum_score *= (hum_weighting * 100)\n",
    "\n",
    "            # Calculate gas_score as the distance from the gas_baseline.\n",
    "            if gas_offset > 0:\n",
    "                gas_score = (gas / gas_baseline)\n",
    "                gas_score *= (100 - (hum_weighting * 100))\n",
    "\n",
    "            else:\n",
    "                gas_score = 100 - (hum_weighting * 100)\n",
    "\n",
    "            # Calculate air_quality_score.\n",
    "            air_quality_score = hum_score + gas_score\n",
    "\n",
    "            print('Gas: {0:.2f} Ohms,humidity: {1:.2f} %RH,air quality: {2:.2f},hum_score: {3:.2f},gas_score: {4:.2f}'.format(\n",
    "                gas,\n",
    "                hum,\n",
    "                air_quality_score,\n",
    "                hum_score,\n",
    "                gas_score))\n",
    "\n",
    "            time.sleep(1)\n",
    "\n",
    "except KeyboardInterrupt:\n",
    "    pass"
   ]
  }
 ],
 "metadata": {
  "kernelspec": {
   "display_name": "Python 3",
   "language": "python",
   "name": "python3"
  },
  "language_info": {
   "codemirror_mode": {
    "name": "ipython",
    "version": 3
   },
   "file_extension": ".py",
   "mimetype": "text/x-python",
   "name": "python",
   "nbconvert_exporter": "python",
   "pygments_lexer": "ipython3",
   "version": "3.5.2"
  }
 },
 "nbformat": 4,
 "nbformat_minor": 2
}
