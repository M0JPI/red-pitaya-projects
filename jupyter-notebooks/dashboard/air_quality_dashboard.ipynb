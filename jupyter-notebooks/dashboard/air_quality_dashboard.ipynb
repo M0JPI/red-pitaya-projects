{
 "cells": [
  {
   "cell_type": "markdown",
   "metadata": {
    "extensions": {
     "jupyter_dashboards": {
      "version": 1,
      "views": {
       "grid_default": {
        "col": 0,
        "height": 4,
        "hidden": false,
        "row": 0,
        "width": 4
       },
       "report_default": {
        "hidden": false
       }
      }
     }
    }
   },
   "source": [
    "## Air Quality Dashboard\n",
    "This notebook shows how to use IPython Widgets to display the air quality using Grove Sensors.\n",
    "\n",
    "To install the correct serial and I2C libraries use:\n",
    "\n",
    "`pip install pyserial smbus`\n",
    "\n",
    "The dashboard can be run with the code cells hidden by using **`jupyter_dashboards`**. You can install and enable it with the following commands:\n",
    "\n",
    "`pip install jupyter_dashboards`\n",
    "\n",
    "`jupyter dashboards quick-setup --sys-prefix`\n",
    "\n",
    "You can show the full notebook again using the View Menu -> Notebook"
   ]
  },
  {
   "cell_type": "code",
   "execution_count": 1,
   "metadata": {
    "collapsed": true,
    "extensions": {
     "jupyter_dashboards": {
      "version": 1,
      "views": {
       "grid_default": {
        "hidden": true
       },
       "report_default": {
        "hidden": true
       }
      }
     }
    }
   },
   "outputs": [],
   "source": [
    "%matplotlib notebook\n",
    "import matplotlib\n",
    "import matplotlib.pyplot as plt\n",
    "import matplotlib.dates as mdates\n",
    "from matplotlib.animation import FuncAnimation\n",
    "import collect_air_data\n",
    "import time\n",
    "from datetime import datetime\n",
    "import pandas as pd\n",
    "from ipywidgets import interact, interactive, fixed, interact_manual\n",
    "import ipywidgets as widgets\n",
    "from ipywidgets import Button, HBox, VBox\n",
    "import os\n",
    "\n",
    "air_data = collect_air_data.collect_air_object()\n",
    "#Manage relative values of PMS here\n",
    "pms_ref_0_3 = air_data.pms_ref_0_3\n",
    "pms_ref_0_5 = air_data.pms_ref_0_5\n",
    "pms_ref_1_0 = air_data.pms_ref_1_0\n",
    "\n",
    "#Make a CSV Data folder\n",
    "try:\n",
    "    os.makedirs(\"CSV-Data\")\n",
    "except OSError:\n",
    "    pass"
   ]
  },
  {
   "cell_type": "code",
   "execution_count": 2,
   "metadata": {
    "extensions": {
     "jupyter_dashboards": {
      "version": 1,
      "views": {
       "grid_default": {
        "col": 4,
        "height": 5,
        "hidden": false,
        "row": 0,
        "width": 4
       },
       "report_default": {
        "hidden": true
       }
      }
     }
    },
    "scrolled": true
   },
   "outputs": [
    {
     "name": "stdout",
     "output_type": "stream",
     "text": [
      "31.21 C,1014.15 hPa,32.05 %RH\n",
      "31.22 C,1014.15 hPa,32.05 %RH\n",
      "31.23 C,1014.19 hPa,32.01 %RH\n",
      "31.24 C,1014.16 hPa,31.99 %RH\n",
      "31.26 C,1014.17 hPa,31.97 %RH,3999.0294839230323 Ohms\n"
     ]
    }
   ],
   "source": [
    "#This cell make sure the bme680 is heated up\n",
    "while True:\n",
    "    if air_data.bme_680.get_sensor_data():\n",
    "        output = '{0:.2f} C,{1:.2f} hPa,{2:.2f} %RH'.format(\n",
    "            air_data.bme_680.data.temperature,\n",
    "            air_data.bme_680.data.pressure,\n",
    "            air_data.bme_680.data.humidity)\n",
    "        #Only print gas data if the heater is stable\n",
    "        if air_data.bme_680.data.heat_stable:\n",
    "            print('{0},{1} Ohms'.format(\n",
    "                output,\n",
    "                air_data.bme_680.data.gas_resistance))\n",
    "            break\n",
    "        else:\n",
    "            print(output)\n",
    "    time.sleep(1)"
   ]
  },
  {
   "cell_type": "code",
   "execution_count": 3,
   "metadata": {
    "extensions": {
     "jupyter_dashboards": {
      "version": 1,
      "views": {
       "grid_default": {
        "hidden": true
       },
       "report_default": {
        "hidden": false
       }
      }
     }
    },
    "scrolled": true
   },
   "outputs": [
    {
     "data": {
      "application/vnd.jupyter.widget-view+json": {
       "model_id": "f1267d64a8f84bdaa98da36f85946f9e",
       "version_major": 2,
       "version_minor": 0
      },
      "text/plain": [
       "A Jupyter Widget"
      ]
     },
     "metadata": {},
     "output_type": "display_data"
    }
   ],
   "source": [
    "button = widgets.Button(description='Reset Values to 1')\n",
    "def on_button_clicked(_):\n",
    "    air_data.reset_ref_values()\n",
    "    #Reset all the reference values to their current value\n",
    "    pms5003_data = air_data.pms5003.read()\n",
    "    pms_ref_0_3 = pms5003_data.pm_per_1l_air(0.3)\n",
    "    pms_ref_0_5 = pms5003_data.pm_per_1l_air(0.5)\n",
    "    pms_ref_1_0 = pms5003_data.pm_per_1l_air(1.0)\n",
    "# linking button and function together using a button's method\n",
    "button.on_click(on_button_clicked)\n",
    "\n",
    "button2 = widgets.Button(description='Clear and Restart Plot')\n",
    "def on_button2_clicked(_):\n",
    "    global df\n",
    "    df = pd.DataFrame()\n",
    "# linking button and function together using a button's method\n",
    "button.on_click(on_button_clicked)\n",
    "button2.on_click(on_button2_clicked)\n",
    "\n",
    "# displaying button\n",
    "HBox([button,button2])"
   ]
  },
  {
   "cell_type": "code",
   "execution_count": 5,
   "metadata": {
    "extensions": {
     "jupyter_dashboards": {
      "version": 1,
      "views": {
       "grid_default": {
        "hidden": true
       },
       "report_default": {
        "hidden": true
       }
      }
     }
    },
    "scrolled": false
   },
   "outputs": [
    {
     "ename": "SerialTimeoutError",
     "evalue": "PMS5003 Read Timeout: Failed to read start of frame byte",
     "output_type": "error",
     "traceback": [
      "\u001b[0;31m---------------------------------------------------------------------------\u001b[0m",
      "\u001b[0;31mSerialTimeoutError\u001b[0m                        Traceback (most recent call last)",
      "\u001b[0;32m<ipython-input-5-08e60938b82d>\u001b[0m in \u001b[0;36m<module>\u001b[0;34m()\u001b[0m\n\u001b[1;32m     13\u001b[0m \u001b[0mclean_data_table\u001b[0m\u001b[0;34m[\u001b[0m\u001b[0;34m'GM502B VOC'\u001b[0m\u001b[0;34m]\u001b[0m \u001b[0;34m=\u001b[0m \u001b[0;34m[\u001b[0m\u001b[0mair_data\u001b[0m\u001b[0;34m.\u001b[0m\u001b[0mGM502B_ratio\u001b[0m\u001b[0;34m(\u001b[0m\u001b[0;34m)\u001b[0m\u001b[0;34m]\u001b[0m\u001b[0;34m\u001b[0m\u001b[0m\n\u001b[1;32m     14\u001b[0m \u001b[0mclean_data_table\u001b[0m\u001b[0;34m[\u001b[0m\u001b[0;34m'GM702B VOC'\u001b[0m\u001b[0;34m]\u001b[0m \u001b[0;34m=\u001b[0m \u001b[0;34m[\u001b[0m\u001b[0mair_data\u001b[0m\u001b[0;34m.\u001b[0m\u001b[0mGM702B_ratio\u001b[0m\u001b[0;34m(\u001b[0m\u001b[0;34m)\u001b[0m\u001b[0;34m]\u001b[0m\u001b[0;34m\u001b[0m\u001b[0m\n\u001b[0;32m---> 15\u001b[0;31m \u001b[0mpms5003_data\u001b[0m \u001b[0;34m=\u001b[0m \u001b[0mair_data\u001b[0m\u001b[0;34m.\u001b[0m\u001b[0mpms5003\u001b[0m\u001b[0;34m.\u001b[0m\u001b[0mread\u001b[0m\u001b[0;34m(\u001b[0m\u001b[0;34m)\u001b[0m\u001b[0;34m\u001b[0m\u001b[0m\n\u001b[0m\u001b[1;32m     16\u001b[0m \u001b[0mclean_data_table\u001b[0m\u001b[0;34m[\u001b[0m\u001b[0;34m'0.3um in 0.1L air'\u001b[0m\u001b[0;34m]\u001b[0m \u001b[0;34m=\u001b[0m \u001b[0;34m[\u001b[0m\u001b[0mpms5003_data\u001b[0m\u001b[0;34m.\u001b[0m\u001b[0mpm_per_1l_air\u001b[0m\u001b[0;34m(\u001b[0m\u001b[0;36m0.3\u001b[0m\u001b[0;34m)\u001b[0m\u001b[0;34m]\u001b[0m\u001b[0;34m\u001b[0m\u001b[0m\n\u001b[1;32m     17\u001b[0m \u001b[0mclean_data_table\u001b[0m\u001b[0;34m[\u001b[0m\u001b[0;34m'0.5um in 0.1L air'\u001b[0m\u001b[0;34m]\u001b[0m \u001b[0;34m=\u001b[0m \u001b[0;34m[\u001b[0m\u001b[0mpms5003_data\u001b[0m\u001b[0;34m.\u001b[0m\u001b[0mpm_per_1l_air\u001b[0m\u001b[0;34m(\u001b[0m\u001b[0;36m0.5\u001b[0m\u001b[0;34m)\u001b[0m\u001b[0;34m]\u001b[0m\u001b[0;34m\u001b[0m\u001b[0m\n",
      "\u001b[0;32m/home/jupyter/red-pitaya-projects/jupyter-notebooks/dashboard/pms5003_no_gpio.py\u001b[0m in \u001b[0;36mread\u001b[0;34m(self)\u001b[0m\n\u001b[1;32m    132\u001b[0m             \u001b[0msof\u001b[0m \u001b[0;34m=\u001b[0m \u001b[0mself\u001b[0m\u001b[0;34m.\u001b[0m\u001b[0m_serial\u001b[0m\u001b[0;34m.\u001b[0m\u001b[0mread\u001b[0m\u001b[0;34m(\u001b[0m\u001b[0;36m1\u001b[0m\u001b[0;34m)\u001b[0m\u001b[0;34m\u001b[0m\u001b[0m\n\u001b[1;32m    133\u001b[0m             \u001b[0;32mif\u001b[0m \u001b[0mlen\u001b[0m\u001b[0;34m(\u001b[0m\u001b[0msof\u001b[0m\u001b[0;34m)\u001b[0m \u001b[0;34m==\u001b[0m \u001b[0;36m0\u001b[0m\u001b[0;34m:\u001b[0m\u001b[0;34m\u001b[0m\u001b[0m\n\u001b[0;32m--> 134\u001b[0;31m                 \u001b[0;32mraise\u001b[0m \u001b[0mSerialTimeoutError\u001b[0m\u001b[0;34m(\u001b[0m\u001b[0;34m\"PMS5003 Read Timeout: Failed to read start of frame byte\"\u001b[0m\u001b[0;34m)\u001b[0m\u001b[0;34m\u001b[0m\u001b[0m\n\u001b[0m\u001b[1;32m    135\u001b[0m             \u001b[0msof\u001b[0m \u001b[0;34m=\u001b[0m \u001b[0mord\u001b[0m\u001b[0;34m(\u001b[0m\u001b[0msof\u001b[0m\u001b[0;34m)\u001b[0m \u001b[0;32mif\u001b[0m \u001b[0mtype\u001b[0m\u001b[0;34m(\u001b[0m\u001b[0msof\u001b[0m\u001b[0;34m)\u001b[0m \u001b[0;32mis\u001b[0m \u001b[0mbytes\u001b[0m \u001b[0;32melse\u001b[0m \u001b[0msof\u001b[0m\u001b[0;34m\u001b[0m\u001b[0m\n\u001b[1;32m    136\u001b[0m \u001b[0;34m\u001b[0m\u001b[0m\n",
      "\u001b[0;31mSerialTimeoutError\u001b[0m: PMS5003 Read Timeout: Failed to read start of frame byte"
     ]
    }
   ],
   "source": [
    "df = pd.DataFrame() #Create an empty data frame to append to later\n",
    "clean_data_table = pd.DataFrame() #Create an empty data frame to append to later\n",
    "clean_data_table['Analog Temperature (oC)'] = [air_data.analog_temp()]\n",
    "clean_data_table['Analog VOC in Air'] = [air_data.analog_voc_ratio()]\n",
    "clean_data_table['Analog Alcohol in Air'] = [air_data.analog_alcohol_ratio()]\n",
    "bme_680_latest = air_data.bme_680.get_sensor_data()\n",
    "clean_data_table['Digital Temperature (oC)'] = [bme_680_latest.temperature]\n",
    "clean_data_table['Air Pressure (hPa)'] = [bme_680_latest.pressure]\n",
    "clean_data_table['BM680 VOC'] = [bme_680_latest.gas_rel]\n",
    "clean_data_table['Humidity %'] = [bme_680_latest.humidity]\n",
    "clean_data_table['GM102B VOC'] = [air_data.GM102B_ratio()]\n",
    "clean_data_table['GM302B VOC'] = [air_data.GM302B_ratio()]\n",
    "clean_data_table['GM502B VOC'] = [air_data.GM502B_ratio()]\n",
    "clean_data_table['GM702B VOC'] = [air_data.GM702B_ratio()]\n",
    "pms5003_data = air_data.pms5003.read()\n",
    "clean_data_table['0.3um in 0.1L air'] = [pms5003_data.pm_per_1l_air(0.3)]\n",
    "clean_data_table['0.5um in 0.1L air'] = [pms5003_data.pm_per_1l_air(0.5)]\n",
    "clean_data_table['1.0um in 0.1L air'] = [pms5003_data.pm_per_1l_air(1.0)]\n",
    "\n",
    "df = df.append(clean_data_table, ignore_index = True)\n",
    "    \n",
    "voc_bar = widgets.widgets.FloatProgress(\n",
    "    value=df.iloc[-1]['Analog VOC in Air'],\n",
    "    min=0,\n",
    "    max=5.0,\n",
    "    description='Analog VOC:',\n",
    "    bar_style='info',\n",
    "    style={'bar_color': '#fcdb03'},\n",
    "    orientation='horizontal',\n",
    "    readout=True,\n",
    "    readout_format='.1f',\n",
    ")\n",
    "\n",
    "humidity_slider = widgets.FloatSlider(\n",
    "    value=df.iloc[-1]['Humidity %'],\n",
    "    min=0,\n",
    "    max=100.0,\n",
    "    step=0.1,\n",
    "    description='Humidity %:',\n",
    "    disabled=True,\n",
    "    continuous_update=False,\n",
    "    orientation='horizontal',\n",
    "    readout=True,\n",
    "    readout_format='.1f'\n",
    ")\n",
    "\n",
    "bm680_bar = widgets.widgets.FloatProgress(\n",
    "    value=df.iloc[-1]['BM680 VOC'],\n",
    "    min=0,\n",
    "    max=4.0,\n",
    "    description='BM680 VOC:',\n",
    "    bar_style='info',\n",
    "    style={'bar_color': '#4ba329'},\n",
    "    orientation='horizontal'\n",
    ")\n",
    "\n",
    "temp_slider = widgets.FloatSlider(\n",
    "    value=df.iloc[-1]['Analog Temperature (oC)'],\n",
    "    min=0,\n",
    "    max=36.0,\n",
    "    step=0.1,\n",
    "    description='A Temp (oC):',\n",
    "    disabled=True,\n",
    "    continuous_update=False,\n",
    "    orientation='horizontal',\n",
    "    readout=True,\n",
    "    readout_format='.1f'\n",
    ")\n",
    "alcohol_bar = widgets.widgets.FloatProgress(\n",
    "    value=df.iloc[-1]['Analog Alcohol in Air'],\n",
    "    min=0,\n",
    "    max=4.0,\n",
    "    description='An. Alcohol:',\n",
    "    bar_style='info',\n",
    "    style={'bar_color': '#69fffc'},\n",
    "    orientation='horizontal'\n",
    ")\n",
    "\n",
    "d_temp_slider = widgets.FloatSlider(\n",
    "    value=df.iloc[-1]['Digital Temperature (oC)'],\n",
    "    min=0,\n",
    "    max=36.0,\n",
    "    step=0.1,\n",
    "    description='D Temp (oC):',\n",
    "    disabled=True,\n",
    "    continuous_update=False,\n",
    "    orientation='horizontal',\n",
    "    readout=True,\n",
    "    readout_format='.1f'\n",
    ")\n",
    "\n",
    "gm102b_bar = widgets.widgets.FloatProgress(\n",
    "    value=df.iloc[-1]['GM102B VOC'],\n",
    "    min=0,\n",
    "    max=4.0,\n",
    "    description='GM102B:',\n",
    "    bar_style='info',\n",
    "    style={'bar_color': '#4278f5'},\n",
    "    orientation='horizontal'\n",
    ")\n",
    "\n",
    "zero_3_um_slider = widgets.FloatSlider(\n",
    "    value=df.iloc[-1]['0.3um in 0.1L air'],\n",
    "    min=0,\n",
    "    max=1000.0,\n",
    "    step=0.1,\n",
    "    description='0.3um Part.:',\n",
    "    disabled=True,\n",
    "    continuous_update=False,\n",
    "    orientation='horizontal',\n",
    "    readout=True,\n",
    "    readout_format='.1f'\n",
    ")\n",
    "\n",
    "gm302b_bar = widgets.widgets.FloatProgress(\n",
    "    value=df.iloc[-1]['GM302B VOC'],\n",
    "    min=0,\n",
    "    max=4.0,\n",
    "    description='GM302B:',\n",
    "    bar_style='info',\n",
    "    style={'bar_color': '#42a4f5'},\n",
    "    orientation='horizontal'\n",
    ")\n",
    "\n",
    "zero_5_um_slider = widgets.FloatSlider(\n",
    "    value=df.iloc[-1]['0.5um in 0.1L air'],\n",
    "    min=0,\n",
    "    max=1000.0,\n",
    "    step=0.1,\n",
    "    description='0.5um Part.:',\n",
    "    disabled=True,\n",
    "    continuous_update=False,\n",
    "    orientation='horizontal',\n",
    "    readout=True,\n",
    "    readout_format='.1f'\n",
    ")\n",
    "\n",
    "gm502b_bar = widgets.widgets.FloatProgress(\n",
    "    value=df.iloc[-1]['GM502B VOC'],\n",
    "    min=0,\n",
    "    max=4.0,\n",
    "    description='GM502B:',\n",
    "    bar_style='info',\n",
    "    style={'bar_color': '#42bcf5'},\n",
    "    orientation='horizontal'\n",
    ")\n",
    "\n",
    "one_um_slider = widgets.FloatSlider(\n",
    "    value=df.iloc[-1]['1.0um in 0.1L air'],\n",
    "    min=0,\n",
    "    max=1000.0,\n",
    "    step=0.1,\n",
    "    description='1.0um Part.:',\n",
    "    disabled=True,\n",
    "    continuous_update=False,\n",
    "    orientation='horizontal',\n",
    "    readout=True,\n",
    "    readout_format='.1f'\n",
    ")\n",
    "\n",
    "gm702b_bar = widgets.widgets.FloatProgress(\n",
    "    value=df.iloc[-1]['GM702B VOC'],\n",
    "    min=0,\n",
    "    max=5.0,\n",
    "    description='GM702B:',\n",
    "    bar_style='info',\n",
    "    style={'bar_color': '#42d4f5'},\n",
    "    orientation='horizontal'\n",
    ")\n",
    "\n",
    "pressure_slider = widgets.FloatSlider(\n",
    "    value=df.iloc[-1]['Air Pressure (hPa)'],\n",
    "    min=0,\n",
    "    max=1200.0,\n",
    "    step=0.1,\n",
    "    description='Press. (hPa):',\n",
    "    disabled=True,\n",
    "    continuous_update=False,\n",
    "    orientation='horizontal',\n",
    "    readout=True,\n",
    "    readout_format='.1f'\n",
    ")"
   ]
  },
  {
   "cell_type": "code",
   "execution_count": null,
   "metadata": {
    "extensions": {
     "jupyter_dashboards": {
      "version": 1,
      "views": {
       "grid_default": {
        "col": 8,
        "height": 18,
        "hidden": false,
        "row": 0,
        "width": 4
       },
       "report_default": {
        "hidden": false
       }
      }
     }
    },
    "scrolled": false
   },
   "outputs": [],
   "source": [
    "df = pd.DataFrame() #Create an empty data frame to append to later\n",
    "def animate(i):\n",
    "    global df\n",
    "    clean_data_table = pd.DataFrame() #Create an empty data frame to append to later\n",
    "    clean_data_table['Analog Temperature (oC)'] = [air_data.analog_temp()]\n",
    "    clean_data_table['Analog VOC in Air'] = [air_data.analog_voc_ratio()]\n",
    "    clean_data_table['Analog Alcohol in Air'] = [air_data.analog_alcohol_ratio()]\n",
    "    clean_data_table['GM102B VOC'] = [air_data.GM102B_ratio()]\n",
    "    clean_data_table['GM302B VOC'] = [air_data.GM302B_ratio()]\n",
    "    clean_data_table['GM502B VOC'] = [air_data.GM502B_ratio()]\n",
    "    clean_data_table['GM702B VOC'] = [air_data.GM702B_ratio()]\n",
    "    bme_680_latest = air_data.bme_680.get_sensor_data()\n",
    "    clean_data_table['Digital Temperature (oC)'] = [bme_680_latest.temperature]\n",
    "    clean_data_table['Air Pressure (hPa)'] = [bme_680_latest.pressure]\n",
    "    clean_data_table['Humidity %'] = [bme_680_latest.humidity]\n",
    "    if bme_680_latest.heat_stable:\n",
    "        clean_data_table['BM680 VOC'] = [bme_680_latest.gas_rel]\n",
    "    \n",
    "    #Particle sensor not plotted for this example\n",
    "    pms5003_data = air_data.pms5003.read()\n",
    "    clean_data_table['0.3um in 0.1L air'] = [pms5003_data.pm_per_1l_air(0.3)]\n",
    "    clean_data_table['0.5um in 0.1L air'] = [pms5003_data.pm_per_1l_air(0.5)]\n",
    "    clean_data_table['1.0um in 0.1L air'] = [pms5003_data.pm_per_1l_air(1.0)]\n",
    "    df = df.append(clean_data_table, ignore_index = True)\n",
    "    df.index.name = 'timestamp'\n",
    "    \n",
    "    voc_bar.value = df.iloc[-1]['Analog VOC in Air']\n",
    "    humidity_slider.value = df.iloc[-1]['Humidity %']\n",
    "    bm680_bar.value = df.iloc[-1]['BM680 VOC']\n",
    "    temp_slider.value = df.iloc[-1]['Analog Temperature (oC)']\n",
    "    alcohol_bar.value = df.iloc[-1]['Analog Alcohol in Air']\n",
    "    d_temp_slider.value = df.iloc[-1]['Digital Temperature (oC)']\n",
    "    gm102b_bar.value = df.iloc[-1]['GM102B VOC']\n",
    "    gm302b_bar.value = df.iloc[-1]['GM302B VOC']\n",
    "    gm502b_bar.value = df.iloc[-1]['GM502B VOC']\n",
    "    gm702b_bar.value = df.iloc[-1]['GM702B VOC']\n",
    "    zero_3_um_slider.value = df.iloc[-1]['0.3um in 0.1L air']\n",
    "    zero_5_um_slider.value = df.iloc[-1]['0.5um in 0.1L air']\n",
    "    one_um_slider.value = df.iloc[-1]['1.0um in 0.1L air']\n",
    "    pressure_slider.value = df.iloc[-1]['Air Pressure (hPa)']\n",
    "    \n",
    "    x = df.index\n",
    "    y1 = df['Analog VOC in Air']\n",
    "    y2 = df['Analog Alcohol in Air']\n",
    "    y3 = df['GM102B VOC']\n",
    "    y4 = df['GM302B VOC']\n",
    "    y5 = df['GM502B VOC']\n",
    "    y6 = df['GM702B VOC']\n",
    "    y7 = df['BM680 VOC']\n",
    "    \n",
    "#    y8 = df['0.3um in 0.1L air']\n",
    "#    y9 = df['0.5um in 0.1L air']\n",
    "#    y10 = df['1.0um in 0.1L air']\n",
    "    \n",
    "    plt.cla()\n",
    "    plt.plot(x,y1,label='Analog VOC in Air')\n",
    "    plt.plot(x,y2,label='Analog Alcohol in Air')\n",
    "    plt.plot(x,y3,label='GM102B VOC')\n",
    "    plt.plot(x,y4,label='GM302B VOC')\n",
    "    plt.plot(x,y5,label='GM502B VOC')\n",
    "    plt.plot(x,y6,label='GM702B VOC')\n",
    "    plt.plot(x,y7,label='BM680 VOC')\n",
    "#    plt.plot(x,y8,label='0.3um in 0.1L air')\n",
    "#    plt.plot(x,y9,label='0.5um in 0.1L air')\n",
    "#    plt.plot(x,y10,label='1.0um in 0.1L air')\n",
    "    \n",
    "    plt.xlabel('Timestamp')\n",
    "    plt.ylabel('Temprature (C) / VOC / Particles')\n",
    "    plt.title(\"Room Temperature & Air Quality\")\n",
    "    plt.gcf().autofmt_xdate()\n",
    "    plt.ticklabel_format(useOffset=False,axis='y')\n",
    "    plt.legend(bbox_to_anchor=(0.6, 0.9))\n",
    "    plt.show()\n",
    "    \n",
    "ani = FuncAnimation(plt.gcf(), animate,interval=2000)\n",
    "plt.show()\n",
    "\n",
    "first_box = HBox([voc_bar, humidity_slider])\n",
    "second_box = HBox([bm680_bar, temp_slider])\n",
    "third_box = HBox([alcohol_bar, d_temp_slider])\n",
    "fourth_box = HBox([gm102b_bar, zero_3_um_slider])\n",
    "fifth_box = HBox([gm302b_bar, zero_5_um_slider])\n",
    "sixth_box = HBox([gm502b_bar, one_um_slider])\n",
    "seventh_box = HBox([gm702b_bar, pressure_slider])\n",
    "VBox([first_box, second_box, third_box, fourth_box, fifth_box,sixth_box, seventh_box])"
   ]
  },
  {
   "cell_type": "code",
   "execution_count": null,
   "metadata": {
    "extensions": {
     "jupyter_dashboards": {
      "version": 1,
      "views": {
       "grid_default": {
        "col": 0,
        "height": 5,
        "hidden": false,
        "row": 18,
        "width": 10
       },
       "report_default": {
        "hidden": true
       }
      }
     }
    },
    "scrolled": false
   },
   "outputs": [],
   "source": [
    "#Show the last row of the data table\n",
    "df.tail(1)"
   ]
  },
  {
   "cell_type": "code",
   "execution_count": null,
   "metadata": {
    "collapsed": true,
    "extensions": {
     "jupyter_dashboards": {
      "version": 1,
      "views": {
       "grid_default": {
        "hidden": true
       },
       "report_default": {
        "hidden": true
       }
      }
     }
    }
   },
   "outputs": [],
   "source": [
    "#Save the data frame to a CSV file\n",
    "df.index.name = 'timestamp'\n",
    "filename = \"CSV-Data/Fresh Air\" + str(datetime.now()) + \".csv\"\n",
    "df.to_csv(filename)"
   ]
  }
 ],
 "metadata": {
  "extensions": {
   "jupyter_dashboards": {
    "activeView": "report_default",
    "version": 1,
    "views": {
     "grid_default": {
      "cellMargin": 10,
      "defaultCellHeight": 20,
      "maxColumns": 12,
      "name": "grid",
      "type": "grid"
     },
     "report_default": {
      "name": "report",
      "type": "report"
     }
    }
   }
  },
  "kernelspec": {
   "display_name": "Python 3",
   "language": "python",
   "name": "python3"
  },
  "language_info": {
   "codemirror_mode": {
    "name": "ipython",
    "version": 3
   },
   "file_extension": ".py",
   "mimetype": "text/x-python",
   "name": "python",
   "nbconvert_exporter": "python",
   "pygments_lexer": "ipython3",
   "version": "3.5.2"
  }
 },
 "nbformat": 4,
 "nbformat_minor": 2
}
