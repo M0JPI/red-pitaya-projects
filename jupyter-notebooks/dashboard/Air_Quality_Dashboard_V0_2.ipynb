{
 "cells": [
  {
   "cell_type": "markdown",
   "metadata": {
    "extensions": {
     "jupyter_dashboards": {
      "version": 1,
      "views": {
       "grid_default": {
        "col": 0,
        "height": 4,
        "hidden": false,
        "row": 0,
        "width": 4
       },
       "report_default": {}
      }
     }
    }
   },
   "source": [
    "## Air Quality Dashboard\n",
    "This notebook shows how to use IPython Widgets to display the air quality using Grove Sensors."
   ]
  },
  {
   "cell_type": "code",
   "execution_count": 1,
   "metadata": {},
   "outputs": [],
   "source": [
    "%matplotlib notebook\n",
    "import matplotlib\n",
    "import matplotlib.pyplot as plt\n",
    "import matplotlib.dates as mdates\n",
    "from matplotlib.animation import FuncAnimation\n",
    "import collect_air_data\n",
    "import time\n",
    "import pandas as pd\n",
    "\n",
    "air_data = collect_air_data.collect_air_object()"
   ]
  },
  {
   "cell_type": "code",
   "execution_count": null,
   "metadata": {
    "scrolled": true
   },
   "outputs": [],
   "source": [
    "pms5003_data = air_data.pms5003.read()\n",
    "print(pms5003_data.pm_per_1l_air(0.3))\n",
    "print(pms5003_data.pm_per_1l_air(0.5))\n",
    "print(pms5003_data.pm_per_1l_air(1.0))\n",
    "print(pms5003_data.pm_per_1l_air(2.5))\n",
    "print(pms5003_data.pm_per_1l_air(5.0))\n",
    "print(pms5003_data.pm_per_1l_air(10.0))"
   ]
  },
  {
   "cell_type": "code",
   "execution_count": null,
   "metadata": {},
   "outputs": [],
   "source": [
    "air_data.pms5003.read()"
   ]
  },
  {
   "cell_type": "code",
   "execution_count": 3,
   "metadata": {
    "scrolled": false
   },
   "outputs": [
    {
     "name": "stdout",
     "output_type": "stream",
     "text": [
      "1.635483870967742\n",
      "1.2677419354838708\n",
      "1.0\n",
      "0.9580645161290322\n"
     ]
    }
   ],
   "source": [
    "print(air_data.gas_gmxxxb.getGM102B_volts())\n",
    "print(air_data.gas_gmxxxb.getGM302B_volts())\n",
    "print(air_data.gas_gmxxxb.getGM502B_volts())\n",
    "print(air_data.gas_gmxxxb.getGM702B_volts())"
   ]
  },
  {
   "cell_type": "code",
   "execution_count": null,
   "metadata": {},
   "outputs": [],
   "source": [
    "while True:\n",
    "    if air_data.bme_680.get_sensor_data():\n",
    "        output = '{0:.2f} C,{1:.2f} hPa,{2:.2f} %RH'.format(\n",
    "            air_data.bme_680.data.temperature,\n",
    "            air_data.bme_680.data.pressure,\n",
    "            air_data.bme_680.data.humidity)\n",
    "        #Only print gas data if the heater is stable\n",
    "        if air_data.bme_680.data.heat_stable:\n",
    "            print('{0},{1} Ohms'.format(\n",
    "                output,\n",
    "                air_data.bme_680.data.gas_resistance))\n",
    "            break\n",
    "        else:\n",
    "            print(output)\n",
    "    time.sleep(1)"
   ]
  },
  {
   "cell_type": "code",
   "execution_count": null,
   "metadata": {
    "collapsed": true,
    "extensions": {
     "jupyter_dashboards": {
      "version": 1,
      "views": {
       "grid_default": {
        "hidden": true
       },
       "report_default": {}
      }
     }
    }
   },
   "outputs": [],
   "source": [
    "from __future__ import print_function\n",
    "from ipywidgets import interact, interactive, fixed, interact_manual\n",
    "import ipywidgets as widgets\n",
    "from ipywidgets import Button, HBox, VBox\n",
    "import random\n",
    "import threading\n",
    "from IPython.display import display, clear_output\n",
    "import time\n",
    "import math\n",
    "from redpitaya.overlay.mercury import mercury as FPGA\n",
    "\n",
    "import numpy as np\n",
    "\n",
    "from datetime import datetime, date\n",
    "import pandas as pd\n",
    "\n",
    "overlay = FPGA()\n",
    "ANALOG_TEMP = FPGA.analog_in(1) # define which pin will be used for temperature sensor"
   ]
  },
  {
   "cell_type": "code",
   "execution_count": null,
   "metadata": {},
   "outputs": [],
   "source": [
    "air_data.analog_temp()"
   ]
  },
  {
   "cell_type": "code",
   "execution_count": null,
   "metadata": {},
   "outputs": [],
   "source": [
    "air_data.analog_voc_ratio()"
   ]
  },
  {
   "cell_type": "code",
   "execution_count": null,
   "metadata": {},
   "outputs": [],
   "source": [
    "air_data.analog_alcohol_ratio()"
   ]
  },
  {
   "cell_type": "code",
   "execution_count": 4,
   "metadata": {
    "scrolled": true
   },
   "outputs": [
    {
     "data": {
      "text/plain": [
       "(0.21570191163577157,\n",
       " 2.386416387462425,\n",
       " 1.632258064516129,\n",
       " 1.2871,\n",
       " 1.0097,\n",
       " 0.9516)"
      ]
     },
     "execution_count": 4,
     "metadata": {},
     "output_type": "execute_result"
    }
   ],
   "source": [
    "air_data.reset_initial_values()"
   ]
  },
  {
   "cell_type": "code",
   "execution_count": null,
   "metadata": {},
   "outputs": [],
   "source": [
    "air_data.voc_air_ref"
   ]
  },
  {
   "cell_type": "code",
   "execution_count": null,
   "metadata": {},
   "outputs": [],
   "source": [
    "air_data.alcohol_air_ref"
   ]
  },
  {
   "cell_type": "code",
   "execution_count": null,
   "metadata": {},
   "outputs": [],
   "source": [
    "bme_680_latest = air_data.bme_680.get_sensor_data()\n",
    "bme_680_latest.gas_resistance"
   ]
  },
  {
   "cell_type": "code",
   "execution_count": null,
   "metadata": {
    "scrolled": false
   },
   "outputs": [],
   "source": [
    "df = pd.DataFrame() #Create an empty data frame to append to later\n",
    "#timestamp = df.size\n",
    "def animate(i):\n",
    "    global df\n",
    "    clean_data_table = pd.DataFrame() #Create an empty data frame to append to later\n",
    "    clean_data_table['Analog Temperature (oC)'] = [air_data.analog_temp()]\n",
    "    clean_data_table['Analog VOC in Air'] = [air_data.analog_voc_ratio()]\n",
    "    clean_data_table['Analog Alcohol in Air'] = [air_data.analog_alcohol_ratio()]\n",
    "    pms5003_data = air_data.pms5003.read()\n",
    "    clean_data_table['0.3um in 0.1L air'] = [pms5003_data.pm_per_1l_air(0.3)]\n",
    "    clean_data_table['0.5um in 0.1L air'] = [pms5003_data.pm_per_1l_air(0.5)]\n",
    "    clean_data_table['1.0um in 0.1L air'] = [pms5003_data.pm_per_1l_air(1.0)]\n",
    "    clean_data_table['GM102B VOC'] = [air_data.gas_gmxxxb.getGM102B_raw()]\n",
    "    clean_data_table['GM302B VOC'] = [air_data.gas_gmxxxb.getGM302B_raw()]\n",
    "    clean_data_table['GM502B VOC'] = [air_data.gas_gmxxxb.getGM502B_raw()]\n",
    "    clean_data_table['GM702B VOC'] = [air_data.gas_gmxxxb.getGM702B_raw()]\n",
    "    bme_680_latest = air_data.bme_680.get_sensor_data()\n",
    "    clean_data_table['Digital Temperature (oC)'] = [bme_680_latest.temperature]\n",
    "    clean_data_table['Air Pressure (hPa)'] = [bme_680_latest.pressure]\n",
    "    clean_data_table['Humidity %'] = [bme_680_latest.humidity]\n",
    "    clean_data_table['BM680 Heater Stable'] = [bme_680_latest.heat_stable]\n",
    "    if bme_680_latest.heat_stable:\n",
    "        clean_data_table['BM680 VOC'] = [bme_680_latest.gas_resistance]\n",
    "    timestamp = df.size\n",
    "    timestamp = 2\n",
    "    df = df.append(clean_data_table, ignore_index = True)\n",
    "    df.index.name = 'timestamp'\n",
    "    \n",
    "    #x = df['Date']\n",
    "    x = df.index\n",
    "    y1 = df['Analog Temperature (oC)']\n",
    "    y2 = df['Analog VOC in Air']\n",
    "    y3 = df['Analog Alcohol in Air']\n",
    "    y4 = df['0.3um in 0.1L air']\n",
    "    y5 = df['0.5um in 0.1L air']\n",
    "    y6 = df['1.0um in 0.1L air']\n",
    "    y7 = df['GM102B VOC']\n",
    "    y8 = df['GM302B VOC']\n",
    "    y9 = df['GM502B VOC']\n",
    "    y10 = df['GM702B VOC']\n",
    "    y11 = df['Digital Temperature (oC)']\n",
    "    y12 = df['Air Pressure (hPa)']\n",
    "    y13 = df['Humidity %']\n",
    "    y14 = df['BM680 VOC']\n",
    "    \n",
    "    plt.cla()\n",
    "    plt.plot(x,y1,label='Analog Temperature (oC)')\n",
    "    plt.plot(x,y2,label='Analog VOC in Air')\n",
    "    plt.plot(x,y3,label='Analog Alcohol in Air')\n",
    "    plt.plot(x,y4,label='0.3um in 0.1L air')\n",
    "    plt.plot(x,y5,label='0.5um in 0.1L air')\n",
    "    plt.plot(x,y6,label='1.0um in 0.1L air')\n",
    "    plt.plot(x,y7,label='GM102B VOC')\n",
    "    plt.plot(x,y8,label='GM302B VOC')\n",
    "    plt.plot(x,y9,label='GM502B VOC')\n",
    "    plt.plot(x,y10,label='GM702B VOC')\n",
    "    plt.plot(x,y11,label='Digital Temperature (oC)')\n",
    "    plt.plot(x,y12,label='Air Pressure (hPa)')\n",
    "    plt.plot(x,y13,label='Humidity %')\n",
    "    plt.plot(x,y14,label='BM680 VOC')\n",
    "    plt.xlabel('Timestamp')\n",
    "    plt.ylabel('Temprature (C) / VOC / Particles')\n",
    "    plt.title(\"Room Temperature & Air Quality\")\n",
    "    plt.gcf().autofmt_xdate()\n",
    "    plt.ticklabel_format(useOffset=False,axis='y')\n",
    "    plt.legend(bbox_to_anchor=(0.6, 0.7))\n",
    "    plt.show()\n",
    "    \n",
    "ani = FuncAnimation(plt.gcf(), animate,interval=3000)\n",
    "plt.show()"
   ]
  },
  {
   "cell_type": "code",
   "execution_count": null,
   "metadata": {},
   "outputs": [],
   "source": [
    "df"
   ]
  },
  {
   "cell_type": "code",
   "execution_count": null,
   "metadata": {
    "collapsed": true
   },
   "outputs": [],
   "source": [
    "df.index.name = 'timestamp'\n",
    "filename = \"CSV-Data/Vicks \" + str(datetime.now()) + \".csv\"\n",
    "df.to_csv(filename)"
   ]
  },
  {
   "cell_type": "markdown",
   "metadata": {},
   "source": [
    "The CSV data files are then uploaded to [Edge Impulse](https://edgeimpulse.com) to make a machine learning model."
   ]
  }
 ],
 "metadata": {
  "extensions": {
   "jupyter_dashboards": {
    "activeView": "grid_default",
    "version": 1,
    "views": {
     "grid_default": {
      "cellMargin": 10,
      "defaultCellHeight": 20,
      "maxColumns": 12,
      "name": "grid",
      "type": "grid"
     },
     "report_default": {
      "name": "report",
      "type": "report"
     }
    }
   }
  },
  "kernelspec": {
   "display_name": "Python 3",
   "language": "python",
   "name": "python3"
  },
  "language_info": {
   "codemirror_mode": {
    "name": "ipython",
    "version": 3
   },
   "file_extension": ".py",
   "mimetype": "text/x-python",
   "name": "python",
   "nbconvert_exporter": "python",
   "pygments_lexer": "ipython3",
   "version": "3.5.2"
  }
 },
 "nbformat": 4,
 "nbformat_minor": 2
}
