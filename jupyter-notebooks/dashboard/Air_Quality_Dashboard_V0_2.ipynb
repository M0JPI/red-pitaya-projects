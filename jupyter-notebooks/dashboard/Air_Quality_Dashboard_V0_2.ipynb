{
 "cells": [
  {
   "cell_type": "markdown",
   "metadata": {
    "extensions": {
     "jupyter_dashboards": {
      "version": 1,
      "views": {
       "grid_default": {
        "col": 0,
        "height": 4,
        "hidden": false,
        "row": 0,
        "width": 4
       },
       "report_default": {}
      }
     }
    }
   },
   "source": [
    "## Air Quality Dashboard\n",
    "This notebook shows how to use IPython Widgets to display the air quality using Grove Sensors."
   ]
  },
  {
   "cell_type": "code",
   "execution_count": 1,
   "metadata": {},
   "outputs": [],
   "source": [
    "import collect_air_data as air_data\n",
    "import time"
   ]
  },
  {
   "cell_type": "code",
   "execution_count": 2,
   "metadata": {},
   "outputs": [
    {
     "name": "stdout",
     "output_type": "stream",
     "text": [
      "354\n",
      "62\n",
      "45\n",
      "6\n",
      "4\n",
      "2\n"
     ]
    }
   ],
   "source": [
    "pms5003_data = air_data.pms5003.read()\n",
    "print(pms5003_data.pm_per_1l_air(0.3))\n",
    "print(pms5003_data.pm_per_1l_air(0.5))\n",
    "print(pms5003_data.pm_per_1l_air(1.0))\n",
    "print(pms5003_data.pm_per_1l_air(2.5))\n",
    "print(pms5003_data.pm_per_1l_air(5.0))\n",
    "print(pms5003_data.pm_per_1l_air(10.0))"
   ]
  },
  {
   "cell_type": "code",
   "execution_count": 3,
   "metadata": {
    "scrolled": false
   },
   "outputs": [
    {
     "name": "stdout",
     "output_type": "stream",
     "text": [
      "518\n",
      "407\n",
      "330\n",
      "286\n"
     ]
    }
   ],
   "source": [
    "print(air_data.gas_gmxxxb.getGM102B_raw())\n",
    "print(air_data.gas_gmxxxb.getGM302B_raw())\n",
    "print(air_data.gas_gmxxxb.getGM502B_raw())\n",
    "print(air_data.gas_gmxxxb.getGM702B_raw())"
   ]
  },
  {
   "cell_type": "code",
   "execution_count": 4,
   "metadata": {},
   "outputs": [
    {
     "name": "stdout",
     "output_type": "stream",
     "text": [
      "22.36 C,1016.79 hPa,50.33 %RH\n",
      "22.37 C,1016.81 hPa,50.36 %RH\n",
      "22.38 C,1016.79 hPa,50.34 %RH\n",
      "22.39 C,1016.80 hPa,50.30 %RH\n",
      "22.40 C,1016.81 hPa,50.26 %RH,6737.862373984357 Ohms\n"
     ]
    }
   ],
   "source": [
    "while True:\n",
    "    if air_data.bme_680.get_sensor_data():\n",
    "        output = '{0:.2f} C,{1:.2f} hPa,{2:.2f} %RH'.format(\n",
    "            air_data.bme_680.data.temperature,\n",
    "            air_data.bme_680.data.pressure,\n",
    "            air_data.bme_680.data.humidity)\n",
    "        #Only print gas data if the heater is stable\n",
    "        if air_data.bme_680.data.heat_stable:\n",
    "            print('{0},{1} Ohms'.format(\n",
    "                output,\n",
    "                air_data.bme_680.data.gas_resistance))\n",
    "            break\n",
    "        else:\n",
    "            print(output)\n",
    "    time.sleep(1)"
   ]
  },
  {
   "cell_type": "code",
   "execution_count": null,
   "metadata": {
    "extensions": {
     "jupyter_dashboards": {
      "version": 1,
      "views": {
       "grid_default": {
        "hidden": true
       },
       "report_default": {}
      }
     }
    }
   },
   "outputs": [],
   "source": [
    "%matplotlib notebook\n",
    "import matplotlib\n",
    "\n",
    "from __future__ import print_function\n",
    "from ipywidgets import interact, interactive, fixed, interact_manual\n",
    "import ipywidgets as widgets\n",
    "from ipywidgets import Button, HBox, VBox\n",
    "import random\n",
    "import threading\n",
    "from IPython.display import display, clear_output\n",
    "import time\n",
    "import math\n",
    "from redpitaya.overlay.mercury import mercury as FPGA\n",
    "\n",
    "import numpy as np\n",
    "import matplotlib.pyplot as plt\n",
    "import matplotlib.dates as mdates\n",
    "from matplotlib.animation import FuncAnimation\n",
    "from datetime import datetime, date\n",
    "import pandas as pd\n",
    "\n",
    "overlay = FPGA()\n",
    "ANALOG_TEMP = FPGA.analog_in(1) # define which pin will be used for temperature sensor"
   ]
  },
  {
   "cell_type": "code",
   "execution_count": 5,
   "metadata": {},
   "outputs": [
    {
     "data": {
      "text/plain": [
       "23.00330906632371"
      ]
     },
     "execution_count": 5,
     "metadata": {},
     "output_type": "execute_result"
    }
   ],
   "source": [
    "air_data.analog_temp()"
   ]
  },
  {
   "cell_type": "code",
   "execution_count": 12,
   "metadata": {},
   "outputs": [
    {
     "data": {
      "text/plain": [
       "0.7997111689897652"
      ]
     },
     "execution_count": 12,
     "metadata": {},
     "output_type": "execute_result"
    }
   ],
   "source": [
    "air_data.analog_voc_ratio()"
   ]
  },
  {
   "cell_type": "code",
   "execution_count": 13,
   "metadata": {},
   "outputs": [
    {
     "data": {
      "text/plain": [
       "1.7804557189442372"
      ]
     },
     "execution_count": 13,
     "metadata": {},
     "output_type": "execute_result"
    }
   ],
   "source": [
    "air_data.analog_alcohol_ratio()"
   ]
  },
  {
   "cell_type": "code",
   "execution_count": 14,
   "metadata": {
    "scrolled": true
   },
   "outputs": [
    {
     "data": {
      "text/plain": [
       "(0.1883111926978958, 2.5867110196956413)"
      ]
     },
     "execution_count": 14,
     "metadata": {},
     "output_type": "execute_result"
    }
   ],
   "source": [
    "air_data.reset_initial_values()"
   ]
  },
  {
   "cell_type": "code",
   "execution_count": 15,
   "metadata": {},
   "outputs": [
    {
     "data": {
      "text/plain": [
       "0.14"
      ]
     },
     "execution_count": 15,
     "metadata": {},
     "output_type": "execute_result"
    }
   ],
   "source": [
    "air_data.voc_air_ref"
   ]
  },
  {
   "cell_type": "code",
   "execution_count": null,
   "metadata": {
    "collapsed": true
   },
   "outputs": [],
   "source": [
    "air_data.alcohol_air_ref"
   ]
  },
  {
   "cell_type": "code",
   "execution_count": null,
   "metadata": {},
   "outputs": [],
   "source": [
    "ANALOG_Alcohol_pin = FPGA.analog_in(3) # define which pin will be used for alcohol sensor\n",
    "Alcohol_air = ANALOG_Alcohol_pin.read()\n",
    "print(Alcohol_air)"
   ]
  },
  {
   "cell_type": "code",
   "execution_count": null,
   "metadata": {},
   "outputs": [],
   "source": [
    "ANALOG_Alcohol_pin = FPGA.analog_in(3) # define which pin will be used for alcohol sensor\n",
    "Alcohol_volt = ANALOG_Alcohol_pin.read()\n",
    "Alcohol_gas = Alcohol_volt/(5.0-Alcohol_volt)\n",
    "#Scale the result to be between 2.0 and 30.0 to keep on a similar scale to temperature\n",
    "Alcohol_ratio = (1/(Alcohol_gas/1.885))*2\n",
    "print(Alcohol_volt,Alcohol_gas,Alcohol_ratio)"
   ]
  },
  {
   "cell_type": "code",
   "execution_count": null,
   "metadata": {
    "scrolled": true
   },
   "outputs": [],
   "source": [
    "df = pd.DataFrame() #Create an empty data frame to append to later\n",
    "#timestamp = df.size\n",
    "def animate(i):\n",
    "    global df\n",
    "    clean_data_table = pd.DataFrame() #Create an empty data frame to append to later\n",
    "    latest_temp=temp()[0]\n",
    "    voc_volt = voc_air_pin.read()\n",
    "    voc_gas = voc_volt/(5.0)\n",
    "    #Scale the result to be between 2.0 and 30.0 to keep on a similar scale to temperature\n",
    "    voc_ratio = (voc_gas/voc_air)*28\n",
    "    Alcohol_volt = ANALOG_Alcohol_pin.read()\n",
    "    Alcohol_gas = Alcohol_volt/(5.0-Alcohol_volt)\n",
    "    #Scale the result to be between 2.0 and 30.0 to keep on a similar scale to temperature\n",
    "    Alcohol_ratio = (1/(Alcohol_gas/1.885))*1.5\n",
    "    clear_output(wait=True)\n",
    "    clean_data_table['Temperature (oC)'] = [latest_temp]\n",
    "    clean_data_table['VOC in Air'] = [voc_ratio]\n",
    "    clean_data_table['Alcohol in Air'] = [Alcohol_ratio]\n",
    "#    clean_data_table['Date'] = [datetime.now()]\n",
    "    timestamp = df.size\n",
    "    timestamp = 2\n",
    "    df = df.append(clean_data_table, ignore_index = True)\n",
    "    df.index.name = 'timestamp'\n",
    "    \n",
    "    #x = df['Date']\n",
    "    x = df.index\n",
    "    y1 = df['Temperature (oC)']\n",
    "    y2 = df['VOC in Air']\n",
    "    y3 = df['Alcohol in Air']\n",
    "    \n",
    "    plt.cla()\n",
    "    plt.plot(x,y1,label='Temperature (oC)')\n",
    "    plt.plot(x,y2,label='VOC in Air')\n",
    "    plt.plot(x,y3,label='Alcohol in Air')\n",
    "    plt.xlabel('Timestamp')\n",
    "    plt.ylabel('Temprature (C) / VOC')\n",
    "    plt.title(\"Room Temperature & Air Quality\")\n",
    "    plt.gcf().autofmt_xdate()\n",
    "    plt.ticklabel_format(useOffset=False,axis='y')\n",
    "#    plt.legend()\n",
    "    plt.show()\n",
    "    \n",
    "ani = FuncAnimation(plt.gcf(), animate,interval=2000)\n",
    "plt.show()"
   ]
  },
  {
   "cell_type": "code",
   "execution_count": null,
   "metadata": {},
   "outputs": [],
   "source": [
    "df.size"
   ]
  },
  {
   "cell_type": "code",
   "execution_count": null,
   "metadata": {
    "scrolled": true
   },
   "outputs": [],
   "source": [
    "df.index.name = 'timestamp'\n",
    "df"
   ]
  },
  {
   "cell_type": "code",
   "execution_count": null,
   "metadata": {
    "collapsed": true
   },
   "outputs": [],
   "source": [
    "df.index.name = 'timestamp'\n",
    "filename = \"CSV-Data/Vicks \" + str(datetime.now()) + \".csv\"\n",
    "df.to_csv(filename)"
   ]
  },
  {
   "cell_type": "markdown",
   "metadata": {},
   "source": [
    "The CSV data files are then uploaded to [Edge Impulse](https://edgeimpulse.com) to make a machine learning model."
   ]
  }
 ],
 "metadata": {
  "extensions": {
   "jupyter_dashboards": {
    "activeView": "grid_default",
    "version": 1,
    "views": {
     "grid_default": {
      "cellMargin": 10,
      "defaultCellHeight": 20,
      "maxColumns": 12,
      "name": "grid",
      "type": "grid"
     },
     "report_default": {
      "name": "report",
      "type": "report"
     }
    }
   }
  },
  "kernelspec": {
   "display_name": "Python 3",
   "language": "python",
   "name": "python3"
  },
  "language_info": {
   "codemirror_mode": {
    "name": "ipython",
    "version": 3
   },
   "file_extension": ".py",
   "mimetype": "text/x-python",
   "name": "python",
   "nbconvert_exporter": "python",
   "pygments_lexer": "ipython3",
   "version": "3.5.2"
  }
 },
 "nbformat": 4,
 "nbformat_minor": 2
}
