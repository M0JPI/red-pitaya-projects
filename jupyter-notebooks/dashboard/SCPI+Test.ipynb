{
 "cells": [
  {
   "cell_type": "code",
   "execution_count": 1,
   "metadata": {
    "scrolled": true
   },
   "outputs": [],
   "source": [
    "import sys\n",
    "import socket\n",
    "\n",
    "__author__ = \"Luka Golinar, Iztok Jeras\"\n",
    "__copyright__ = \"Copyright 2015, Red Pitaya\"\n",
    "\n",
    "class scpi (object):\n",
    "    \"\"\"SCPI class used to access Red Pitaya over an IP network.\"\"\"\n",
    "    delimiter = '\\r\\n'\n",
    "\n",
    "    def __init__(self, host, timeout=None, port=5000):\n",
    "        \"\"\"Initialize object and open IP connection.\n",
    "        Host IP should be a string in parentheses, like '192.168.1.100'.\n",
    "        \"\"\"\n",
    "        self.host    = host\n",
    "        self.port    = port\n",
    "        self.timeout = timeout\n",
    "\n",
    "        try:\n",
    "            self._socket = socket.socket(socket.AF_INET, socket.SOCK_STREAM)\n",
    "\n",
    "            if timeout is not None:\n",
    "                self._socket.settimeout(timeout)\n",
    "\n",
    "            self._socket.connect((host, port))\n",
    "\n",
    "        except socket.error as e:\n",
    "            print('SCPI >> connect({:s}:{:d}) failed: {:s}'.format(host, port, e))\n",
    "\n",
    "    def __del__(self):\n",
    "        if self._socket is not None:\n",
    "            self._socket.close()\n",
    "        self._socket = None\n",
    "\n",
    "    def close(self):\n",
    "        \"\"\"Close IP connection.\"\"\"\n",
    "        self.__del__()\n",
    "\n",
    "    def rx_txt(self, chunksize = 4096):\n",
    "        \"\"\"Receive text string and return it after removing the delimiter.\"\"\"\n",
    "        msg = ''\n",
    "        while 1:\n",
    "            chunk = self._socket.recv(chunksize + len(self.delimiter)).decode('utf-8') # Receive chunk size of 2^n preferably\n",
    "            msg += chunk\n",
    "            if (len(chunk) and chunk[-2:] == self.delimiter):\n",
    "                break\n",
    "        return msg[:-2]\n",
    "\n",
    "    def rx_arb(self):\n",
    "        numOfBytes = 0\n",
    "        \"\"\" Recieve binary data from scpi server\"\"\"\n",
    "        str=b''\n",
    "        while (len(str) != 1):\n",
    "            str = (self._socket.recv(1))\n",
    "        if not (str == b'#'):\n",
    "            return False\n",
    "        str=b''\n",
    "        while (len(str) != 1):\n",
    "            str = (self._socket.recv(1))\n",
    "        numOfNumBytes = int(str)\n",
    "        if not (numOfNumBytes > 0):\n",
    "            return False\n",
    "        str=b''\n",
    "        while (len(str) != numOfNumBytes):\n",
    "            str += (self._socket.recv(1))\n",
    "        numOfBytes = int(str)\n",
    "        str=b''\n",
    "        while (len(str) != numOfBytes):\n",
    "            str += (self._socket.recv(4096))\n",
    "        return str\n",
    "\n",
    "    def tx_txt(self, msg):\n",
    "        \"\"\"Send text string ending and append delimiter.\"\"\"\n",
    "        return self._socket.send((msg + self.delimiter).encode('utf-8'))\n",
    "\n",
    "    def txrx_txt(self, msg):\n",
    "        \"\"\"Send/receive text string.\"\"\"\n",
    "        self.tx_txt(msg)\n",
    "        return self.rx_txt()\n",
    "\n",
    "# IEEE Mandated Commands\n",
    "\n",
    "    def cls(self):\n",
    "        \"\"\"Clear Status Command\"\"\"\n",
    "        return self.tx_txt('*CLS')\n",
    "\n",
    "    def ese(self, value: int):\n",
    "        \"\"\"Standard Event Status Enable Command\"\"\"\n",
    "        return self.tx_txt('*ESE {}'.format(value))\n",
    "\n",
    "    def ese_q(self):\n",
    "        \"\"\"Standard Event Status Enable Query\"\"\"\n",
    "        return self.txrx_txt('*ESE?')\n",
    "\n",
    "    def esr_q(self):\n",
    "        \"\"\"Standard Event Status Register Query\"\"\"\n",
    "        return self.txrx_txt('*ESR?')\n",
    "\n",
    "    def idn_q(self):\n",
    "        \"\"\"Identification Query\"\"\"\n",
    "        return self.txrx_txt('*IDN?')\n",
    "\n",
    "    def opc(self):\n",
    "        \"\"\"Operation Complete Command\"\"\"\n",
    "        return self.tx_txt('*OPC')\n",
    "\n",
    "    def opc_q(self):\n",
    "        \"\"\"Operation Complete Query\"\"\"\n",
    "        return self.txrx_txt('*OPC?')\n",
    "\n",
    "    def rst(self):\n",
    "        \"\"\"Reset Command\"\"\"\n",
    "        return self.tx_txt('*RST')\n",
    "\n",
    "    def sre(self):\n",
    "        \"\"\"Service Request Enable Command\"\"\"\n",
    "        return self.tx_txt('*SRE')\n",
    "\n",
    "    def sre_q(self):\n",
    "        \"\"\"Service Request Enable Query\"\"\"\n",
    "        return self.txrx_txt('*SRE?')\n",
    "\n",
    "    def stb_q(self):\n",
    "        \"\"\"Read Status Byte Query\"\"\"\n",
    "        return self.txrx_txt('*STB?')\n",
    "\n",
    "# :SYSTem\n",
    "\n",
    "    def err_c(self):\n",
    "        \"\"\"Error count.\"\"\"\n",
    "        return rp.txrx_txt('SYST:ERR:COUN?')\n",
    "\n",
    "    def err_c(self):\n",
    "        \"\"\"Error next.\"\"\"\n",
    "        return rp.txrx_txt('SYST:ERR:NEXT?')"
   ]
  },
  {
   "cell_type": "code",
   "execution_count": 2,
   "metadata": {},
   "outputs": [
    {
     "name": "stdout",
     "output_type": "stream",
     "text": [
      "Blinking LED[0]\n"
     ]
    },
    {
     "ename": "KeyboardInterrupt",
     "evalue": "",
     "output_type": "error",
     "traceback": [
      "\u001b[0;31m---------------------------------------------------------------------------\u001b[0m",
      "\u001b[0;31mKeyboardInterrupt\u001b[0m                         Traceback (most recent call last)",
      "\u001b[0;32m<ipython-input-2-70a58b5c6a67>\u001b[0m in \u001b[0;36m<module>\u001b[0;34m()\u001b[0m\n\u001b[1;32m     10\u001b[0m \u001b[0;34m\u001b[0m\u001b[0m\n\u001b[1;32m     11\u001b[0m \u001b[0;32mwhile\u001b[0m \u001b[0;36m1\u001b[0m\u001b[0;34m:\u001b[0m\u001b[0;34m\u001b[0m\u001b[0m\n\u001b[0;32m---> 12\u001b[0;31m     \u001b[0mtime\u001b[0m\u001b[0;34m.\u001b[0m\u001b[0msleep\u001b[0m\u001b[0;34m(\u001b[0m\u001b[0mperiod\u001b[0m\u001b[0;34m/\u001b[0m\u001b[0;36m2.0\u001b[0m\u001b[0;34m)\u001b[0m\u001b[0;34m\u001b[0m\u001b[0m\n\u001b[0m\u001b[1;32m     13\u001b[0m     \u001b[0mrp_s\u001b[0m\u001b[0;34m.\u001b[0m\u001b[0mtx_txt\u001b[0m\u001b[0;34m(\u001b[0m\u001b[0;34m'DIG:PIN LED'\u001b[0m \u001b[0;34m+\u001b[0m \u001b[0mstr\u001b[0m\u001b[0;34m(\u001b[0m\u001b[0mled\u001b[0m\u001b[0;34m)\u001b[0m \u001b[0;34m+\u001b[0m \u001b[0;34m','\u001b[0m \u001b[0;34m+\u001b[0m \u001b[0mstr\u001b[0m\u001b[0;34m(\u001b[0m\u001b[0;36m1\u001b[0m\u001b[0;34m)\u001b[0m\u001b[0;34m)\u001b[0m\u001b[0;34m\u001b[0m\u001b[0m\n\u001b[1;32m     14\u001b[0m     \u001b[0mtime\u001b[0m\u001b[0;34m.\u001b[0m\u001b[0msleep\u001b[0m\u001b[0;34m(\u001b[0m\u001b[0mperiod\u001b[0m\u001b[0;34m/\u001b[0m\u001b[0;36m2.0\u001b[0m\u001b[0;34m)\u001b[0m\u001b[0;34m\u001b[0m\u001b[0m\n",
      "\u001b[0;31mKeyboardInterrupt\u001b[0m: "
     ]
    }
   ],
   "source": [
    "import time\n",
    "\n",
    "rp_s = scpi(\"192.168.1.112\")\n",
    "\n",
    "led = 0\n",
    "\n",
    "print (\"Blinking LED[\"+str(led)+\"]\")\n",
    "\n",
    "period = 1 # seconds\n",
    "\n",
    "while True:\n",
    "    time.sleep(period/2.0)\n",
    "    rp_s.tx_txt('DIG:PIN LED' + str(led) + ',' + str(1))\n",
    "    time.sleep(period/2.0)\n",
    "    rp_s.tx_txt('DIG:PIN LED' + str(led) + ',' + str(0))"
   ]
  },
  {
   "cell_type": "code",
   "execution_count": 3,
   "metadata": {},
   "outputs": [
    {
     "name": "stdout",
     "output_type": "stream",
     "text": [
      "Init UART\n"
     ]
    }
   ],
   "source": [
    "rp_s.tx_txt('UART:INIT')\n",
    "print(\"Init UART\")"
   ]
  },
  {
   "cell_type": "code",
   "execution_count": 13,
   "metadata": {},
   "outputs": [
    {
     "name": "stdout",
     "output_type": "stream",
     "text": [
      "1\n"
     ]
    }
   ],
   "source": [
    "rp_s.tx_txt('DIG:PIN? DIO'+str(1)+'_N')\n",
    "state = rp_s.rx_txt()\n",
    "print(state)"
   ]
  },
  {
   "cell_type": "code",
   "execution_count": 18,
   "metadata": {},
   "outputs": [
    {
     "ename": "KeyboardInterrupt",
     "evalue": "",
     "output_type": "error",
     "traceback": [
      "\u001b[0;31m---------------------------------------------------------------------------\u001b[0m",
      "\u001b[0;31mKeyboardInterrupt\u001b[0m                         Traceback (most recent call last)",
      "\u001b[0;32m<ipython-input-18-e22c5cf0a7e5>\u001b[0m in \u001b[0;36m<module>\u001b[0;34m()\u001b[0m\n\u001b[1;32m      1\u001b[0m \u001b[0mrp_s\u001b[0m\u001b[0;34m.\u001b[0m\u001b[0mtx_txt\u001b[0m\u001b[0;34m(\u001b[0m\u001b[0;34m'UART:BITS?'\u001b[0m\u001b[0;34m)\u001b[0m\u001b[0;34m\u001b[0m\u001b[0m\n\u001b[0;32m----> 2\u001b[0;31m \u001b[0mstate\u001b[0m \u001b[0;34m=\u001b[0m \u001b[0mrp_s\u001b[0m\u001b[0;34m.\u001b[0m\u001b[0mrx_txt\u001b[0m\u001b[0;34m(\u001b[0m\u001b[0;34m)\u001b[0m\u001b[0;34m\u001b[0m\u001b[0m\n\u001b[0m\u001b[1;32m      3\u001b[0m \u001b[0mprint\u001b[0m\u001b[0;34m(\u001b[0m\u001b[0mstate\u001b[0m\u001b[0;34m)\u001b[0m\u001b[0;34m\u001b[0m\u001b[0m\n",
      "\u001b[0;32m<ipython-input-1-dcc04c442140>\u001b[0m in \u001b[0;36mrx_txt\u001b[0;34m(self, chunksize)\u001b[0m\n\u001b[1;32m     41\u001b[0m         \u001b[0mmsg\u001b[0m \u001b[0;34m=\u001b[0m \u001b[0;34m''\u001b[0m\u001b[0;34m\u001b[0m\u001b[0m\n\u001b[1;32m     42\u001b[0m         \u001b[0;32mwhile\u001b[0m \u001b[0;36m1\u001b[0m\u001b[0;34m:\u001b[0m\u001b[0;34m\u001b[0m\u001b[0m\n\u001b[0;32m---> 43\u001b[0;31m             \u001b[0mchunk\u001b[0m \u001b[0;34m=\u001b[0m \u001b[0mself\u001b[0m\u001b[0;34m.\u001b[0m\u001b[0m_socket\u001b[0m\u001b[0;34m.\u001b[0m\u001b[0mrecv\u001b[0m\u001b[0;34m(\u001b[0m\u001b[0mchunksize\u001b[0m \u001b[0;34m+\u001b[0m \u001b[0mlen\u001b[0m\u001b[0;34m(\u001b[0m\u001b[0mself\u001b[0m\u001b[0;34m.\u001b[0m\u001b[0mdelimiter\u001b[0m\u001b[0;34m)\u001b[0m\u001b[0;34m)\u001b[0m\u001b[0;34m.\u001b[0m\u001b[0mdecode\u001b[0m\u001b[0;34m(\u001b[0m\u001b[0;34m'utf-8'\u001b[0m\u001b[0;34m)\u001b[0m \u001b[0;31m# Receive chunk size of 2^n preferably\u001b[0m\u001b[0;34m\u001b[0m\u001b[0m\n\u001b[0m\u001b[1;32m     44\u001b[0m             \u001b[0mmsg\u001b[0m \u001b[0;34m+=\u001b[0m \u001b[0mchunk\u001b[0m\u001b[0;34m\u001b[0m\u001b[0m\n\u001b[1;32m     45\u001b[0m             \u001b[0;32mif\u001b[0m \u001b[0;34m(\u001b[0m\u001b[0mlen\u001b[0m\u001b[0;34m(\u001b[0m\u001b[0mchunk\u001b[0m\u001b[0;34m)\u001b[0m \u001b[0;32mand\u001b[0m \u001b[0mchunk\u001b[0m\u001b[0;34m[\u001b[0m\u001b[0;34m-\u001b[0m\u001b[0;36m2\u001b[0m\u001b[0;34m:\u001b[0m\u001b[0;34m]\u001b[0m \u001b[0;34m==\u001b[0m \u001b[0mself\u001b[0m\u001b[0;34m.\u001b[0m\u001b[0mdelimiter\u001b[0m\u001b[0;34m)\u001b[0m\u001b[0;34m:\u001b[0m\u001b[0;34m\u001b[0m\u001b[0m\n",
      "\u001b[0;31mKeyboardInterrupt\u001b[0m: "
     ]
    }
   ],
   "source": [
    "rp_s.tx_txt('UART:BITS?')\n",
    "state = rp_s.rx_txt()\n",
    "print(state)"
   ]
  },
  {
   "cell_type": "code",
   "execution_count": 17,
   "metadata": {},
   "outputs": [
    {
     "ename": "KeyboardInterrupt",
     "evalue": "",
     "output_type": "error",
     "traceback": [
      "\u001b[0;31m---------------------------------------------------------------------------\u001b[0m",
      "\u001b[0;31mKeyboardInterrupt\u001b[0m                         Traceback (most recent call last)",
      "\u001b[0;32m<ipython-input-17-e99756d26c06>\u001b[0m in \u001b[0;36m<module>\u001b[0;34m()\u001b[0m\n\u001b[0;32m----> 1\u001b[0;31m \u001b[0mrp_s\u001b[0m\u001b[0;34m.\u001b[0m\u001b[0mtxrx_txt\u001b[0m\u001b[0;34m(\u001b[0m\u001b[0;34m'UART:BITS?'\u001b[0m\u001b[0;34m)\u001b[0m\u001b[0;34m\u001b[0m\u001b[0m\n\u001b[0m\u001b[1;32m      2\u001b[0m \u001b[0mprint\u001b[0m\u001b[0;34m(\u001b[0m\u001b[0;34m\"Check bit size\"\u001b[0m\u001b[0;34m,\u001b[0m\u001b[0mrp_s\u001b[0m\u001b[0;34m.\u001b[0m\u001b[0mrx_txt\u001b[0m\u001b[0;34m(\u001b[0m\u001b[0;34m)\u001b[0m\u001b[0;34m)\u001b[0m\u001b[0;34m\u001b[0m\u001b[0m\n",
      "\u001b[0;32m<ipython-input-1-dcc04c442140>\u001b[0m in \u001b[0;36mtxrx_txt\u001b[0;34m(self, msg)\u001b[0m\n\u001b[1;32m     77\u001b[0m         \u001b[0;34m\"\"\"Send/receive text string.\"\"\"\u001b[0m\u001b[0;34m\u001b[0m\u001b[0m\n\u001b[1;32m     78\u001b[0m         \u001b[0mself\u001b[0m\u001b[0;34m.\u001b[0m\u001b[0mtx_txt\u001b[0m\u001b[0;34m(\u001b[0m\u001b[0mmsg\u001b[0m\u001b[0;34m)\u001b[0m\u001b[0;34m\u001b[0m\u001b[0m\n\u001b[0;32m---> 79\u001b[0;31m         \u001b[0;32mreturn\u001b[0m \u001b[0mself\u001b[0m\u001b[0;34m.\u001b[0m\u001b[0mrx_txt\u001b[0m\u001b[0;34m(\u001b[0m\u001b[0;34m)\u001b[0m\u001b[0;34m\u001b[0m\u001b[0m\n\u001b[0m\u001b[1;32m     80\u001b[0m \u001b[0;34m\u001b[0m\u001b[0m\n\u001b[1;32m     81\u001b[0m \u001b[0;31m# IEEE Mandated Commands\u001b[0m\u001b[0;34m\u001b[0m\u001b[0;34m\u001b[0m\u001b[0m\n",
      "\u001b[0;32m<ipython-input-1-dcc04c442140>\u001b[0m in \u001b[0;36mrx_txt\u001b[0;34m(self, chunksize)\u001b[0m\n\u001b[1;32m     41\u001b[0m         \u001b[0mmsg\u001b[0m \u001b[0;34m=\u001b[0m \u001b[0;34m''\u001b[0m\u001b[0;34m\u001b[0m\u001b[0m\n\u001b[1;32m     42\u001b[0m         \u001b[0;32mwhile\u001b[0m \u001b[0;36m1\u001b[0m\u001b[0;34m:\u001b[0m\u001b[0;34m\u001b[0m\u001b[0m\n\u001b[0;32m---> 43\u001b[0;31m             \u001b[0mchunk\u001b[0m \u001b[0;34m=\u001b[0m \u001b[0mself\u001b[0m\u001b[0;34m.\u001b[0m\u001b[0m_socket\u001b[0m\u001b[0;34m.\u001b[0m\u001b[0mrecv\u001b[0m\u001b[0;34m(\u001b[0m\u001b[0mchunksize\u001b[0m \u001b[0;34m+\u001b[0m \u001b[0mlen\u001b[0m\u001b[0;34m(\u001b[0m\u001b[0mself\u001b[0m\u001b[0;34m.\u001b[0m\u001b[0mdelimiter\u001b[0m\u001b[0;34m)\u001b[0m\u001b[0;34m)\u001b[0m\u001b[0;34m.\u001b[0m\u001b[0mdecode\u001b[0m\u001b[0;34m(\u001b[0m\u001b[0;34m'utf-8'\u001b[0m\u001b[0;34m)\u001b[0m \u001b[0;31m# Receive chunk size of 2^n preferably\u001b[0m\u001b[0;34m\u001b[0m\u001b[0m\n\u001b[0m\u001b[1;32m     44\u001b[0m             \u001b[0mmsg\u001b[0m \u001b[0;34m+=\u001b[0m \u001b[0mchunk\u001b[0m\u001b[0;34m\u001b[0m\u001b[0m\n\u001b[1;32m     45\u001b[0m             \u001b[0;32mif\u001b[0m \u001b[0;34m(\u001b[0m\u001b[0mlen\u001b[0m\u001b[0;34m(\u001b[0m\u001b[0mchunk\u001b[0m\u001b[0;34m)\u001b[0m \u001b[0;32mand\u001b[0m \u001b[0mchunk\u001b[0m\u001b[0;34m[\u001b[0m\u001b[0;34m-\u001b[0m\u001b[0;36m2\u001b[0m\u001b[0;34m:\u001b[0m\u001b[0;34m]\u001b[0m \u001b[0;34m==\u001b[0m \u001b[0mself\u001b[0m\u001b[0;34m.\u001b[0m\u001b[0mdelimiter\u001b[0m\u001b[0;34m)\u001b[0m\u001b[0;34m:\u001b[0m\u001b[0;34m\u001b[0m\u001b[0m\n",
      "\u001b[0;31mKeyboardInterrupt\u001b[0m: "
     ]
    }
   ],
   "source": [
    "rp_s.txrx_txt('UART:BITS?')\n",
    "print(\"Check bit size\",rp_s.rx_txt())"
   ]
  },
  {
   "cell_type": "code",
   "execution_count": 7,
   "metadata": {},
   "outputs": [
    {
     "name": "stdout",
     "output_type": "stream",
     "text": [
      "Set bit size CS7\n",
      "Set speed 57600\n",
      "Set stop bit STOP2\n",
      "Set parity mode: ODD\n",
      "Set timeout: 10 decams\n"
     ]
    }
   ],
   "source": [
    "rp_s.tx_txt('UART:BITS CS7')\n",
    "print(\"Set bit size CS7\")\n",
    "\n",
    "#rp_s.tx_txt('UART:BITS?')\n",
    "#print(\"Check bit size\",rp_s.rx_txt())\n",
    "\n",
    "rp_s.tx_txt('UART:SPEED 57600')\n",
    "print(\"Set speed 57600\")\n",
    "\n",
    "#rp_s.tx_txt('UART:SPEED?')\n",
    "#print(\"Check speed\",rp_s.rx_txt())\n",
    "\n",
    "rp_s.tx_txt('UART:STOPB STOP2')\n",
    "print(\"Set stop bit STOP2\")\n",
    "\n",
    "#rp_s.tx_txt('UART:STOPB?')\n",
    "#print(\"Check stop bit\",rp_s.rx_txt())\n",
    "\n",
    "rp_s.tx_txt('UART:PARITY ODD')\n",
    "print(\"Set parity mode: ODD\")\n",
    "\n",
    "#rp_s.tx_txt('UART:PARITY?')\n",
    "#print(\"Check parity mode\",rp_s.rx_txt())\n",
    "\n",
    "rp_s.tx_txt('UART:TIMEOUT 10')\n",
    "print(\"Set timeout: 10 decams\")\n",
    "\n",
    "#rp_s.tx_txt('UART:TIMEOUT?')\n",
    "#print(\"Check timeout\",rp_s.rx_txt())"
   ]
  },
  {
   "cell_type": "code",
   "execution_count": 8,
   "metadata": {},
   "outputs": [
    {
     "name": "stdout",
     "output_type": "stream",
     "text": [
      "Setup settings\n"
     ]
    }
   ],
   "source": [
    "rp_s.tx_txt('UART:SETUP')\n",
    "print(\"Setup settings\")"
   ]
  },
  {
   "cell_type": "code",
   "execution_count": 15,
   "metadata": {
    "scrolled": true
   },
   "outputs": [
    {
     "name": "stdout",
     "output_type": "stream",
     "text": [
      "Write 7 bytes to uart: #H11,#H22,#H33,33,33,#Q11,#B11001100'\n"
     ]
    }
   ],
   "source": [
    "rp_s.tx_txt('UART:WRITE7 #H11,#H22,#H33,33,33,#Q11,#B11001100')\n",
    "print(\"Write 7 bytes to uart: #H11,#H22,#H33,33,33,#Q11,#B11001100'\")"
   ]
  },
  {
   "cell_type": "code",
   "execution_count": 16,
   "metadata": {},
   "outputs": [
    {
     "ename": "KeyboardInterrupt",
     "evalue": "",
     "output_type": "error",
     "traceback": [
      "\u001b[0;31m---------------------------------------------------------------------------\u001b[0m",
      "\u001b[0;31mKeyboardInterrupt\u001b[0m                         Traceback (most recent call last)",
      "\u001b[0;32m<ipython-input-16-6014161e4589>\u001b[0m in \u001b[0;36m<module>\u001b[0;34m()\u001b[0m\n\u001b[1;32m      1\u001b[0m \u001b[0mrp_s\u001b[0m\u001b[0;34m.\u001b[0m\u001b[0mtx_txt\u001b[0m\u001b[0;34m(\u001b[0m\u001b[0;34m'UART:READ3'\u001b[0m\u001b[0;34m)\u001b[0m\u001b[0;34m\u001b[0m\u001b[0m\n\u001b[0;32m----> 2\u001b[0;31m \u001b[0mprint\u001b[0m\u001b[0;34m(\u001b[0m\u001b[0;34m\"Read: \"\u001b[0m\u001b[0;34m,\u001b[0m\u001b[0mrp_s\u001b[0m\u001b[0;34m.\u001b[0m\u001b[0mrx_txt\u001b[0m\u001b[0;34m(\u001b[0m\u001b[0;34m)\u001b[0m\u001b[0;34m)\u001b[0m\u001b[0;34m\u001b[0m\u001b[0m\n\u001b[0m",
      "\u001b[0;32m<ipython-input-1-dcc04c442140>\u001b[0m in \u001b[0;36mrx_txt\u001b[0;34m(self, chunksize)\u001b[0m\n\u001b[1;32m     41\u001b[0m         \u001b[0mmsg\u001b[0m \u001b[0;34m=\u001b[0m \u001b[0;34m''\u001b[0m\u001b[0;34m\u001b[0m\u001b[0m\n\u001b[1;32m     42\u001b[0m         \u001b[0;32mwhile\u001b[0m \u001b[0;36m1\u001b[0m\u001b[0;34m:\u001b[0m\u001b[0;34m\u001b[0m\u001b[0m\n\u001b[0;32m---> 43\u001b[0;31m             \u001b[0mchunk\u001b[0m \u001b[0;34m=\u001b[0m \u001b[0mself\u001b[0m\u001b[0;34m.\u001b[0m\u001b[0m_socket\u001b[0m\u001b[0;34m.\u001b[0m\u001b[0mrecv\u001b[0m\u001b[0;34m(\u001b[0m\u001b[0mchunksize\u001b[0m \u001b[0;34m+\u001b[0m \u001b[0mlen\u001b[0m\u001b[0;34m(\u001b[0m\u001b[0mself\u001b[0m\u001b[0;34m.\u001b[0m\u001b[0mdelimiter\u001b[0m\u001b[0;34m)\u001b[0m\u001b[0;34m)\u001b[0m\u001b[0;34m.\u001b[0m\u001b[0mdecode\u001b[0m\u001b[0;34m(\u001b[0m\u001b[0;34m'utf-8'\u001b[0m\u001b[0;34m)\u001b[0m \u001b[0;31m# Receive chunk size of 2^n preferably\u001b[0m\u001b[0;34m\u001b[0m\u001b[0m\n\u001b[0m\u001b[1;32m     44\u001b[0m             \u001b[0mmsg\u001b[0m \u001b[0;34m+=\u001b[0m \u001b[0mchunk\u001b[0m\u001b[0;34m\u001b[0m\u001b[0m\n\u001b[1;32m     45\u001b[0m             \u001b[0;32mif\u001b[0m \u001b[0;34m(\u001b[0m\u001b[0mlen\u001b[0m\u001b[0;34m(\u001b[0m\u001b[0mchunk\u001b[0m\u001b[0;34m)\u001b[0m \u001b[0;32mand\u001b[0m \u001b[0mchunk\u001b[0m\u001b[0;34m[\u001b[0m\u001b[0;34m-\u001b[0m\u001b[0;36m2\u001b[0m\u001b[0;34m:\u001b[0m\u001b[0;34m]\u001b[0m \u001b[0;34m==\u001b[0m \u001b[0mself\u001b[0m\u001b[0;34m.\u001b[0m\u001b[0mdelimiter\u001b[0m\u001b[0;34m)\u001b[0m\u001b[0;34m:\u001b[0m\u001b[0;34m\u001b[0m\u001b[0m\n",
      "\u001b[0;31mKeyboardInterrupt\u001b[0m: "
     ]
    }
   ],
   "source": [
    "rp_s.tx_txt('UART:READ3')\n",
    "print(\"Read: \",rp_s.rx_txt())"
   ]
  },
  {
   "cell_type": "code",
   "execution_count": null,
   "metadata": {
    "collapsed": true
   },
   "outputs": [],
   "source": [
    "rp_s.tx_txt('UART:READ3')\n",
    "print(\"Read: \",rp_s.rx_txt())\n",
    "\n",
    "rp_s.tx_txt('UART:READ4')\n",
    "print(\"Read: \",rp_s.rx_txt())"
   ]
  },
  {
   "cell_type": "code",
   "execution_count": null,
   "metadata": {
    "collapsed": true
   },
   "outputs": [],
   "source": [
    "rp_s.tx_txt('UART:RELEASE')\n",
    "print(\"Release UART\")"
   ]
  }
 ],
 "metadata": {
  "kernelspec": {
   "display_name": "Python 3",
   "language": "python",
   "name": "python3"
  },
  "language_info": {
   "codemirror_mode": {
    "name": "ipython",
    "version": 3
   },
   "file_extension": ".py",
   "mimetype": "text/x-python",
   "name": "python",
   "nbconvert_exporter": "python",
   "pygments_lexer": "ipython3",
   "version": "3.5.2"
  }
 },
 "nbformat": 4,
 "nbformat_minor": 2
}
