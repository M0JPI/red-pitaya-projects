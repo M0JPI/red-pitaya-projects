{
 "cells": [
  {
   "cell_type": "markdown",
   "metadata": {},
   "source": [
    "# collect_air_data Class Test\n",
    "This notebook shows how you can use the `collect_air_data` class to manage air sensors\n"
   ]
  },
  {
   "cell_type": "code",
   "execution_count": 1,
   "metadata": {
    "collapsed": true
   },
   "outputs": [],
   "source": [
    "import collect_air_data\n",
    "import time\n",
    "\n",
    "air_data = collect_air_data.collect_air_object()\n",
    "#Manage relative values of PMS here\n",
    "pms_ref_0_3 = air_data.pms_ref_0_3\n",
    "pms_ref_0_5 = air_data.pms_ref_0_5\n",
    "pms_ref_1_0 = air_data.pms_ref_1_0"
   ]
  },
  {
   "cell_type": "code",
   "execution_count": 2,
   "metadata": {},
   "outputs": [
    {
     "name": "stdout",
     "output_type": "stream",
     "text": [
      "342 1.3571428571428572\n",
      "36 0.9230769230769231\n",
      "24 0.96\n",
      "4\n",
      "0\n",
      "0\n"
     ]
    }
   ],
   "source": [
    "#The pms5003 is a particle sensor\n",
    "pms5003_data = air_data.pms5003.read()\n",
    "print(pms5003_data.pm_per_1l_air(0.3),pms5003_data.pm_per_1l_air(0.3)/pms_ref_0_3)\n",
    "print(pms5003_data.pm_per_1l_air(0.5),pms5003_data.pm_per_1l_air(0.5)/pms_ref_0_5)\n",
    "print(pms5003_data.pm_per_1l_air(1.0),pms5003_data.pm_per_1l_air(1.0)/pms_ref_1_0)\n",
    "print(pms5003_data.pm_per_1l_air(2.5))\n",
    "print(pms5003_data.pm_per_1l_air(5.0))\n",
    "print(pms5003_data.pm_per_1l_air(10.0))"
   ]
  },
  {
   "cell_type": "code",
   "execution_count": 3,
   "metadata": {},
   "outputs": [
    {
     "data": {
      "text/plain": [
       "\n",
       "PM1.0 ug/m3 (ultrafine particles):                             0\n",
       "PM2.5 ug/m3 (combustion particles, organic compounds, metals): 1\n",
       "PM10 ug/m3  (dust, pollen, mould spores):                      1\n",
       "PM1.0 ug/m3 (atmos env):                                       0\n",
       "PM2.5 ug/m3 (atmos env):                                       1\n",
       "PM10 ug/m3 (atmos env):                                        1\n",
       ">0.3um in 0.1L air:                                            342\n",
       ">0.5um in 0.1L air:                                            36\n",
       ">1.0um in 0.1L air:                                            24\n",
       ">2.5um in 0.1L air:                                            4\n",
       ">5.0um in 0.1L air:                                            0\n",
       ">10um in 0.1L air:                                             0"
      ]
     },
     "execution_count": 3,
     "metadata": {},
     "output_type": "execute_result"
    }
   ],
   "source": [
    "air_data.pms5003.read()"
   ]
  },
  {
   "cell_type": "code",
   "execution_count": 4,
   "metadata": {},
   "outputs": [
    {
     "name": "stdout",
     "output_type": "stream",
     "text": [
      "1.6580645161290322\n",
      "1.2806451612903225\n",
      "1.0741935483870966\n",
      "0.8580645161290322\n"
     ]
    }
   ],
   "source": [
    "print(air_data.gas_gmxxxb.getGM102B_volts())\n",
    "print(air_data.gas_gmxxxb.getGM302B_volts())\n",
    "print(air_data.gas_gmxxxb.getGM502B_volts())\n",
    "print(air_data.gas_gmxxxb.getGM702B_volts())"
   ]
  },
  {
   "cell_type": "code",
   "execution_count": 5,
   "metadata": {},
   "outputs": [
    {
     "name": "stdout",
     "output_type": "stream",
     "text": [
      "30.84 C,1018.75 hPa,33.82 %RH\n",
      "30.84 C,1018.74 hPa,33.82 %RH\n",
      "30.84 C,1018.75 hPa,33.81 %RH\n",
      "30.90 C,1018.74 hPa,33.77 %RH,67328.14022432856 Ohms\n"
     ]
    }
   ],
   "source": [
    "while True:\n",
    "    if air_data.bme_680.get_sensor_data():\n",
    "        output = '{0:.2f} C,{1:.2f} hPa,{2:.2f} %RH'.format(\n",
    "            air_data.bme_680.data.temperature,\n",
    "            air_data.bme_680.data.pressure,\n",
    "            air_data.bme_680.data.humidity)\n",
    "        #Only print gas data if the heater is stable\n",
    "        if air_data.bme_680.data.heat_stable:\n",
    "            print('{0},{1} Ohms'.format(\n",
    "                output,\n",
    "                air_data.bme_680.data.gas_resistance))\n",
    "            break\n",
    "        else:\n",
    "            print(output)\n",
    "    time.sleep(1)"
   ]
  },
  {
   "cell_type": "code",
   "execution_count": 6,
   "metadata": {},
   "outputs": [
    {
     "name": "stdout",
     "output_type": "stream",
     "text": [
      "69951.5850415895\n",
      "2.2718243398741254\n",
      "0.7396932271274634\n"
     ]
    }
   ],
   "source": [
    "print(air_data.bme_680.get_sensor_data().gas_resistance)\n",
    "print(air_data.bme_680.get_sensor_data().gas_volts)\n",
    "print(air_data.bme_680.get_sensor_data().gas_rel)"
   ]
  },
  {
   "cell_type": "code",
   "execution_count": 7,
   "metadata": {},
   "outputs": [
    {
     "data": {
      "text/plain": [
       "26.551563859277053"
      ]
     },
     "execution_count": 7,
     "metadata": {},
     "output_type": "execute_result"
    }
   ],
   "source": [
    "air_data.analog_temp()"
   ]
  },
  {
   "cell_type": "code",
   "execution_count": 8,
   "metadata": {},
   "outputs": [
    {
     "name": "stdout",
     "output_type": "stream",
     "text": [
      "0.9603259711065619\n",
      "0.993578351700934\n",
      "1.0039140930788522\n",
      "0.994984974975\n",
      "1.0638739708696607\n",
      "0.901707141791753\n"
     ]
    }
   ],
   "source": [
    "print(air_data.analog_voc_ratio())\n",
    "print(air_data.analog_alcohol_ratio())\n",
    "print(air_data.GM102B_ratio())\n",
    "print(air_data.GM302B_ratio())\n",
    "print(air_data.GM502B_ratio())\n",
    "print(air_data.GM702B_ratio())"
   ]
  },
  {
   "cell_type": "code",
   "execution_count": 9,
   "metadata": {},
   "outputs": [
    {
     "data": {
      "text/plain": [
       "(0.20885423190130262,\n",
       " 2.398399826997746,\n",
       " 1.6612903225806452,\n",
       " 1.2806451612903225,\n",
       " 1.0741935483870966,\n",
       " 0.8580645161290322,\n",
       " 2.6252483260310484)"
      ]
     },
     "execution_count": 9,
     "metadata": {},
     "output_type": "execute_result"
    }
   ],
   "source": [
    "#Reset all the reference values to their current value\n",
    "pms5003_data = air_data.pms5003.read()\n",
    "pms_ref_0_3 = pms5003_data.pm_per_1l_air(0.3)\n",
    "pms_ref_0_5 = pms5003_data.pm_per_1l_air(0.5)\n",
    "pms_ref_1_0 = pms5003_data.pm_per_1l_air(1.0)\n",
    "air_data.reset_ref_values()"
   ]
  }
 ],
 "metadata": {
  "kernelspec": {
   "display_name": "Python 3",
   "language": "python",
   "name": "python3"
  },
  "language_info": {
   "codemirror_mode": {
    "name": "ipython",
    "version": 3
   },
   "file_extension": ".py",
   "mimetype": "text/x-python",
   "name": "python",
   "nbconvert_exporter": "python",
   "pygments_lexer": "ipython3",
   "version": "3.5.2"
  }
 },
 "nbformat": 4,
 "nbformat_minor": 2
}
