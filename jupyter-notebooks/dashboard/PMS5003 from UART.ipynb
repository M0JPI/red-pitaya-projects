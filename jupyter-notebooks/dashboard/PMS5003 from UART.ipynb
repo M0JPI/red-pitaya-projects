{
 "cells": [
  {
   "cell_type": "markdown",
   "metadata": {},
   "source": [
    "# Read Air Particle Data from a PMS5003 Using UART\n",
    "Based on code from https://github.com/pimoroni/pms5003-python\n",
    "\n",
    "To install the correct serial library use:\n",
    "\n",
    "`pip install pyserial`\n",
    "\n",
    "`pip install pms5003`"
   ]
  },
  {
   "cell_type": "code",
   "execution_count": 1,
   "metadata": {
    "collapsed": true
   },
   "outputs": [],
   "source": [
    "import serial\n",
    "import struct\n",
    "import time\n",
    "from pms5003 import PMS5003"
   ]
  },
  {
   "cell_type": "code",
   "execution_count": 2,
   "metadata": {
    "scrolled": false
   },
   "outputs": [
    {
     "name": "stdout",
     "output_type": "stream",
     "text": [
      "\n",
      "PM1.0 ug/m3 (ultrafine particles):                             0\n",
      "PM2.5 ug/m3 (combustion particles, organic compounds, metals): 1\n",
      "PM10 ug/m3  (dust, pollen, mould spores):                      1\n",
      "PM1.0 ug/m3 (atmos env):                                       0\n",
      "PM2.5 ug/m3 (atmos env):                                       1\n",
      "PM10 ug/m3 (atmos env):                                        1\n",
      ">0.3um in 0.1L air:                                            114\n",
      ">0.5um in 0.1L air:                                            20\n",
      ">1.0um in 0.1L air:                                            20\n",
      ">2.5um in 0.1L air:                                            2\n",
      ">5.0um in 0.1L air:                                            0\n",
      ">10um in 0.1L air:                                             0\n",
      "\n"
     ]
    }
   ],
   "source": [
    "# Configure the PMS5003\n",
    "pms5003 = PMS5003(device='/dev/ttyPS1',baudrate=9600)\n",
    "\n",
    "data = pms5003.read()\n",
    "print(data)"
   ]
  }
 ],
 "metadata": {
  "kernelspec": {
   "display_name": "Python 3",
   "language": "python",
   "name": "python3"
  },
  "language_info": {
   "codemirror_mode": {
    "name": "ipython",
    "version": 3
   },
   "file_extension": ".py",
   "mimetype": "text/x-python",
   "name": "python",
   "nbconvert_exporter": "python",
   "pygments_lexer": "ipython3",
   "version": "3.5.2"
  }
 },
 "nbformat": 4,
 "nbformat_minor": 2
}
