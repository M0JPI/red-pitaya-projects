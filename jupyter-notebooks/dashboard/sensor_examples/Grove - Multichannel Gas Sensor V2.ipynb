{
 "cells": [
  {
   "cell_type": "markdown",
   "metadata": {},
   "source": [
    "# Multichannel Gas Sensor V2\n",
    "This code for the https://wiki.seeedstudio.com/Grove-Multichannel-Gas-Sensor-V2/\n",
    "There is an additional Python file that forms the library for this example gas_gmxxxb.py it should be placed in the same folder as this example.\n",
    "\n",
    "\n",
    "Grove - Multichannel Gas Sensor V2 has 4 measuring units, each of them is sensitive to various kinds of gases, which means you are able to get four sets of data at the same time. And different sorts of gases can also be judged by these four sets of data. The gas sensor used in this module is based on MEMS technology and has the advantage of being in a small size with considerable measurement stability and is more suitable for qualitative than quantitative measurement."
   ]
  },
  {
   "cell_type": "code",
   "execution_count": 1,
   "metadata": {},
   "outputs": [
    {
     "name": "stdout",
     "output_type": "stream",
     "text": [
      "368 1.1870967741935483 V\n",
      "279 0.896774193548387 V\n",
      "210 0.6806451612903225 V\n",
      "164 0.5258064516129032 V\n"
     ]
    }
   ],
   "source": [
    "import sys #Import from the folder above\n",
    "sys.path.append(\"..\")\n",
    "\n",
    "import gas_gmxxxb\n",
    "test_device = gas_gmxxxb.GAS_GMXXX()\n",
    "print(test_device.getGM102B_raw(),test_device.getGM102B_volts(), 'V')\n",
    "print(test_device.getGM302B_raw(),test_device.getGM302B_volts(), 'V')\n",
    "print(test_device.getGM502B_raw(),test_device.getGM502B_volts(), 'V')\n",
    "print(test_device.getGM702B_raw(),test_device.getGM702B_volts(), 'V')"
   ]
  }
 ],
 "metadata": {
  "kernelspec": {
   "display_name": "Python 3",
   "language": "python",
   "name": "python3"
  },
  "language_info": {
   "codemirror_mode": {
    "name": "ipython",
    "version": 3
   },
   "file_extension": ".py",
   "mimetype": "text/x-python",
   "name": "python",
   "nbconvert_exporter": "python",
   "pygments_lexer": "ipython3",
   "version": "3.5.2"
  }
 },
 "nbformat": 4,
 "nbformat_minor": 2
}
