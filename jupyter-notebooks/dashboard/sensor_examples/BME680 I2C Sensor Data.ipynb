{
 "cells": [
  {
   "cell_type": "markdown",
   "metadata": {},
   "source": [
    "# BME680 Temperature, Pressure, Humidity & Gas Sensor\n",
    "This code is based on https://github.com/pimoroni/bme680-python\n",
    "\n",
    "The grove module is here: https://wiki.seeedstudio.com/Grove-Temperature_Humidity_Pressure_Gas_Sensor_BME680/"
   ]
  },
  {
   "cell_type": "code",
   "execution_count": 1,
   "metadata": {
    "collapsed": true
   },
   "outputs": [],
   "source": [
    "import threading\n",
    "import time\n",
    "import sys #Import from the folder above\n",
    "sys.path.append(\"..\")\n",
    "\n",
    "import bme680"
   ]
  },
  {
   "cell_type": "code",
   "execution_count": 2,
   "metadata": {
    "scrolled": true
   },
   "outputs": [
    {
     "name": "stdout",
     "output_type": "stream",
     "text": [
      "gas_index: 0\n",
      "gas_rel: 0.16934754889541018\n",
      "gas_resistance: 354300.96503526176\n",
      "gas_volts: 10.629028951057853\n",
      "heat_stable: False\n",
      "humidity: 32.112\n",
      "meas_index: 0\n",
      "pressure: 1014.17\n",
      "status: 32\n",
      "temperature: 31.19\n"
     ]
    }
   ],
   "source": [
    "#The bme680 board has a primady and alternate I2C address\n",
    "sensor = bme680.BME680()\n",
    "#Print each initial reading\n",
    "for name in dir(sensor.data):\n",
    "    value = getattr(sensor.data, name)\n",
    "    if not name.startswith('_'):\n",
    "        print('{}: {}'.format(name, value))"
   ]
  },
  {
   "cell_type": "code",
   "execution_count": 3,
   "metadata": {
    "collapsed": true
   },
   "outputs": [],
   "source": [
    "#Define a worker thread to poll the sensor\n",
    "continue_worker_thread = True\n",
    "def work():\n",
    "    while continue_worker_thread == True:\n",
    "        if sensor.get_sensor_data():\n",
    "            output = '{0:.2f} C,{1:.2f} hPa,{2:.2f} %RH'.format(\n",
    "                sensor.data.temperature,\n",
    "                sensor.data.pressure,\n",
    "                sensor.data.humidity)\n",
    "            #Only print gas data if the heater is stable\n",
    "            if sensor.data.heat_stable:\n",
    "                print('{0},{1} Ohms'.format(\n",
    "                    output,\n",
    "                    sensor.data.gas_resistance))\n",
    "            else:\n",
    "                print(output)\n",
    "\n",
    "        time.sleep(1)"
   ]
  },
  {
   "cell_type": "code",
   "execution_count": 4,
   "metadata": {
    "collapsed": true
   },
   "outputs": [],
   "source": [
    "#Start polling for values\n",
    "thread = threading.Thread(target=work)\n",
    "thread.start()"
   ]
  },
  {
   "cell_type": "code",
   "execution_count": 5,
   "metadata": {},
   "outputs": [
    {
     "name": "stdout",
     "output_type": "stream",
     "text": [
      "31.19 C,1014.16 hPa,32.12 %RH\n"
     ]
    }
   ],
   "source": [
    "#Stop the worker thread\n",
    "continue_worker_thread = False"
   ]
  }
 ],
 "metadata": {
  "kernelspec": {
   "display_name": "Python 3",
   "language": "python",
   "name": "python3"
  },
  "language_info": {
   "codemirror_mode": {
    "name": "ipython",
    "version": 3
   },
   "file_extension": ".py",
   "mimetype": "text/x-python",
   "name": "python",
   "nbconvert_exporter": "python",
   "pygments_lexer": "ipython3",
   "version": "3.5.2"
  }
 },
 "nbformat": 4,
 "nbformat_minor": 2
}
