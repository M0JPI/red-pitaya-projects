{
 "cells": [
  {
   "cell_type": "markdown",
   "metadata": {},
   "source": [
    "# collect_air_data Class Test\n",
    "This notebook shows how you can use the `collect_air_data` class to manage air sensors\n"
   ]
  },
  {
   "cell_type": "code",
   "execution_count": 1,
   "metadata": {
    "collapsed": true
   },
   "outputs": [],
   "source": [
    "import sys #Import from the folder above\n",
    "sys.path.append(\"..\")\n",
    "\n",
    "import collect_air_data\n",
    "import time\n",
    "\n",
    "air_data = collect_air_data.collect_air_object()\n",
    "#Manage relative values of PMS here\n",
    "pms_ref_0_3 = air_data.pms_ref_0_3\n",
    "pms_ref_0_5 = air_data.pms_ref_0_5\n",
    "pms_ref_1_0 = air_data.pms_ref_1_0"
   ]
  },
  {
   "cell_type": "code",
   "execution_count": 2,
   "metadata": {},
   "outputs": [
    {
     "name": "stdout",
     "output_type": "stream",
     "text": [
      "489 1.9404761904761905\n",
      "72 1.8461538461538463\n",
      "35 1.4\n",
      "0\n",
      "0\n",
      "0\n"
     ]
    }
   ],
   "source": [
    "#The pms5003 is a particle sensor\n",
    "pms5003_data = air_data.pms5003.read()\n",
    "print(pms5003_data.pm_per_1l_air(0.3),pms5003_data.pm_per_1l_air(0.3)/pms_ref_0_3)\n",
    "print(pms5003_data.pm_per_1l_air(0.5),pms5003_data.pm_per_1l_air(0.5)/pms_ref_0_5)\n",
    "print(pms5003_data.pm_per_1l_air(1.0),pms5003_data.pm_per_1l_air(1.0)/pms_ref_1_0)\n",
    "print(pms5003_data.pm_per_1l_air(2.5))\n",
    "print(pms5003_data.pm_per_1l_air(5.0))\n",
    "print(pms5003_data.pm_per_1l_air(10.0))"
   ]
  },
  {
   "cell_type": "code",
   "execution_count": 3,
   "metadata": {},
   "outputs": [
    {
     "data": {
      "text/plain": [
       "\n",
       "PM1.0 ug/m3 (ultrafine particles):                             1\n",
       "PM2.5 ug/m3 (combustion particles, organic compounds, metals): 4\n",
       "PM10 ug/m3  (dust, pollen, mould spores):                      4\n",
       "PM1.0 ug/m3 (atmos env):                                       1\n",
       "PM2.5 ug/m3 (atmos env):                                       4\n",
       "PM10 ug/m3 (atmos env):                                        4\n",
       ">0.3um in 0.1L air:                                            513\n",
       ">0.5um in 0.1L air:                                            77\n",
       ">1.0um in 0.1L air:                                            40\n",
       ">2.5um in 0.1L air:                                            2\n",
       ">5.0um in 0.1L air:                                            0\n",
       ">10um in 0.1L air:                                             0"
      ]
     },
     "execution_count": 3,
     "metadata": {},
     "output_type": "execute_result"
    }
   ],
   "source": [
    "air_data.pms5003.read()"
   ]
  },
  {
   "cell_type": "code",
   "execution_count": 4,
   "metadata": {},
   "outputs": [
    {
     "name": "stdout",
     "output_type": "stream",
     "text": [
      "1.1935483870967742\n",
      "0.896774193548387\n",
      "0.6806451612903225\n",
      "0.5354838709677419\n"
     ]
    }
   ],
   "source": [
    "print(air_data.gas_gmxxxb.getGM102B_volts())\n",
    "print(air_data.gas_gmxxxb.getGM302B_volts())\n",
    "print(air_data.gas_gmxxxb.getGM502B_volts())\n",
    "print(air_data.gas_gmxxxb.getGM702B_volts())"
   ]
  },
  {
   "cell_type": "code",
   "execution_count": 5,
   "metadata": {},
   "outputs": [
    {
     "name": "stdout",
     "output_type": "stream",
     "text": [
      "31.20 C,1014.19 hPa,32.18 %RH\n",
      "31.21 C,1014.18 hPa,32.17 %RH\n",
      "31.21 C,1014.16 hPa,32.14 %RH\n",
      "31.23 C,1014.20 hPa,32.13 %RH\n",
      "31.24 C,1014.19 hPa,32.08 %RH,3086.5581017095033 Ohms\n"
     ]
    }
   ],
   "source": [
    "while True:\n",
    "    if air_data.bme_680.get_sensor_data():\n",
    "        output = '{0:.2f} C,{1:.2f} hPa,{2:.2f} %RH'.format(\n",
    "            air_data.bme_680.data.temperature,\n",
    "            air_data.bme_680.data.pressure,\n",
    "            air_data.bme_680.data.humidity)\n",
    "        #Only print gas data if the heater is stable\n",
    "        if air_data.bme_680.data.heat_stable:\n",
    "            print('{0},{1} Ohms'.format(\n",
    "                output,\n",
    "                air_data.bme_680.data.gas_resistance))\n",
    "            break\n",
    "        else:\n",
    "            print(output)\n",
    "    time.sleep(1)"
   ]
  },
  {
   "cell_type": "code",
   "execution_count": 6,
   "metadata": {},
   "outputs": [
    {
     "name": "stdout",
     "output_type": "stream",
     "text": [
      "2808.507216237458\n",
      "0.08913721289023128\n",
      "18.798975319311083\n"
     ]
    }
   ],
   "source": [
    "print(air_data.bme_680.get_sensor_data().gas_resistance)\n",
    "print(air_data.bme_680.get_sensor_data().gas_volts)\n",
    "print(air_data.bme_680.get_sensor_data().gas_rel)"
   ]
  },
  {
   "cell_type": "code",
   "execution_count": 7,
   "metadata": {},
   "outputs": [
    {
     "data": {
      "text/plain": [
       "26.304088332799438"
      ]
     },
     "execution_count": 7,
     "metadata": {},
     "output_type": "execute_result"
    }
   ],
   "source": [
    "air_data.analog_temp()"
   ]
  },
  {
   "cell_type": "code",
   "execution_count": 8,
   "metadata": {},
   "outputs": [
    {
     "name": "stdout",
     "output_type": "stream",
     "text": [
      "0.8412772970024426\n",
      "0.8615515620744192\n",
      "0.7207087555371527\n",
      "0.6992463678035894\n",
      "0.677301146619724\n",
      "0.5559397415558176\n"
     ]
    }
   ],
   "source": [
    "print(air_data.analog_voc_ratio())\n",
    "print(air_data.analog_alcohol_ratio())\n",
    "print(air_data.GM102B_ratio())\n",
    "print(air_data.GM302B_ratio())\n",
    "print(air_data.GM502B_ratio())\n",
    "print(air_data.GM702B_ratio())"
   ]
  },
  {
   "cell_type": "code",
   "execution_count": 9,
   "metadata": {},
   "outputs": [
    {
     "data": {
      "text/plain": [
       "(0.1831754328970441,\n",
       " 2.764750692791834,\n",
       " 1.1935483870967742,\n",
       " 0.896774193548387,\n",
       " 0.6774193548387096,\n",
       " 0.529032258064516,\n",
       " 0.1087813562735275)"
      ]
     },
     "execution_count": 9,
     "metadata": {},
     "output_type": "execute_result"
    }
   ],
   "source": [
    "#Reset all the reference values to their current value\n",
    "pms5003_data = air_data.pms5003.read()\n",
    "pms_ref_0_3 = pms5003_data.pm_per_1l_air(0.3)\n",
    "pms_ref_0_5 = pms5003_data.pm_per_1l_air(0.5)\n",
    "pms_ref_1_0 = pms5003_data.pm_per_1l_air(1.0)\n",
    "air_data.reset_ref_values()"
   ]
  }
 ],
 "metadata": {
  "kernelspec": {
   "display_name": "Python 3",
   "language": "python",
   "name": "python3"
  },
  "language_info": {
   "codemirror_mode": {
    "name": "ipython",
    "version": 3
   },
   "file_extension": ".py",
   "mimetype": "text/x-python",
   "name": "python",
   "nbconvert_exporter": "python",
   "pygments_lexer": "ipython3",
   "version": "3.5.2"
  }
 },
 "nbformat": 4,
 "nbformat_minor": 2
}
