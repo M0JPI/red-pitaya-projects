{
 "cells": [
  {
   "cell_type": "markdown",
   "metadata": {},
   "source": [
    "# collect_air_data Class Test\n",
    "This notebook shows how you can use the `collect_air_data` class to manage air sensors\n"
   ]
  },
  {
   "cell_type": "code",
   "execution_count": 1,
   "metadata": {},
   "outputs": [],
   "source": [
    "import time\n",
    "#Analog sensors setup\n",
    "from redpitaya.overlay.mercury import mercury as FPGA\n",
    "\n",
    "import sys #Import from the folder above\n",
    "sys.path.append(\"..\")\n",
    "\n",
    "import collect_air_data\n",
    "import bme680\n",
    "\n",
    "air_data = collect_air_data.collect_air_object(\"/dev/ttyPS1\",bme680.BME680(i2c_addr=0x76, i2c_device=None),\n",
    "                 FPGA.analog_in(1), #ANALOG_TEMP_pin\n",
    "                 FPGA.analog_in(2), #voc_pin\n",
    "                 FPGA.analog_in(3)) #analog_alcohol_pin\n",
    "#Manage relative values of PMS here\n",
    "pms_ref_0_3 = air_data.pms_ref_0_3\n",
    "pms_ref_0_5 = air_data.pms_ref_0_5\n",
    "pms_ref_1_0 = air_data.pms_ref_1_0"
   ]
  },
  {
   "cell_type": "code",
   "execution_count": 2,
   "metadata": {},
   "outputs": [
    {
     "name": "stdout",
     "output_type": "stream",
     "text": [
      "114 0.4523809523809524\n",
      "15 0.38461538461538464\n",
      "15 0.6\n",
      "2\n",
      "0\n",
      "0\n"
     ]
    }
   ],
   "source": [
    "#The pms5003 is a particle sensor\n",
    "pms5003_data = air_data.pms5003.read()\n",
    "print(pms5003_data.pm_per_1l_air(0.3),pms5003_data.pm_per_1l_air(0.3)/pms_ref_0_3)\n",
    "print(pms5003_data.pm_per_1l_air(0.5),pms5003_data.pm_per_1l_air(0.5)/pms_ref_0_5)\n",
    "print(pms5003_data.pm_per_1l_air(1.0),pms5003_data.pm_per_1l_air(1.0)/pms_ref_1_0)\n",
    "print(pms5003_data.pm_per_1l_air(2.5))\n",
    "print(pms5003_data.pm_per_1l_air(5.0))\n",
    "print(pms5003_data.pm_per_1l_air(10.0))"
   ]
  },
  {
   "cell_type": "code",
   "execution_count": 3,
   "metadata": {},
   "outputs": [
    {
     "data": {
      "text/plain": [
       "\n",
       "PM1.0 ug/m3 (ultrafine particles):                             0\n",
       "PM2.5 ug/m3 (combustion particles, organic compounds, metals): 1\n",
       "PM10 ug/m3  (dust, pollen, mould spores):                      1\n",
       "PM1.0 ug/m3 (atmos env):                                       0\n",
       "PM2.5 ug/m3 (atmos env):                                       1\n",
       "PM10 ug/m3 (atmos env):                                        1\n",
       ">0.3um in 0.1L air:                                            114\n",
       ">0.5um in 0.1L air:                                            15\n",
       ">1.0um in 0.1L air:                                            15\n",
       ">2.5um in 0.1L air:                                            2\n",
       ">5.0um in 0.1L air:                                            0\n",
       ">10um in 0.1L air:                                             0"
      ]
     },
     "execution_count": 3,
     "metadata": {},
     "output_type": "execute_result"
    }
   ],
   "source": [
    "air_data.pms5003.read()"
   ]
  },
  {
   "cell_type": "code",
   "execution_count": 4,
   "metadata": {},
   "outputs": [
    {
     "name": "stdout",
     "output_type": "stream",
     "text": [
      "1.1741935483870969\n",
      "0.832258064516129\n",
      "0.6451612903225806\n",
      "0.41935483870967744\n"
     ]
    }
   ],
   "source": [
    "print(air_data.gas_gmxxxb.getGM102B_volts())\n",
    "print(air_data.gas_gmxxxb.getGM302B_volts())\n",
    "print(air_data.gas_gmxxxb.getGM502B_volts())\n",
    "print(air_data.gas_gmxxxb.getGM702B_volts())"
   ]
  },
  {
   "cell_type": "code",
   "execution_count": 5,
   "metadata": {},
   "outputs": [
    {
     "name": "stdout",
     "output_type": "stream",
     "text": [
      "32.68 C,1014.88 hPa,33.31 %RH\n",
      "32.66 C,1014.88 hPa,33.32 %RH\n",
      "32.65 C,1014.91 hPa,33.31 %RH\n",
      "32.68 C,1014.87 hPa,33.30 %RH,75187.63141422218 Ohms\n"
     ]
    }
   ],
   "source": [
    "while True:\n",
    "    if air_data.bme_680.get_sensor_data():\n",
    "        output = '{0:.2f} C,{1:.2f} hPa,{2:.2f} %RH'.format(\n",
    "            air_data.bme_680.data.temperature,\n",
    "            air_data.bme_680.data.pressure,\n",
    "            air_data.bme_680.data.humidity)\n",
    "        #Only print gas data if the heater is stable\n",
    "        if air_data.bme_680.data.heat_stable:\n",
    "            print('{0},{1} Ohms'.format(\n",
    "                output,\n",
    "                air_data.bme_680.data.gas_resistance))\n",
    "            break\n",
    "        else:\n",
    "            print(output)\n",
    "    time.sleep(1)"
   ]
  },
  {
   "cell_type": "code",
   "execution_count": 6,
   "metadata": {},
   "outputs": [
    {
     "name": "stdout",
     "output_type": "stream",
     "text": [
      "77041.22215757887\n",
      "2.4287714472860658\n",
      "0.7119602284634317\n"
     ]
    }
   ],
   "source": [
    "print(air_data.bme_680.get_sensor_data().gas_resistance)\n",
    "print(air_data.bme_680.get_sensor_data().gas_volts)\n",
    "print(air_data.bme_680.get_sensor_data().gas_rel)"
   ]
  },
  {
   "cell_type": "code",
   "execution_count": 7,
   "metadata": {},
   "outputs": [
    {
     "data": {
      "text/plain": [
       "26.915057573267916"
      ]
     },
     "execution_count": 7,
     "metadata": {},
     "output_type": "execute_result"
    }
   ],
   "source": [
    "air_data.analog_temp()"
   ]
  },
  {
   "cell_type": "code",
   "execution_count": 8,
   "metadata": {},
   "outputs": [
    {
     "name": "stdout",
     "output_type": "stream",
     "text": [
      "0.8254041404552267\n",
      "0.6695439132739723\n",
      "0.7148493347604279\n",
      "0.6491211801474182\n",
      "0.6357685291383258\n",
      "0.4440738179500739\n"
     ]
    }
   ],
   "source": [
    "print(air_data.analog_voc_ratio())\n",
    "print(air_data.analog_alcohol_ratio())\n",
    "print(air_data.GM102B_ratio())\n",
    "print(air_data.GM302B_ratio())\n",
    "print(air_data.GM502B_ratio())\n",
    "print(air_data.GM702B_ratio())"
   ]
  },
  {
   "cell_type": "code",
   "execution_count": 9,
   "metadata": {},
   "outputs": [
    {
     "data": {
      "text/plain": [
       "(0.16605623356087176,\n",
       " 3.6378298589366236,\n",
       " 1.1774193548387097,\n",
       " 0.8354838709677419,\n",
       " 0.6419354838709677,\n",
       " 0.41935483870967744,\n",
       " 2.709552544961243)"
      ]
     },
     "execution_count": 9,
     "metadata": {},
     "output_type": "execute_result"
    }
   ],
   "source": [
    "#Reset all the reference values to their current value\n",
    "pms5003_data = air_data.pms5003.read()\n",
    "pms_ref_0_3 = pms5003_data.pm_per_1l_air(0.3)\n",
    "pms_ref_0_5 = pms5003_data.pm_per_1l_air(0.5)\n",
    "pms_ref_1_0 = pms5003_data.pm_per_1l_air(1.0)\n",
    "air_data.reset_ref_values()"
   ]
  }
 ],
 "metadata": {
  "kernelspec": {
   "display_name": "Python 3",
   "language": "python",
   "name": "python3"
  },
  "language_info": {
   "codemirror_mode": {
    "name": "ipython",
    "version": 3
   },
   "file_extension": ".py",
   "mimetype": "text/x-python",
   "name": "python",
   "nbconvert_exporter": "python",
   "pygments_lexer": "ipython3",
   "version": "3.5.2"
  }
 },
 "nbformat": 4,
 "nbformat_minor": 2
}
