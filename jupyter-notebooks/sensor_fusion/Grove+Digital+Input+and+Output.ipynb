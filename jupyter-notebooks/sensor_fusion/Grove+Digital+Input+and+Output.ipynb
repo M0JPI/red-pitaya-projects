{
 "cells": [
  {
   "cell_type": "markdown",
   "metadata": {},
   "source": [
    "# Grove Digital Input and Output\n",
    "## Setup\n",
    "- Red Pitaya STEMlab board + [sensor shield](https://redpitaya.readthedocs.io/en/latest/developerGuide/sensor_ext.html)\n",
    "- Grove Tilt sensor\n",
    "- Grove Relay output\n",
    "- Grove LED output\n",
    "\n",
    "Using the [sensor board schematics](http://downloads.redpitaya.com/doc/STEMlab_ArduinoSensorShieldSch.PDF) I worked out how to control each Grove connector.\n",
    "Python GPIO uses the [Periphery library](https://python-periphery.readthedocs.io/en/latest/index.html)"
   ]
  },
  {
   "cell_type": "code",
   "execution_count": 1,
   "metadata": {},
   "outputs": [
    {
     "name": "stdout",
     "output_type": "stream",
     "text": [
      "Requested overlay is already loaded.\n"
     ]
    }
   ],
   "source": [
    "import time\n",
    "from redpitaya.overlay.mercury import mercury as FPGA\n",
    "\n",
    "overlay = FPGA()\n",
    "#The GPIO sub-class supports the slow digital I/O connections\n",
    "GPIO = FPGA.gpio"
   ]
  },
  {
   "cell_type": "code",
   "execution_count": 2,
   "metadata": {
    "collapsed": true
   },
   "outputs": [],
   "source": [
    "#The relay is attached to Grove connector CN8 this is connected to connector DIO0_N\n",
    "Relay = GPIO('n', 0, \"out\")\n",
    "Relay.write(True)\n",
    "time.sleep(1)\n",
    "Relay.write(False)"
   ]
  },
  {
   "cell_type": "code",
   "execution_count": 3,
   "metadata": {
    "collapsed": true
   },
   "outputs": [],
   "source": [
    "#The red LED module is attached to Grove connector CN9 this is connected to connector DIO6_P\n",
    "LED_Module = GPIO('p', 6, \"out\")\n",
    "LED_Module.write(True)\n",
    "time.sleep(1)\n",
    "LED_Module.write(False)"
   ]
  },
  {
   "cell_type": "code",
   "execution_count": 10,
   "metadata": {},
   "outputs": [
    {
     "data": {
      "text/plain": [
       "False"
      ]
     },
     "execution_count": 10,
     "metadata": {},
     "output_type": "execute_result"
    }
   ],
   "source": [
    "#The tilt sensor module is attached to Grove connector CN10 this is connected to connector DIO4_P\n",
    "tilt_GPIO = GPIO('p', 4, \"in\")\n",
    "tilt_value = tilt_GPIO.read()\n",
    "tilt_value"
   ]
  },
  {
   "cell_type": "markdown",
   "metadata": {},
   "source": [
    "## The Grove Temperature Sensor\n",
    "The sensor is connected to the Grove connector CN0 this id connected to connector AIN0.\n",
    "\n",
    "With this connection setup the default example can be used to read the temperature."
   ]
  }
 ],
 "metadata": {
  "kernelspec": {
   "display_name": "Python 3",
   "language": "python",
   "name": "python3"
  },
  "language_info": {
   "codemirror_mode": {
    "name": "ipython",
    "version": 3
   },
   "file_extension": ".py",
   "mimetype": "text/x-python",
   "name": "python",
   "nbconvert_exporter": "python",
   "pygments_lexer": "ipython3",
   "version": "3.5.2"
  }
 },
 "nbformat": 4,
 "nbformat_minor": 2
}
