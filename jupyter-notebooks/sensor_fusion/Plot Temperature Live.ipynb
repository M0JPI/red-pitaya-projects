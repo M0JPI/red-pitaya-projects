{
 "cells": [
  {
   "cell_type": "markdown",
   "metadata": {},
   "source": [
    "# Plot Temperature Live\n",
    "This example uses a command line program to plot the temperature of the Xilinx Zynq chip.\n",
    "\n",
    "The simplest way to get the internal Red Pitaya temperature is to use `xadc_get_value_temp` as described in the forum post below\n",
    "https://forum.redpitaya.com/viewtopic.php?t=1078 \n",
    "\n",
    "This command can be run repeatedly to create a graph\n",
    "\n",
    "Get the current temperature, this is returned as a string "
   ]
  },
  {
   "cell_type": "code",
   "execution_count": null,
   "metadata": {
    "collapsed": true
   },
   "outputs": [],
   "source": [
    "%matplotlib notebook\n",
    "import matplotlib\n",
    "import numpy as np\n",
    "import matplotlib.pyplot as plt\n",
    "import matplotlib.dates as mdates\n",
    "from matplotlib.animation import FuncAnimation\n",
    "from IPython.display import display, clear_output\n",
    "from datetime import datetime, date\n",
    "import time\n",
    "import pandas as pd\n",
    "\n",
    "headers = [\"Temperature (oC)\",\"Time(Minutes)\"]"
   ]
  },
  {
   "cell_type": "code",
   "execution_count": null,
   "metadata": {
    "collapsed": true
   },
   "outputs": [],
   "source": [
    "df = pd.DataFrame() #Create an empty data frame to append to later\n",
    "\n",
    "def animate(i):\n",
    "    global df\n",
    "    global plt\n",
    "    clean_data_table = pd.DataFrame() #Create an empty data frame to append to later\n",
    "    current_temp = !xadc_get_value_temp\n",
    "    temp_value = float(current_temp[0][:5])\n",
    "    clean_data_table['Temperature (oC)'] = [temp_value]\n",
    "    clean_data_table['Time(Minutes)'] = [i/60]\n",
    "    df = df.append(clean_data_table)\n",
    "    \n",
    "    x = df['Time(Minutes)']\n",
    "    y1 = df['Temperature (oC)']\n",
    "    plt.cla()\n",
    "    plt.plot(x,y1)\n",
    "    plt.gcf().autofmt_xdate()\n",
    "    plt.xlabel('Time (Minutes)')\n",
    "    plt.ylabel('Temprature (C)')\n",
    "    plt.title(\"Temperature - Arcylic Case with Fan\")\n",
    "    plt.ylim(ymin=0,ymax=85)\n",
    "    plt.xlim(xmin=0,xmax=10.0)\n"
   ]
  },
  {
   "cell_type": "code",
   "execution_count": null,
   "metadata": {},
   "outputs": [],
   "source": [
    "ani = FuncAnimation(plt.gcf(), animate,interval=1000)\n",
    "\n",
    "plt.show()"
   ]
  },
  {
   "cell_type": "code",
   "execution_count": null,
   "metadata": {
    "collapsed": true
   },
   "outputs": [],
   "source": []
  },
  {
   "cell_type": "code",
   "execution_count": null,
   "metadata": {},
   "outputs": [],
   "source": [
    "filename = str(date.today()) + \" temperature data.csv\"\n",
    "try:\n",
    "    df[headers] #Make sure the DataFrame is in the correct order\n",
    "    df.to_csv(filename,names=headers)\n",
    "except:\n",
    "    df = pd.DataFrame() #Create an empty data frame to append to later\n",
    "df"
   ]
  },
  {
   "cell_type": "code",
   "execution_count": null,
   "metadata": {},
   "outputs": [],
   "source": [
    "current_temp = !xadc_get_value_temp\n",
    "temp_value = float(current_temp[0][:5])\n",
    "temp_value"
   ]
  },
  {
   "cell_type": "code",
   "execution_count": null,
   "metadata": {
    "collapsed": true
   },
   "outputs": [],
   "source": []
  }
 ],
 "metadata": {
  "kernelspec": {
   "display_name": "Python 3",
   "language": "python",
   "name": "python3"
  },
  "language_info": {
   "codemirror_mode": {
    "name": "ipython",
    "version": 3
   },
   "file_extension": ".py",
   "mimetype": "text/x-python",
   "name": "python",
   "nbconvert_exporter": "python",
   "pygments_lexer": "ipython3",
   "version": "3.5.2"
  }
 },
 "nbformat": 4,
 "nbformat_minor": 2
}
