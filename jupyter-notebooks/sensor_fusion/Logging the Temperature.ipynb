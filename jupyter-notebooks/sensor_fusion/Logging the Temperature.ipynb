{
 "cells": [
  {
   "cell_type": "markdown",
   "metadata": {},
   "source": [
    "# Logging the Temperature\n",
    "The simplest way to get the internal Red Pitaya temperature is to use `monitor -ams` as described in the documentation\n",
    "https://redpitaya.readthedocs.io/en/latest/appsFeatures/command_line_tools/com_line_tool.html#monitor-utility\n",
    "\n",
    "The results of this can be parsed using the `split` command and selecting item 7."
   ]
  },
  {
   "cell_type": "code",
   "execution_count": 1,
   "metadata": {},
   "outputs": [],
   "source": [
    "from subprocess import run, PIPE\n",
    "monitor_ams_output = run([\"monitor\",\"-ams\"], stdout=PIPE).stdout\n",
    "temp_value = float(monitor_ams_output.split(maxsplit=8)[7])"
   ]
  },
  {
   "cell_type": "code",
   "execution_count": 2,
   "metadata": {},
   "outputs": [
    {
     "data": {
      "text/plain": [
       "70.625"
      ]
     },
     "execution_count": 2,
     "metadata": {},
     "output_type": "execute_result"
    }
   ],
   "source": [
    "temp_value"
   ]
  },
  {
   "cell_type": "markdown",
   "metadata": {},
   "source": [
    "Collect the temperature for a set number of minutes (by default 1)."
   ]
  },
  {
   "cell_type": "code",
   "execution_count": 3,
   "metadata": {},
   "outputs": [
    {
     "data": {
      "text/plain": [
       "'Collecting temperature finished 13 values recorded.'"
      ]
     },
     "metadata": {},
     "output_type": "display_data"
    }
   ],
   "source": [
    "import time\n",
    "from IPython.display import display, clear_output\n",
    "\n",
    "temp_list = [temp_value] #Store the values here\n",
    "minutes = 1 # Time to record the temerature values\n",
    "rate = 5 # Record every 15 seconds\n",
    "\n",
    "t_end = time.time() + minutes * 60\n",
    "timer = int(t_end-time.time())\n",
    "recorded_this_step = False\n",
    "\n",
    "while time.time() < t_end:\n",
    "    monitor_ams_output = run([\"monitor\",\"-ams\"], stdout=PIPE).stdout\n",
    "    temp_value = float(monitor_ams_output.split(maxsplit=8)[7])\n",
    "    #Add a temperature to the list every 15 seconds\n",
    "    if (timer % rate==0 and recorded_this_step==False):\n",
    "        temp_list.append(temp_value)\n",
    "        recorded_this_step=True\n",
    "    else:\n",
    "        recorded_this_step = False\n",
    "    \n",
    "    clear_output(wait=True)\n",
    "    display('Collecting temperatures. Time left: '+str(timer)+' Seconds. '+str(len(temp_list)) + ' value(s) recorded.')\n",
    "    timer = int(t_end-time.time())\n",
    "    time.sleep(0.5)\n",
    "#temp_list.append(temp_value)\n",
    "\n",
    "clear_output(wait=True)\n",
    "display('Collecting temperature finished ' + str(len(temp_list)) + ' values recorded.')"
   ]
  },
  {
   "cell_type": "code",
   "execution_count": 4,
   "metadata": {},
   "outputs": [
    {
     "data": {
      "image/png": "[encoded data removed]",
      "text/plain": [
       "<matplotlib.figure.Figure at 0xb474ccd0>"
      ]
     },
     "metadata": {},
     "output_type": "display_data"
    }
   ],
   "source": [
    "import matplotlib.pyplot as plt\n",
    "import numpy as np\n",
    "\n",
    "N = len(temp_list)\n",
    "t_vec = np.append(np.arange(0,minutes,(rate/60)),minutes) # time vector for plotting\n",
    "\n",
    "plt.plot(t_vec,temp_list)  # Plot some data on the (implicit) axes.\n",
    "plt.xlabel('Time (Minutes)')\n",
    "plt.ylabel('Temprature (C)')\n",
    "plt.title(\"Temperature - Arcylic Case with Fan\")\n",
    "plt.show()"
   ]
  },
  {
   "cell_type": "code",
   "execution_count": 5,
   "metadata": {
    "scrolled": false
   },
   "outputs": [
    {
     "data": {
      "text/plain": [
       "14"
      ]
     },
     "execution_count": 5,
     "metadata": {},
     "output_type": "execute_result"
    }
   ],
   "source": [
    "t_vec = np.append(np.arange(0,minutes+0.01,(rate/60)),minutes)\n",
    "len(t_vec)"
   ]
  },
  {
   "cell_type": "code",
   "execution_count": 6,
   "metadata": {},
   "outputs": [
    {
     "data": {
      "text/plain": [
       "14"
      ]
     },
     "execution_count": 6,
     "metadata": {},
     "output_type": "execute_result"
    }
   ],
   "source": [
    "monitor_ams_output = run([\"monitor\",\"-ams\"], stdout=PIPE).stdout\n",
    "temp_value = float(monitor_ams_output.split(maxsplit=8)[7])\n",
    "temp_list = np.append(temp_list,temp_value)\n",
    "len(temp_list)"
   ]
  },
  {
   "cell_type": "code",
   "execution_count": 7,
   "metadata": {},
   "outputs": [
    {
     "data": {
      "text/plain": [
       "array([ 70.625,  69.641,  69.764,  70.01 ,  69.518,  69.764,  69.764,\n",
       "        69.887,  69.764,  69.641,  69.764,  69.887,  69.518,  70.625])"
      ]
     },
     "execution_count": 7,
     "metadata": {},
     "output_type": "execute_result"
    }
   ],
   "source": [
    "temp_list"
   ]
  }
 ],
 "metadata": {
  "kernelspec": {
   "display_name": "Python 3",
   "language": "python",
   "name": "python3"
  },
  "language_info": {
   "codemirror_mode": {
    "name": "ipython",
    "version": 3
   },
   "file_extension": ".py",
   "mimetype": "text/x-python",
   "name": "python",
   "nbconvert_exporter": "python",
   "pygments_lexer": "ipython3",
   "version": "3.5.2"
  }
 },
 "nbformat": 4,
 "nbformat_minor": 2
}
