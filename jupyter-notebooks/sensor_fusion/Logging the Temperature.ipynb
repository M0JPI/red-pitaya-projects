{
 "cells": [
  {
   "cell_type": "markdown",
   "metadata": {},
   "source": [
    "# Logging the Temperature\n",
    "The simplest way to get the internal Red Pitaya temperature is to use `xadc_get_value_temp` as described in the forum post below\n",
    "https://forum.redpitaya.com/viewtopic.php?t=1078 \n",
    "\n",
    "This command can be run repeatedly to create a graph\n",
    "\n",
    "Get the current temperature, this is returned as a string "
   ]
  },
  {
   "cell_type": "code",
   "execution_count": 4,
   "metadata": {
    "collapsed": true
   },
   "outputs": [],
   "source": [
    "current_temp = !xadc_get_value_temp"
   ]
  },
  {
   "cell_type": "code",
   "execution_count": 5,
   "metadata": {},
   "outputs": [
    {
     "data": {
      "text/plain": [
       "['66.44 Degree Celsius']"
      ]
     },
     "execution_count": 5,
     "metadata": {},
     "output_type": "execute_result"
    }
   ],
   "source": [
    "current_temp"
   ]
  },
  {
   "cell_type": "markdown",
   "metadata": {},
   "source": [
    "Use only the first 5 characters and return them as a floating point number"
   ]
  },
  {
   "cell_type": "code",
   "execution_count": 6,
   "metadata": {},
   "outputs": [],
   "source": [
    "temp_value = float(current_temp[0][:5])"
   ]
  },
  {
   "cell_type": "markdown",
   "metadata": {},
   "source": [
    "Collect the temperature for 15 minutes"
   ]
  },
  {
   "cell_type": "code",
   "execution_count": 7,
   "metadata": {},
   "outputs": [
    {
     "data": {
      "text/plain": [
       "'Collecting temperature finished 13 values recorded.'"
      ]
     },
     "metadata": {},
     "output_type": "display_data"
    }
   ],
   "source": [
    "import time\n",
    "from IPython.display import display, clear_output\n",
    "\n",
    "temp_list = [temp_value] #Store the values here\n",
    "minutes = 1 # Time to record the temerature values\n",
    "rate = 5 # Record every 15 seconds\n",
    "\n",
    "t_end = time.time() + minutes * 60\n",
    "timer = int(t_end-time.time())\n",
    "recorded_this_step = False\n",
    "\n",
    "while time.time() < t_end:\n",
    "    current_temp = !xadc_get_value_temp\n",
    "    temp_value = float(current_temp[0][:5])\n",
    "    #Add a temperature to the list every 15 seconds\n",
    "    if (timer % rate==0 and recorded_this_step==False):\n",
    "        temp_list.append(temp_value)\n",
    "        recorded_this_step=True\n",
    "    else:\n",
    "        recorded_this_step = False\n",
    "    \n",
    "    clear_output(wait=True)\n",
    "    display('Collecting temperatures. Time left: '+str(timer)+' Seconds. '+str(len(temp_list)) + ' value(s) recorded.')\n",
    "    timer = int(t_end-time.time())\n",
    "    time.sleep(0.5)\n",
    "#temp_list.append(temp_value)\n",
    "\n",
    "clear_output(wait=True)\n",
    "display('Collecting temperature finished ' + str(len(temp_list)) + ' values recorded.')"
   ]
  },
  {
   "cell_type": "code",
   "execution_count": 9,
   "metadata": {},
   "outputs": [
    {
     "data": {
      "image/png": "[encoded data removed]",
      "text/plain": [
       "<matplotlib.figure.Figure at 0xae8c0410>"
      ]
     },
     "metadata": {},
     "output_type": "display_data"
    }
   ],
   "source": [
    "import matplotlib.pyplot as plt\n",
    "import numpy as np\n",
    "\n",
    "N = len(temp_list)\n",
    "t_vec = np.append(np.arange(0,minutes,(rate/60)),minutes) # time vector for plotting\n",
    "\n",
    "plt.plot(t_vec,temp_list)  # Plot some data on the (implicit) axes.\n",
    "plt.xlabel('Time (Minutes)')\n",
    "plt.ylabel('Temprature (C)')\n",
    "plt.title(\"Temperature - Arcylic Case with Fan\")\n",
    "plt.show()"
   ]
  },
  {
   "cell_type": "code",
   "execution_count": 10,
   "metadata": {
    "scrolled": false
   },
   "outputs": [
    {
     "data": {
      "text/plain": [
       "14"
      ]
     },
     "execution_count": 10,
     "metadata": {},
     "output_type": "execute_result"
    }
   ],
   "source": [
    "t_vec = np.append(np.arange(0,minutes+0.01,(rate/60)),minutes)\n",
    "len(t_vec)"
   ]
  },
  {
   "cell_type": "code",
   "execution_count": 11,
   "metadata": {},
   "outputs": [
    {
     "data": {
      "text/plain": [
       "14"
      ]
     },
     "execution_count": 11,
     "metadata": {},
     "output_type": "execute_result"
    }
   ],
   "source": [
    "temp_value = float(current_temp[0][:5])\n",
    "temp_list = np.append(temp_list,temp_value)\n",
    "len(temp_list)"
   ]
  },
  {
   "cell_type": "code",
   "execution_count": 12,
   "metadata": {},
   "outputs": [
    {
     "data": {
      "text/plain": [
       "66.44"
      ]
     },
     "execution_count": 12,
     "metadata": {},
     "output_type": "execute_result"
    }
   ],
   "source": [
    "current_temp = !xadc_get_value_temp\n",
    "float(current_temp[0][:5])"
   ]
  },
  {
   "cell_type": "code",
   "execution_count": 13,
   "metadata": {},
   "outputs": [
    {
     "data": {
      "text/plain": [
       "14"
      ]
     },
     "execution_count": 13,
     "metadata": {},
     "output_type": "execute_result"
    }
   ],
   "source": [
    "len(temp_list)"
   ]
  }
 ],
 "metadata": {
  "kernelspec": {
   "display_name": "Python 3",
   "language": "python",
   "name": "python3"
  },
  "language_info": {
   "codemirror_mode": {
    "name": "ipython",
    "version": 3
   },
   "file_extension": ".py",
   "mimetype": "text/x-python",
   "name": "python",
   "nbconvert_exporter": "python",
   "pygments_lexer": "ipython3",
   "version": "3.5.2"
  }
 },
 "nbformat": 4,
 "nbformat_minor": 2
}
