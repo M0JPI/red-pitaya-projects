{
 "cells": [
  {
   "cell_type": "markdown",
   "metadata": {},
   "source": [
    "# Multi-Process Test\n",
    "This examples show how to run concurrent processes in Jupyter and Python."
   ]
  },
  {
   "cell_type": "code",
   "execution_count": 1,
   "metadata": {
    "collapsed": true
   },
   "outputs": [],
   "source": [
    "import concurrent.futures\n",
    "import time\n",
    "import multiprocessing\n",
    "\n",
    "my_data = 0\n",
    "\n",
    "def do_something(seconds):\n",
    "    global my_data\n",
    "    print('Sleeping {} second(s)...'.format(seconds))\n",
    "    time.sleep(seconds)\n",
    "    print(\"my_data: \" + str(my_data))\n",
    "    my_data = my_data + 1\n",
    "    return 'Done Sleeping...{}'.format(seconds)"
   ]
  },
  {
   "cell_type": "code",
   "execution_count": 2,
   "metadata": {},
   "outputs": [
    {
     "name": "stdout",
     "output_type": "stream",
     "text": [
      "Sleeping 5 second(s)...\n",
      "Sleeping 4 second(s)...\n",
      "my_data: 0\n",
      "Sleeping 3 second(s)...\n",
      "my_data: 0\n",
      "Sleeping 2 second(s)...\n",
      "Done Sleeping...5\n",
      "Done Sleeping...4\n",
      "my_data: 1\n",
      "Sleeping 1 second(s)...\n",
      "my_data: 1\n",
      "Done Sleeping...3\n",
      "Done Sleeping...2\n",
      "my_data: 2\n",
      "Done Sleeping...1\n",
      "my_data: 0\n",
      "Finished in 8.15 second(s)\n"
     ]
    }
   ],
   "source": [
    "start = time.perf_counter()\n",
    "\n",
    "with concurrent.futures.ProcessPoolExecutor() as executor:\n",
    "    secs = [5, 4, 3, 2, 1]\n",
    "    results = executor.map(do_something, secs)\n",
    "\n",
    "    for result in results:\n",
    "        print(result)\n",
    "\n",
    "finish = time.perf_counter()\n",
    "time_taken = round(finish-start, 2)\n",
    "\n",
    "print(\"my_data: \" + str(my_data))\n",
    "print('Finished in {} second(s)'.format(time_taken))"
   ]
  }
 ],
 "metadata": {
  "kernelspec": {
   "display_name": "Python 3",
   "language": "python",
   "name": "python3"
  },
  "language_info": {
   "codemirror_mode": {
    "name": "ipython",
    "version": 3
   },
   "file_extension": ".py",
   "mimetype": "text/x-python",
   "name": "python",
   "nbconvert_exporter": "python",
   "pygments_lexer": "ipython3",
   "version": "3.5.2"
  }
 },
 "nbformat": 4,
 "nbformat_minor": 2
}
