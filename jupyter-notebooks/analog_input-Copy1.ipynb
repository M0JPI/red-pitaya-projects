{
 "cells": [
  {
   "cell_type": "markdown",
   "metadata": {},
   "source": [
    "# Analog input\n",
    "\n",
    "Slow analog inputs provide a convenient way to convenient way to acquire slow changing analog signals.\n",
    "All four analog inputs are located on the E2 connector, depicted on the picture below and have a maximum input voltage rating of 7 V .\n",
    "\n",
    "![alt text](img/Extension_connector.png \"STEMlab extention connector.\")"
   ]
  },
  {
   "cell_type": "markdown",
   "metadata": {},
   "source": [
    "## Overlay\n",
    "\n",
    "We will start with loading the FPGA bitstream and the device tree overlay."
   ]
  },
  {
   "cell_type": "code",
   "execution_count": 1,
   "metadata": {
    "collapsed": true
   },
   "outputs": [],
   "source": [
    "from redpitaya.overlay.mercury import mercury as FPGA\n",
    "overlay = FPGA()"
   ]
  },
  {
   "cell_type": "markdown",
   "metadata": {},
   "source": [
    "The next line loads the **analog_in** module that allows python to read  **Analog inputs** on the STEAMlab board.\n",
    "\n",
    "We will start with one analog input, lets select **Analog input 0**."
   ]
  },
  {
   "cell_type": "code",
   "execution_count": 2,
   "metadata": {
    "collapsed": true
   },
   "outputs": [],
   "source": [
    "singleInput = FPGA.analog_in(0)"
   ]
  },
  {
   "cell_type": "markdown",
   "metadata": {},
   "source": [
    "Here we will read the value on the input and print the value."
   ]
  },
  {
   "cell_type": "code",
   "execution_count": 3,
   "metadata": {},
   "outputs": [
    {
     "name": "stdout",
     "output_type": "stream",
     "text": [
      "0.027390718937875754\n"
     ]
    }
   ],
   "source": [
    "print(singleInput.read())"
   ]
  },
  {
   "cell_type": "markdown",
   "metadata": {},
   "source": [
    "The value printed above is the voltage applied on the  **Analog input 0** pin measured in Volts.\n",
    "\n",
    "Lets make a formatted output where we will make that apparent. Also we will format the output, so that only 2 decimal places will be displayed."
   ]
  },
  {
   "cell_type": "code",
   "execution_count": 4,
   "metadata": {},
   "outputs": [
    {
     "name": "stdout",
     "output_type": "stream",
     "text": [
      "Measured voltage on Analog input pin 0 is 0.03 V\n"
     ]
    }
   ],
   "source": [
    "print('Measured voltage on Analog input pin 0 is {:.2f} V'.format(singleInput.read()))"
   ]
  },
  {
   "cell_type": "markdown",
   "metadata": {},
   "source": [
    "## Reading all 4 Analog inputs\n",
    "\n",
    "Here we use a for loop to declare all 4 channels.\n",
    "\n",
    "Then we will use another for loop to read the values from all 4 channels. We will use the same formatting from the previous example."
   ]
  },
  {
   "cell_type": "code",
   "execution_count": 3,
   "metadata": {},
   "outputs": [
    {
     "name": "stdout",
     "output_type": "stream",
     "text": [
      "0.03 V\n",
      "0.05 V\n",
      "0.02 V\n",
      "0.02 V\n"
     ]
    }
   ],
   "source": [
    "chn = 4\n",
    "channels = [FPGA.analog_in(ch) for ch in range(chn)]\n",
    "\n",
    "for ch in range(chn):\n",
    "    print('{:.2f} V'.format(channels[ch].read()))"
   ]
  },
  {
   "cell_type": "markdown",
   "metadata": {},
   "source": [
    "## Logging and plot live of data\n",
    "\n",
    "In this example we will take a measurement on all 4 analog inputs every 0.5 s. Measured points will be stored into a list `y` and visualized with BokehJS."
   ]
  },
  {
   "cell_type": "markdown",
   "metadata": {},
   "source": [
    "### Generate data\n",
    "\n",
    "To generate data we will use jupyters ability to run more than one notebook simultaneously. However before we do that we will have to manually connect output pins to the input pins as depicted in the picture bellow.\n",
    "\n",
    "![analog Loop Back](img/analogLoopBack.png \"STEMlab slow analog loop back.\")\n",
    "\n",
    "\n",
    "Now that we have created a phisical loop back open the [analog signal generator](analog_signal_generator.ipynb)  notebook run all the cells and return to this notebook. This will start an infinite loop that will generate sinus signals on all four analog outputs with different amplitudes.\n",
    "\n",
    "**Note:**  \n",
    "We do not recomend running more than 4 notebooks at the same time due to limited resources on STEMlab."
   ]
  },
  {
   "cell_type": "markdown",
   "metadata": {},
   "source": [
    "Since we want to make measurements every 0.5 second we will need to import time module and to be able plot data we will import a few modules from bokeh."
   ]
  },
  {
   "cell_type": "code",
   "execution_count": null,
   "metadata": {
    "collapsed": true
   },
   "outputs": [],
   "source": [
    "import time\n",
    "\n",
    "from bokeh.io import push_notebook, show, output_notebook\n",
    "from bokeh.models import HoverTool, Range1d\n",
    "from bokeh.plotting import figure\n",
    "from bokeh.resources import INLINE \n",
    "output_notebook(resources=INLINE)"
   ]
  },
  {
   "cell_type": "markdown",
   "metadata": {},
   "source": [
    "Next we will prepare the parameters of the plot, such as line colors, axis labels, etc.\n",
    "\n",
    "We will also prepare an empty plot that will be populated from the next cell."
   ]
  },
  {
   "cell_type": "code",
   "execution_count": null,
   "metadata": {
    "collapsed": true
   },
   "outputs": [],
   "source": [
    "colors = ('red', 'blue', 'green', 'orange')\n",
    "hover = HoverTool(mode = 'vline', tooltips=[(\"T\", \"@x\"), (\"V\", \"@y\")])\n",
    "tools = \"pan,wheel_zoom,box_zoom,reset,crosshair\"\n",
    "p = figure(plot_height=400, plot_width=900, title=\"XADC log\", toolbar_location=\"above\", tools=(tools, hover))\n",
    "p.xaxis.axis_label='time [s]'\n",
    "p.y_range=Range1d(0, 2)\n",
    "p.yaxis.axis_label='voltage [V]'\n",
    "\n",
    "# get and explicit handle to update the next show cell with\n",
    "target = show(p, notebook_handle=True)"
   ]
  },
  {
   "cell_type": "markdown",
   "metadata": {},
   "source": [
    "Here we will start sampling Analog inputs while also populating the plot. While the sampling rate is set to 0.5 sample per second, the actual sampling rate is lower as we use sleep function to delay the next sampling by 0.5 second, however we update the the plot in the same loop, which also takes time, since the sampling rate is lower."
   ]
  },
  {
   "cell_type": "code",
   "execution_count": null,
   "metadata": {
    "collapsed": true
   },
   "outputs": [],
   "source": [
    "T = 0.01 # sampling period\n",
    "x=[]\n",
    "y=[ [], [], [], [] ]\n",
    "\n",
    "r = [p.line(x, y[ch], line_width=1, line_alpha=0.7, color=colors[ch], legend=\"AI \"+str(ch)) for ch in range(chn)]\n",
    "\n",
    "# take 60 samples while simultaneously plotting the plot\n",
    "for i in range(60):\n",
    "    x.append(0) if i == 0 else x.append(x[-1]+T)\n",
    "    for ch in range(chn):\n",
    "        r[ch].data_source.data['y'].append(channels[ch].read())\n",
    "    \n",
    "    # push updates to the plot continuously using the handle (intererrupt the notebook kernel to stop)\n",
    "    push_notebook(handle=target)\n",
    "    time.sleep(T)"
   ]
  }
 ],
 "metadata": {
  "kernelspec": {
   "display_name": "Python 3",
   "language": "python",
   "name": "python3"
  },
  "language_info": {
   "codemirror_mode": {
    "name": "ipython",
    "version": 3
   },
   "file_extension": ".py",
   "mimetype": "text/x-python",
   "name": "python",
   "nbconvert_exporter": "python",
   "pygments_lexer": "ipython3",
   "version": "3.5.2"
  }
 },
 "nbformat": 4,
 "nbformat_minor": 2
}
